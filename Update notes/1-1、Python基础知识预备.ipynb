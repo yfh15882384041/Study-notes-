{
 "cells": [
  {
   "cell_type": "markdown",
   "metadata": {},
   "source": [
    "# Python学习笔记\n",
    "- 要有做笔记的习惯\n",
    "- 丘比特笔记本的用法\n",
    "\n",
    "# Python基础知识预备\n",
    "- 计算机语言简介：\n",
    "  - 语言是交流的工具，沟通的媒介；\n",
    "  - 计算机语言是人与计算机交流的工具，翻译官；\n",
    "  - Python是计算机交流语言中的一种。\n",
    "- Python编程语言：\n",
    "  - 1、代码：人类语言，同代码命令机器交流；\n",
    "  - 2、Python解释器：就是担任翻译工作的；\n",
    "  - 3、流程：写代码，执行。\n",
    "- python简史：\n",
    "  - 1989年Guido van Rossum；\n",
    "  - 2008： python3.0 诞生；\n",
    "  - 2014： 宣布2.7支持到2020；\n",
    "  - 2017： AI元年，Python崛起。\n",
    "- 环境：\n",
    "  - 1、学习环境：直播课；\n",
    "  - 2、讲义+代码在github上。\n",
    "\n",
    "\n"
   ]
  },
  {
   "cell_type": "code",
   "execution_count": null,
   "metadata": {},
   "outputs": [],
   "source": []
  }
 ],
 "metadata": {
  "kernelspec": {
   "display_name": "Python 3",
   "language": "python",
   "name": "python3"
  },
  "language_info": {
   "codemirror_mode": {
    "name": "ipython",
    "version": 3
   },
   "file_extension": ".py",
   "mimetype": "text/x-python",
   "name": "python",
   "nbconvert_exporter": "python",
   "pygments_lexer": "ipython3",
   "version": "3.6.5"
  }
 },
 "nbformat": 4,
 "nbformat_minor": 2
}
