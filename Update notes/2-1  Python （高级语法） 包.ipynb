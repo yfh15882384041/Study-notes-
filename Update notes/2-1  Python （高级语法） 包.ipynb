{
 "cells": [
  {
   "cell_type": "markdown",
   "metadata": {},
   "source": [
    "# 模块\n",
    "- 一个模块就是一个包含pytho代码的文件，后缀名是.py  模块就是个python文件\n",
    "- 为什么我们要用模块\n",
    "  - 程序太大，编写维护非常不方便，需要拆分\n",
    "  - 模块可以增加代码重复利用的方式\n",
    "  - 当做命名空间使用，避免命名冲突\n",
    "- 如何定义模块\n",
    "  - 模块就是一个普通文件，所有任何代码可以直接书写\n",
    "  - 不过根据模块的规范，最好在模块中编写以下内容\n",
    "    - 函数：单一功能\n",
    "    - 类：相关功能的组合，或者类似业务模块\n",
    "    - 测试代码\n",
    "- 如何使用模块\n",
    "  - 模块直接导入\n",
    "    - 加入模块名称直接以数字开头，需要借助importlib帮助\n",
    "  - 语法\n",
    "    - import module_name(也就是文件名）\n",
    "    - module_name.function_name\n",
    "    - module_name.class_name\n",
    "    - 案列：p01.py，p02.py ,01.py\n",
    "   \n",
    "  - import 模块 as 别名\n",
    "    - 导入的同时给模块起一个别名\n",
    "    - 其余用法跟一种相同\n",
    "    - 案列p03.py\n",
    "    \n",
    "  - from module_name import func_name, class_name\n",
    "    - 上述方法是有选择性的导入\n",
    "    - 使用的时候可以直接导入的内容，不需要前缀\n",
    "    - 案列p04.py\n",
    "    \n",
    "  - from module_name import *\n",
    "    - 导入模块所有内容\n",
    "    - 案列p05.py\n",
    "    \n",
    "  - if __name__ == \"__main__\"的使用\n",
    "    - 可以有效避免模块代码被导入的时候被动执行的问题\n",
    "    - 建议所有程序的入口都已此代码为入口\n",
    "    \n",
    "### \n",
    "- 模块的搜索路径和储存\n",
    "  - 什么是模块的搜索路径\n",
    "    - 加载模块的时候，系统会在那些地方寻找此模块\n",
    "- 系统默认的模块搜索路径\n",
    "  - import sys\n",
    "  - sys.path  属性可以获取路径列表\n",
    "- 添加搜索路径\n",
    "  - sys.path.append(dir)\n",
    "- 模块的加载顺序\n",
    "  - 1.上搜索内存中已经加载好的模块\n",
    "  - 2.搜索Python的内置模块\n",
    "  - 3.搜索sys.path路径\n",
    "\n",
    "\n",
    "### \n",
    "- 包 : 是一种组织管理代码的方式，包里面存放的是模块。\n",
    "  - 用于将模块包含在一起的文件就是包\n",
    "  - 自定义包的结构：\n",
    "           \n",
    "           /、、、包\n",
    "           /、、、/、、、__init__.py  包的标志文件\n",
    "           /、、、/、、、模块1\n",
    "           /、、、/、、、模块2\n",
    "           /、、、/、、、字包（子文件）\n",
    "           /、、、/、、、/、、、__init__.py  包的标志文件\n",
    "           /、、、/、、、/、、、子包模块1\n",
    "           /、、、/、、、/、、、子包模块2\n",
    " \n",
    "- 包的导入操作 \n",
    "  - import package_name\n",
    "    - 直接导入一个包，可以使用__init__.py中的内容\n",
    "    - 使用方法是：\n",
    "             \n",
    "             package_name.func_name\n",
    "             package_name.class_name.func_name()\n",
    "    - 此种方式的访问内容是\n",
    "    - 案列 pkg01，p07.py\n",
    "  - import package_name as p\n",
    "    - 具体用法跟作用方式，跟上述简单导入一致\n",
    "    - 注意的是此种方法是默认对__init__.py内容的导入\n",
    "  - import package.module\n",
    "    - 导入包中某个具体的模块\n",
    "    - 使用方法\n",
    "    \n",
    "           package.module.func_name\n",
    "           package.module.class.fun()\n",
    "           package.module.class.var\n",
    "    - 看案列p08.py文件\n",
    "  - import package.module as pm\n",
    "    - 同上述不在做说明\n",
    "- from ... import 导入\n",
    "  - from package import module\n",
    "  - 此种导入方法不执行__init__的内容\n",
    "  \n",
    "          from pkg01 import p01\n",
    "          p01.say()\n",
    "  - from package import *\n",
    "    - 导入当前包\"__init__.py\"文件中所有的函数和类\n",
    "    - 使用方法\n",
    "    \n",
    "            func_name()\n",
    "            class_name.func_name()\n",
    "            class_name.var\n",
    "    - 案列p09.py文件\n",
    "- from package.module import *\n",
    "  - 导入包中指定的模块的所有内容\n",
    "  - 使用方法：\n",
    "  \n",
    "             func_name()\n",
    "             class_name.func_name()\n",
    "             \n",
    "- 在开发环境中经常会用到其他模块，可以在当前包中直接导入其他模块中的内容\n",
    "  - import 完整的包或者模块的路径\n",
    "- \"__all__\"的用法\n",
    "  - 在使用from package import *的时候  *可以导入的内容\n",
    "  - \"__init__.py\"中如果文件为空，或者没有\"__all__\"    那么只把\"__init__\"中的内容\n",
    "  - __init__ 如果设置了 __all__ 的值，那么则按照 __all__ 指定的字包或者模块进行，如此则不会载入 __init__ 中的内容\n",
    "  - __all__=[\"module1\", \"module2\",\"package1\".....]\n",
    "  \n",
    "###\n",
    "- 命名空间\n",
    "- 用于区分不同位置不同功能但相同名称的函数或者变量的一个特定前缀\n",
    "- 作用是防止命名冲突\n",
    "      \n",
    "         setname()\n",
    "         Student.setname()\n",
    "         Dog.setname()"
   ]
  },
  {
   "cell_type": "code",
   "execution_count": 2,
   "metadata": {},
   "outputs": [
    {
     "ename": "ModuleNotFoundError",
     "evalue": "No module named 'p01'",
     "output_type": "error",
     "traceback": [
      "\u001b[1;31m---------------------------------------------------------------------------\u001b[0m",
      "\u001b[1;31mModuleNotFoundError\u001b[0m                       Traceback (most recent call last)",
      "\u001b[1;32m<ipython-input-2-28c7bf421510>\u001b[0m in \u001b[0;36m<module>\u001b[1;34m()\u001b[0m\n\u001b[0;32m     17\u001b[0m \u001b[1;31m#  操作如下.py文件中的代码\u001b[0m\u001b[1;33m\u001b[0m\u001b[1;33m\u001b[0m\u001b[0m\n\u001b[0;32m     18\u001b[0m \u001b[1;33m\u001b[0m\u001b[0m\n\u001b[1;32m---> 19\u001b[1;33m \u001b[1;32mimport\u001b[0m \u001b[0mp01\u001b[0m\u001b[1;33m\u001b[0m\u001b[0m\n\u001b[0m\u001b[0;32m     20\u001b[0m \u001b[1;33m\u001b[0m\u001b[0m\n\u001b[0;32m     21\u001b[0m \u001b[0mstu\u001b[0m \u001b[1;33m=\u001b[0m \u001b[0mp01\u001b[0m\u001b[1;33m.\u001b[0m\u001b[0mStudent\u001b[0m\u001b[1;33m(\u001b[0m\u001b[1;34m\"xiaojing\"\u001b[0m\u001b[1;33m,\u001b[0m\u001b[1;36m22\u001b[0m\u001b[1;33m)\u001b[0m\u001b[1;33m\u001b[0m\u001b[0m\n",
      "\u001b[1;31mModuleNotFoundError\u001b[0m: No module named 'p01'"
     ]
    }
   ],
   "source": [
    "# 定义一个类\n",
    "# 一个sayhello函数\n",
    "#一个打印语句\n",
    "#p01.py文件\n",
    "class Student():\n",
    "    def __init__(self,name=\"yfh\",age=22):\n",
    "        self.name = name\n",
    "        self.age = age\n",
    "        \n",
    "    def say(self):\n",
    "        print(\"你的名字是[0],年龄{1}\".format(name,age))\n",
    "        \n",
    "def kk(self):\n",
    "    print(\"欢迎你\")\n",
    "\n",
    "#此判断语句建议一直作为程序的入口   编程习惯\n",
    "if __name__ ==  \"__main__\":    \n",
    "    print(\"我是p01.py文件\")    \n",
    "# 假设以上代码组成一个.py的文件名称为p01    我要在另一个文件中使用  \n",
    "\n",
    "\n",
    "\n",
    "\n",
    "#  操作如下.py文件中的代码\n",
    "#本文件命名为p02.py\n",
    "import p01\n",
    "\n",
    "stu = p01.Student(\"xiaojing\",22)\n",
    "stu.say()\n",
    "stu.kk()\n",
    "\n",
    "# 当加入模块名称直接以数字开头  例如  01.py，需要借助importlib帮助\n",
    "#如下：\n",
    "import importlib\n",
    "tuling = importlib.import_module(\"01\")  #相当于导入了一个叫01的模块并把导入模块赋值给了tuling\n",
    "stu = tuling.Student()\n",
    "stu.say()\n"
   ]
  },
  {
   "cell_type": "code",
   "execution_count": 3,
   "metadata": {},
   "outputs": [
    {
     "ename": "ModuleNotFoundError",
     "evalue": "No module named 'p01'",
     "output_type": "error",
     "traceback": [
      "\u001b[1;31m---------------------------------------------------------------------------\u001b[0m",
      "\u001b[1;31mModuleNotFoundError\u001b[0m                       Traceback (most recent call last)",
      "\u001b[1;32m<ipython-input-3-f62aa43c7645>\u001b[0m in \u001b[0;36m<module>\u001b[1;34m()\u001b[0m\n\u001b[0;32m      1\u001b[0m \u001b[1;31m#import 模块 as 别名\u001b[0m\u001b[1;33m\u001b[0m\u001b[1;33m\u001b[0m\u001b[0m\n\u001b[0;32m      2\u001b[0m \u001b[1;31m#将本文件命名为p03.py\u001b[0m\u001b[1;33m\u001b[0m\u001b[1;33m\u001b[0m\u001b[0m\n\u001b[1;32m----> 3\u001b[1;33m \u001b[1;32mimport\u001b[0m \u001b[0mp01\u001b[0m \u001b[1;32mas\u001b[0m \u001b[0mp\u001b[0m\u001b[1;33m\u001b[0m\u001b[0m\n\u001b[0m\u001b[0;32m      4\u001b[0m \u001b[0mstu\u001b[0m \u001b[1;33m=\u001b[0m \u001b[0mp\u001b[0m\u001b[1;33m.\u001b[0m\u001b[0mStudent\u001b[0m\u001b[1;33m(\u001b[0m\u001b[1;34m\"yueyue\"\u001b[0m\u001b[1;33m,\u001b[0m\u001b[1;36m18\u001b[0m\u001b[1;33m)\u001b[0m\u001b[1;33m\u001b[0m\u001b[0m\n\u001b[0;32m      5\u001b[0m \u001b[0mstu\u001b[0m\u001b[1;33m.\u001b[0m\u001b[0msay\u001b[0m\u001b[1;33m(\u001b[0m\u001b[1;33m)\u001b[0m\u001b[1;33m\u001b[0m\u001b[0m\n",
      "\u001b[1;31mModuleNotFoundError\u001b[0m: No module named 'p01'"
     ]
    }
   ],
   "source": [
    "#import 模块 as 别名\n",
    "#将本文件命名为p03.py\n",
    "import p01 as p\n",
    "stu = p.Student(\"yueyue\",18)\n",
    "stu.say()"
   ]
  },
  {
   "cell_type": "code",
   "execution_count": 4,
   "metadata": {},
   "outputs": [
    {
     "ename": "ModuleNotFoundError",
     "evalue": "No module named 'p01'",
     "output_type": "error",
     "traceback": [
      "\u001b[1;31m---------------------------------------------------------------------------\u001b[0m",
      "\u001b[1;31mModuleNotFoundError\u001b[0m                       Traceback (most recent call last)",
      "\u001b[1;32m<ipython-input-4-036a583d4153>\u001b[0m in \u001b[0;36m<module>\u001b[1;34m()\u001b[0m\n\u001b[0;32m      2\u001b[0m \u001b[1;31m#上述方法是有选择性的导入\u001b[0m\u001b[1;33m\u001b[0m\u001b[1;33m\u001b[0m\u001b[0m\n\u001b[0;32m      3\u001b[0m \u001b[1;31m#使用的时候可以直接导入的内容，不需要前缀\u001b[0m\u001b[1;33m\u001b[0m\u001b[1;33m\u001b[0m\u001b[0m\n\u001b[1;32m----> 4\u001b[1;33m \u001b[1;32mfrom\u001b[0m \u001b[0mp01\u001b[0m \u001b[1;32mimport\u001b[0m \u001b[0mStudent\u001b[0m\u001b[1;33m\u001b[0m\u001b[0m\n\u001b[0m\u001b[0;32m      5\u001b[0m \u001b[0mstu\u001b[0m\u001b[1;33m.\u001b[0m\u001b[0mStudent\u001b[0m\u001b[1;33m(\u001b[0m\u001b[1;33m)\u001b[0m\u001b[1;33m\u001b[0m\u001b[0m\n\u001b[0;32m      6\u001b[0m \u001b[0msay\u001b[0m\u001b[1;33m(\u001b[0m\u001b[1;33m)\u001b[0m\u001b[1;33m\u001b[0m\u001b[0m\n",
      "\u001b[1;31mModuleNotFoundError\u001b[0m: No module named 'p01'"
     ]
    }
   ],
   "source": [
    "#from module_name import func_name, class_name案列\n",
    "#上述方法是有选择性的导入\n",
    "#使用的时候可以直接导入的内容，不需要前缀\n",
    "from p01 import Student\n",
    "stu.Student()\n",
    "say()"
   ]
  },
  {
   "cell_type": "code",
   "execution_count": 1,
   "metadata": {},
   "outputs": [
    {
     "ename": "ModuleNotFoundError",
     "evalue": "No module named 'module_name'",
     "output_type": "error",
     "traceback": [
      "\u001b[1;31m---------------------------------------------------------------------------\u001b[0m",
      "\u001b[1;31mModuleNotFoundError\u001b[0m                       Traceback (most recent call last)",
      "\u001b[1;32m<ipython-input-1-f0c1a4767f16>\u001b[0m in \u001b[0;36m<module>\u001b[1;34m()\u001b[0m\n\u001b[0;32m      1\u001b[0m \u001b[1;31m#from module_name import *  案列\u001b[0m\u001b[1;33m\u001b[0m\u001b[1;33m\u001b[0m\u001b[0m\n\u001b[1;32m----> 2\u001b[1;33m \u001b[1;32mfrom\u001b[0m \u001b[0mmodule_name\u001b[0m \u001b[1;32mimport\u001b[0m \u001b[1;33m*\u001b[0m\u001b[1;33m\u001b[0m\u001b[0m\n\u001b[0m\u001b[0;32m      3\u001b[0m \u001b[0msay\u001b[0m\u001b[1;33m(\u001b[0m\u001b[1;33m)\u001b[0m\u001b[1;33m\u001b[0m\u001b[0m\n\u001b[0;32m      4\u001b[0m \u001b[1;33m\u001b[0m\u001b[0m\n\u001b[0;32m      5\u001b[0m \u001b[0mstu\u001b[0m \u001b[1;33m=\u001b[0m \u001b[0mStudent\u001b[0m\u001b[1;33m(\u001b[0m\u001b[1;34m\"yueyu\"\u001b[0m\u001b[1;33m,\u001b[0m\u001b[1;36m21\u001b[0m\u001b[1;33m)\u001b[0m\u001b[1;33m\u001b[0m\u001b[0m\n",
      "\u001b[1;31mModuleNotFoundError\u001b[0m: No module named 'module_name'"
     ]
    }
   ],
   "source": [
    "#from module_name import *  案列\n",
    "from module_name import *\n",
    "say()\n",
    "\n",
    "stu = Student(\"yueyu\",21)\n",
    "stu.say()"
   ]
  },
  {
   "cell_type": "code",
   "execution_count": 4,
   "metadata": {},
   "outputs": [
    {
     "name": "stdout",
     "output_type": "stream",
     "text": [
      "\n",
      "C:\\Users\\asus\\Anaconda3\\python36.zip\n",
      "C:\\Users\\asus\\Anaconda3\\DLLs\n",
      "C:\\Users\\asus\\Anaconda3\\lib\n",
      "C:\\Users\\asus\\Anaconda3\n",
      "C:\\Users\\asus\\Anaconda3\\lib\\site-packages\n",
      "C:\\Users\\asus\\Anaconda3\\lib\\site-packages\\win32\n",
      "C:\\Users\\asus\\Anaconda3\\lib\\site-packages\\win32\\lib\n",
      "C:\\Users\\asus\\Anaconda3\\lib\\site-packages\\Pythonwin\n",
      "C:\\Users\\asus\\Anaconda3\\lib\\site-packages\\IPython\\extensions\n",
      "C:\\Users\\asus\\.ipython\n"
     ]
    }
   ],
   "source": [
    "#案列p06.py\n",
    "\n",
    "import sys\n",
    "for p in sys.path:\n",
    "    print(p)"
   ]
  },
  {
   "cell_type": "code",
   "execution_count": 5,
   "metadata": {},
   "outputs": [
    {
     "ename": "SyntaxError",
     "evalue": "invalid syntax (<ipython-input-5-69cd09890257>, line 4)",
     "output_type": "error",
     "traceback": [
      "\u001b[1;36m  File \u001b[1;32m\"<ipython-input-5-69cd09890257>\"\u001b[1;36m, line \u001b[1;32m4\u001b[0m\n\u001b[1;33m    def inInit()\u001b[0m\n\u001b[1;37m                ^\u001b[0m\n\u001b[1;31mSyntaxError\u001b[0m\u001b[1;31m:\u001b[0m invalid syntax\n"
     ]
    }
   ],
   "source": [
    "#  包\n",
    "# 定义一个文件名为：__init__.py  内容如下：\n",
    "def inInit():\n",
    "    print(\"我是一个包\")\n",
    "\n",
    "\n",
    "#import package.module的使用案列\n",
    "#案列 pkg01，p07.py\n",
    "import pkg01.p01\n",
    "\n",
    "stu = pkg01.p01.Student()\n",
    "stu.say()"
   ]
  },
  {
   "cell_type": "code",
   "execution_count": null,
   "metadata": {},
   "outputs": [],
   "source": [
    "#案列\n",
    "#下面文件为p08.py\n",
    "__all__=[\"p01\"]\n",
    "\n",
    "def inInt():\n",
    "    print(\"dada\")\n",
    "    \n",
    "#下面文件为p09.py\n",
    "from pkg02 import *\n",
    "\n",
    "stu = p01.Student()\n",
    "stu.say()"
   ]
  }
 ],
 "metadata": {
  "kernelspec": {
   "display_name": "Python 3",
   "language": "python",
   "name": "python3"
  },
  "language_info": {
   "codemirror_mode": {
    "name": "ipython",
    "version": 3
   },
   "file_extension": ".py",
   "mimetype": "text/x-python",
   "name": "python",
   "nbconvert_exporter": "python",
   "pygments_lexer": "ipython3",
   "version": "3.6.5"
  }
 },
 "nbformat": 4,
 "nbformat_minor": 2
}
