{
 "cells": [
  {
   "cell_type": "markdown",
   "metadata": {},
   "source": [
    "# log模块资料\n",
    "- https://www.cnblogs.com/yyds/p/6901864.html"
   ]
  },
  {
   "cell_type": "markdown",
   "metadata": {},
   "source": [
    "# python 语言的高级特性"
   ]
  },
  {
   "cell_type": "markdown",
   "metadata": {},
   "source": [
    "## 函数式编程（function programming）\n",
    "- 基于lambda演算的一种编程方式\n",
    "  - 程序中只有函数\n",
    "  - 函数可以作为参数，同样可以作为返回值\n",
    "  - 纯函数编程语言： LISP   Haskell\n",
    "  \n",
    "- Python 函数式编程只是借鉴函数式编程的一些特点，可以理解成一半函数式一半Python\n",
    "- 需要讲述\n",
    "  - 高阶函数\n",
    "  - 返回函数\n",
    "  - 匿名函数\n",
    "  - 装饰器\n",
    "  - 偏函数"
   ]
  },
  {
   "cell_type": "markdown",
   "metadata": {},
   "source": [
    "### lambda表达式\n",
    "- 函数： 最大程度复用代码\n",
    "  - 存在问题： 如果函数很小，很短，则会造成啰嗦\n",
    "  - 如果函数被调用次数很少，则会造成浪费\n",
    "  - 对于阅读者来说，会造成阅读流程的被迫中断\n",
    "  \n",
    "- lambda 表达式（匿名函数）：\n",
    "  - 一个表达式，函数相对简单\n",
    "  - 不是一个代码块，仅仅是一个表达式\n",
    "  - 可以有参数，有多个参数，用逗号隔开\n",
    "  - 用法：\n",
    "  \n",
    "        1. 以lambda开头\n",
    "        2. 紧跟一定的参数（如果由的话）\n",
    "        3. 参数后用冒号和表达式主体隔开\n",
    "        4. 只是一个表达式，所有，没有return"
   ]
  },
  {
   "cell_type": "code",
   "execution_count": 1,
   "metadata": {},
   "outputs": [
    {
     "name": "stdout",
     "output_type": "stream",
     "text": [
      "dadadada\n"
     ]
    }
   ],
   "source": [
    "# “小”函数举例\n",
    "def p():\n",
    "    print(\"dadadada\")\n",
    "    \n",
    "p()"
   ]
  },
  {
   "cell_type": "code",
   "execution_count": 2,
   "metadata": {},
   "outputs": [
    {
     "data": {
      "text/plain": [
       "900"
      ]
     },
     "execution_count": 2,
     "metadata": {},
     "output_type": "execute_result"
    }
   ],
   "source": [
    "#        1. 以lambda开头\n",
    "#        2. 紧跟一定的参数（如果由的话）\n",
    "#       3. 参数后用冒号和表达式主体隔开\n",
    "#      4. 只是一个表达式，所有，没有return\n",
    "\n",
    "\n",
    "#计算一个数字100倍数\n",
    "# 因为就是一个表达式，所以没有return\n",
    "\n",
    "slm = lambda n:100 * n\n",
    "# 使用跟函数调用一样\n",
    "slm(9)"
   ]
  },
  {
   "cell_type": "code",
   "execution_count": 3,
   "metadata": {},
   "outputs": [
    {
     "data": {
      "text/plain": [
       "81"
      ]
     },
     "execution_count": 3,
     "metadata": {},
     "output_type": "execute_result"
    }
   ],
   "source": [
    "ss = lambda x,y,z:x + y * 10 + z * 20\n",
    "ss(1,2,3)"
   ]
  },
  {
   "cell_type": "markdown",
   "metadata": {},
   "source": [
    "### 高阶函数\n",
    "- 把函数作为参数使用的函数，叫做高阶函数"
   ]
  },
  {
   "cell_type": "code",
   "execution_count": 5,
   "metadata": {},
   "outputs": [
    {
     "name": "stdout",
     "output_type": "stream",
     "text": [
      "哈哈\n"
     ]
    }
   ],
   "source": [
    "# 变量可以赋值\n",
    "# 函数名称就是一个变量\n",
    "def kk():\n",
    "    print(\"哈哈\")\n",
    "    \n",
    "    \n",
    "ss = kk\n",
    "ss()\n",
    "\n"
   ]
  },
  {
   "cell_type": "markdown",
   "metadata": {},
   "source": [
    "### 以上代码得出的结论\n",
    "- 函数名变量\n",
    "- ss和kk只是名称不一样而已\n",
    "- 既然函数名称是变量，则应该可以被当做参数传入另一函数"
   ]
  },
  {
   "cell_type": "code",
   "execution_count": 12,
   "metadata": {},
   "outputs": [
    {
     "name": "stdout",
     "output_type": "stream",
     "text": [
      "600\n",
      "600\n",
      "210\n"
     ]
    }
   ],
   "source": [
    "# 高阶函数举例\n",
    "# funa是一个普通函数，返回一个传入数字的100倍\n",
    "\n",
    "def funa(n):\n",
    "    return n * 100\n",
    "\n",
    "\n",
    "# 在写一个函数，把传入参数乘以300倍，利用高阶函数\n",
    "\n",
    "def funb(n):\n",
    "    # 最终返回300n\n",
    "    return funa(n) * 3\n",
    "\n",
    "print(funb(2))\n",
    "# 写一个高阶函数\n",
    "def func(n, f):\n",
    "    # 假定函数把n扩大100倍\n",
    "    return f(n) * 3\n",
    "print(func(2,funa))\n",
    "\n",
    "# 比较func和funb，显然func的写法优于funb\n",
    "#例如：\n",
    "\n",
    "def fund(n):\n",
    "    return n * 10\n",
    "\n",
    "# 需求变化，需要把你当大30倍，此时funb无法实现\n",
    "print(func(7,fund))"
   ]
  },
  {
   "cell_type": "markdown",
   "metadata": {},
   "source": [
    "###   系统高阶函数-map（映射）\n",
    "- 把集合或者列表里的元素，每一个元素都按一定规则进行操作，生成一个新的集合或者列表\n",
    "- map函数是系统提供的具有映射功能的函数，返回值是一个迭代对象"
   ]
  },
  {
   "cell_type": "code",
   "execution_count": 4,
   "metadata": {},
   "outputs": [
    {
     "name": "stdout",
     "output_type": "stream",
     "text": [
      "Help on class map in module builtins:\n",
      "\n",
      "class map(object)\n",
      " |  map(func, *iterables) --> map object\n",
      " |  \n",
      " |  Make an iterator that computes the function using arguments from\n",
      " |  each of the iterables.  Stops when the shortest iterable is exhausted.\n",
      " |  \n",
      " |  Methods defined here:\n",
      " |  \n",
      " |  __getattribute__(self, name, /)\n",
      " |      Return getattr(self, name).\n",
      " |  \n",
      " |  __iter__(self, /)\n",
      " |      Implement iter(self).\n",
      " |  \n",
      " |  __new__(*args, **kwargs) from builtins.type\n",
      " |      Create and return a new object.  See help(type) for accurate signature.\n",
      " |  \n",
      " |  __next__(self, /)\n",
      " |      Implement next(self).\n",
      " |  \n",
      " |  __reduce__(...)\n",
      " |      Return state information for pickling.\n",
      "\n"
     ]
    }
   ],
   "source": [
    "help(map)"
   ]
  },
  {
   "cell_type": "code",
   "execution_count": 11,
   "metadata": {},
   "outputs": [
    {
     "name": "stdout",
     "output_type": "stream",
     "text": [
      "[0, 1, 2, 3, 4, 5, 6, 7, 8, 9, 10]\n",
      "[0, 10, 20, 30, 40, 50, 60, 70, 80, 90, 100]\n",
      "******************************\n",
      "<map object at 0x000001D2F66C7780>\n",
      "<class 'map'>\n",
      "0\n",
      "10\n",
      "20\n",
      "30\n",
      "40\n",
      "50\n",
      "60\n",
      "70\n",
      "80\n",
      "90\n",
      "100\n",
      "[]\n"
     ]
    }
   ],
   "source": [
    "# map举例\n",
    "# 有一个列表，想对列表里的每一个元素乘以10，并得到新的列表\n",
    "\n",
    "l1 = [i for i in  range(11)]\n",
    "print(l1)\n",
    "l2 = []\n",
    "l3 = []\n",
    "for i in l1:\n",
    "    l2.append(i * 10)\n",
    "    \n",
    "print(l2)\n",
    "print(\"*\"*30)\n",
    "\n",
    "# 利用map实现\n",
    "\n",
    "def mm(n):\n",
    "    return n * 10\n",
    "\n",
    "l3 = map(mm,l1)\n",
    "# map类型是一个迭代的结构，所有可以使用for遍历\n",
    "print(l3)\n",
    "print(type(l3))\n",
    "for i in l3:\n",
    "    print(i)\n",
    "\n",
    "l4 = [i for i in l3]    \n",
    "print(l4)"
   ]
  },
  {
   "cell_type": "markdown",
   "metadata": {},
   "source": [
    "### reduce \n",
    "- 意思是归并，缩减\n",
    "- 把一个可迭代对象最后归并成一个结果\n",
    "- 对于函数参数由要求： 必须有两个参数，必须由返回结果\n",
    "- reduce([1,2,3,4,5,]) == f(f(f(f(1,2)3)4)5)\n",
    "- reduce 需要导入functools包"
   ]
  },
  {
   "cell_type": "code",
   "execution_count": 13,
   "metadata": {},
   "outputs": [
    {
     "name": "stdout",
     "output_type": "stream",
     "text": [
      "21\n"
     ]
    }
   ],
   "source": [
    "# from functools import reduce\n",
    "\n",
    "#定义一个操作函数\n",
    "#加入操作函数只是相加\n",
    "def myadd(x,y):\n",
    "    return x + y\n",
    "\n",
    "# 对于列表[1,2,3,4,5,6] 执行myadd的reduce操作\n",
    "kk = reduce(myadd, [1,2,3,4,5,6])# 两个两个的加\n",
    "print(kk)"
   ]
  },
  {
   "cell_type": "markdown",
   "metadata": {},
   "source": [
    "### filter 函数\n",
    "- 过滤函数： 对一组数据进行过滤，符合条件的数据会生成一个新的列表并返回\n",
    "- 跟map相比较：\n",
    "  - 相同： 都对列表的每一个元素逐一进行操作\n",
    "  - 不同：\n",
    "    - map会生成一个跟原来数据相对应的新列表\n",
    "    - filter不一定，只要符合条件的才会进行新的数据集合\n",
    "  - filter函数怎么写：\n",
    "    - 利用给的函数进行判断\n",
    "    - 返回值一定是个布尔值\n",
    "    - 调用格式： filter（f， date），f是过滤函数，date是数据"
   ]
  },
  {
   "cell_type": "code",
   "execution_count": 15,
   "metadata": {},
   "outputs": [
    {
     "name": "stdout",
     "output_type": "stream",
     "text": [
      "<class 'filter'>\n",
      "<filter object at 0x000001D2F66C70F0>\n",
      "******************************\n",
      "[2, 4, 6, 8, 44, 312]\n"
     ]
    }
   ],
   "source": [
    "# filter案列\n",
    "# 对于一个列表，对其进行过滤，偶数组成一个新的列表\n",
    "\n",
    "# 需要定义过滤函数\n",
    "# 过滤函数要求有输入， 返回布尔值\n",
    "def iseven(a):\n",
    "    return a % 2 == 0\n",
    "\n",
    "l = [1,2,3,4,5,6,7,8,9,44,223,312]\n",
    "kk = filter(iseven,l)\n",
    "print(type(kk))\n",
    "print(kk)\n",
    "print(\"*\"* 30)\n",
    "print([i for i in kk])"
   ]
  },
  {
   "cell_type": "markdown",
   "metadata": {},
   "source": [
    "### 高级函数——排序\n",
    "- 把一个序列按照给定算法进行排序\n",
    "- key： 在排序线对每一个元素进行key函数运算，可以理解成按照key函数定义的逻辑进行排序\n"
   ]
  },
  {
   "cell_type": "code",
   "execution_count": 16,
   "metadata": {},
   "outputs": [
    {
     "name": "stdout",
     "output_type": "stream",
     "text": [
      "[23214, 2343, 63, 54, 43, 42, 31, 23, 1, 0.1, 0]\n"
     ]
    }
   ],
   "source": [
    "# 排序的案例1\n",
    "\n",
    "a = [23,2343,54,63,43,1,42,0,31,23214,0.1]\n",
    "al = sorted(a, reverse=True)\n",
    "print(al)"
   ]
  },
  {
   "cell_type": "code",
   "execution_count": 18,
   "metadata": {},
   "outputs": [
    {
     "name": "stdout",
     "output_type": "stream",
     "text": [
      "[2222, 31, 12, -3, 3, -2, 1, -0.231, 0]\n"
     ]
    }
   ],
   "source": [
    "# 排序案例2\n",
    "b = [-2,-3,31,3,12,0,1,-0.231,2222]\n",
    "#按照绝对值进行排序\n",
    "# abs是求绝对值的意思\n",
    "al = sorted(b, key= abs,reverse=True)\n",
    "print(al)"
   ]
  },
  {
   "cell_type": "code",
   "execution_count": 20,
   "metadata": {},
   "outputs": [
    {
     "name": "stdout",
     "output_type": "stream",
     "text": [
      "['Dann', 'dahkd', 'dann', 'wangdadal']\n",
      "['dahkd', 'dann', 'Dann', 'wangdadal']\n"
     ]
    }
   ],
   "source": [
    "# sorted 案例\n",
    "dd = [\"dann\",\"Dann\",\"wangdadal\",\"dahkd\"]\n",
    "\n",
    "str1 = sorted(dd)\n",
    "print(str1)\n",
    "\n",
    "str2 = sorted(dd, key=str.lower)\n",
    "print(str2)"
   ]
  },
  {
   "cell_type": "markdown",
   "metadata": {},
   "source": [
    "# 返回函数\n",
    "- 函数可以返回具体的值\n",
    "- 也可以返回一个函数作为结果\n"
   ]
  },
  {
   "cell_type": "code",
   "execution_count": 22,
   "metadata": {},
   "outputs": [
    {
     "name": "stdout",
     "output_type": "stream",
     "text": [
      "kkakd\n",
      "None\n"
     ]
    }
   ],
   "source": [
    "# 定义一个普通函数\n",
    "def mya(a):\n",
    "    print(\"kkakd\")\n",
    "    return None\n",
    "\n",
    "a = mya(8)\n",
    "print(a)"
   ]
  },
  {
   "cell_type": "code",
   "execution_count": 27,
   "metadata": {},
   "outputs": [
    {
     "name": "stdout",
     "output_type": "stream",
     "text": [
      "<class 'function'>\n",
      "<function my1.<locals>.my2 at 0x000001D2F66C1598>\n",
      "in my2\n"
     ]
    },
    {
     "data": {
      "text/plain": [
       "3"
      ]
     },
     "execution_count": 27,
     "metadata": {},
     "output_type": "execute_result"
    }
   ],
   "source": [
    "# 函数作为返回值返回，被返回的函数在函数体内定义\n",
    "\n",
    "def my1():\n",
    "    def my2():\n",
    "        print(\"in my2\")\n",
    "        return 3\n",
    "    return my2\n",
    "\n",
    "f3 = my1()\n",
    "print(type(f3))\n",
    "print(f3)\n",
    "f3()"
   ]
  },
  {
   "cell_type": "code",
   "execution_count": 29,
   "metadata": {},
   "outputs": [
    {
     "data": {
      "text/plain": [
       "45"
      ]
     },
     "execution_count": 29,
     "metadata": {},
     "output_type": "execute_result"
    }
   ],
   "source": [
    "# 负责一点的返回函数的列子\n",
    "# args： 参数列表\n",
    "# 1. my4定义函数，返回内部定义的函数my5\n",
    "# 2. my5使用了外部变量，这个变量是my4 的参数\n",
    "\n",
    "def my4(*args):\n",
    "    def my5():\n",
    "        ll = 0 \n",
    "        for n in args:\n",
    "            ll += n\n",
    "        return ll\n",
    "    return my5\n",
    "\n",
    "f5 = my4(1,2,3,4,5,6,7,8,9,0)\n",
    "# f5 调用方式\n",
    "f5()"
   ]
  },
  {
   "cell_type": "markdown",
   "metadata": {},
   "source": [
    "## 闭包\n",
    "- 当一个函数在内部定义函数，并且内部的函数应用外部函数的参数或者局部变量，当内部函数 被作为返回值的时候，相关参数和变量保存在返回值的函数中，这种结果，叫闭包\n",
    "- 上面定义的my4是一个标准的闭包结构"
   ]
  },
  {
   "cell_type": "code",
   "execution_count": 47,
   "metadata": {},
   "outputs": [
    {
     "name": "stdout",
     "output_type": "stream",
     "text": [
      "9\n",
      "9\n",
      "9\n"
     ]
    }
   ],
   "source": [
    "# 闭包常见的坑\n",
    "\n",
    "def count():\n",
    "    # 定义一个列表\n",
    "    fk = []\n",
    "    for i in range(1,4):\n",
    "        #定义一个函数\n",
    "        def f():\n",
    "            return i * i\n",
    "        fk.append(f)\n",
    "    return fk\n",
    "\n",
    "f1,f2,f3 = count()\n",
    "print(f1())\n",
    "print(f2())\n",
    "print(f3())"
   ]
  },
  {
   "cell_type": "markdown",
   "metadata": {},
   "source": [
    "### 出现的问题：\n",
    "- 造成上述状况的原因是，返回函数引用了变量i，i非立即执行，而是等到三个函数都返回的时候才统一使用，此时i已经变成3了，最终调用的时候，都返回的是3 * 3\n",
    "- 此问题描述成：返回闭包时，返回函数不能引用任何循环变量\n",
    "- 解决方案： 在创建一个函数， 用该函数的参数绑定循环变量的当前值，无论该循环变量以后如何改变，已经绑定的函数参数不在改变。"
   ]
  },
  {
   "cell_type": "code",
   "execution_count": 48,
   "metadata": {},
   "outputs": [
    {
     "ename": "ValueError",
     "evalue": "not enough values to unpack (expected 3, got 0)",
     "output_type": "error",
     "traceback": [
      "\u001b[1;31m---------------------------------------------------------------------------\u001b[0m",
      "\u001b[1;31mValueError\u001b[0m                                Traceback (most recent call last)",
      "\u001b[1;32m<ipython-input-48-1f3f5d61cdff>\u001b[0m in \u001b[0;36m<module>\u001b[1;34m()\u001b[0m\n\u001b[0;32m     10\u001b[0m         \u001b[0mfk\u001b[0m\u001b[1;33m.\u001b[0m\u001b[0mappend\u001b[0m\u001b[1;33m(\u001b[0m\u001b[0mf\u001b[0m\u001b[1;33m(\u001b[0m\u001b[0mi\u001b[0m\u001b[1;33m)\u001b[0m\u001b[1;33m)\u001b[0m\u001b[1;33m\u001b[0m\u001b[0m\n\u001b[0;32m     11\u001b[0m     \u001b[1;32mreturn\u001b[0m \u001b[0mfk\u001b[0m\u001b[1;33m\u001b[0m\u001b[0m\n\u001b[1;32m---> 12\u001b[1;33m \u001b[0mh1\u001b[0m\u001b[1;33m,\u001b[0m \u001b[0mh2\u001b[0m\u001b[1;33m,\u001b[0m \u001b[0mh3\u001b[0m \u001b[1;33m=\u001b[0m \u001b[0mcount1\u001b[0m\u001b[1;33m(\u001b[0m\u001b[1;33m)\u001b[0m\u001b[1;33m\u001b[0m\u001b[0m\n\u001b[0m\u001b[0;32m     13\u001b[0m \u001b[0mprint\u001b[0m\u001b[1;33m(\u001b[0m\u001b[0mh1\u001b[0m\u001b[1;33m(\u001b[0m\u001b[1;33m)\u001b[0m\u001b[1;33m)\u001b[0m\u001b[1;33m\u001b[0m\u001b[0m\n\u001b[0;32m     14\u001b[0m \u001b[0mprint\u001b[0m\u001b[1;33m(\u001b[0m\u001b[0mh2\u001b[0m\u001b[1;33m(\u001b[0m\u001b[1;33m)\u001b[0m\u001b[1;33m)\u001b[0m\u001b[1;33m\u001b[0m\u001b[0m\n",
      "\u001b[1;31mValueError\u001b[0m: not enough values to unpack (expected 3, got 0)"
     ]
    }
   ],
   "source": [
    "# 闭包常见的坑\n",
    "\n",
    "def count1():\n",
    "    def f(j):\n",
    "        def kk():\n",
    "            return j * j\n",
    "    return kk\n",
    "    fk = []\n",
    "    for i in range(1,4):\n",
    "        fk.append(f(i))\n",
    "    return fk\n",
    "h1, h2, h3 = count1()\n",
    "print(h1())\n",
    "print(h2())\n",
    "print(h3())"
   ]
  },
  {
   "cell_type": "markdown",
   "metadata": {},
   "source": [
    "### 装饰器\n",
    "- 在不改动函数代码的基础上无限制扩展函数功能的一种机制，本质上讲，装饰器是一个返回函数的高阶函数\n",
    "- 装饰器的使用，使用@语法，即在每次要扩展到函数定义前使用@+函数名"
   ]
  },
  {
   "cell_type": "code",
   "execution_count": 50,
   "metadata": {},
   "outputs": [
    {
     "name": "stdout",
     "output_type": "stream",
     "text": [
      "hello world\n"
     ]
    }
   ],
   "source": [
    "def hello():\n",
    "    print(\"hello world\")\n",
    "    \n",
    "hello()"
   ]
  },
  {
   "cell_type": "code",
   "execution_count": 52,
   "metadata": {},
   "outputs": [
    {
     "name": "stdout",
     "output_type": "stream",
     "text": [
      "hello world\n"
     ]
    }
   ],
   "source": [
    "f = hello\n",
    "f()"
   ]
  },
  {
   "cell_type": "code",
   "execution_count": 59,
   "metadata": {},
   "outputs": [
    {
     "name": "stdout",
     "output_type": "stream",
     "text": [
      "2005589039440\n",
      "2005589039440\n",
      "hello\n",
      "hello\n"
     ]
    }
   ],
   "source": [
    "# f 和hello是一个函数\n",
    "print(id(f))\n",
    "print(id(hello))\n",
    "\n",
    "print(f.__name__)\n",
    "print(hello.__name__)"
   ]
  },
  {
   "cell_type": "code",
   "execution_count": 61,
   "metadata": {},
   "outputs": [
    {
     "name": "stdout",
     "output_type": "stream",
     "text": [
      "time:  Wed Jul 29 17:17:19 2020\n",
      "hello world\n"
     ]
    }
   ],
   "source": [
    "# 限制有新的需求\n",
    "# 对hello功能扩展，每次打印hello之前打印当前系统时间\n",
    "# 而实现这个功能又不能改动现有代码\n",
    "# ==>使用装饰器\n",
    "\n",
    "import time\n",
    "\n",
    "# 高阶函数，以函数作为参数\n",
    "def printtime(f):\n",
    "    def wrapper(*args, **kwargs):\n",
    "        print(\"time: \", time.ctime())  #很固定的写法\n",
    "        return f(*args, **kwargs)\n",
    "    return wrapper\n",
    "# 上面定义一个装饰器，使用的时候需要用到@\n",
    "@printtime\n",
    "def hello():\n",
    "    print(\"hello world\")\n",
    "    \n",
    "hello()"
   ]
  },
  {
   "cell_type": "code",
   "execution_count": 67,
   "metadata": {},
   "outputs": [
    {
     "name": "stdout",
     "output_type": "stream",
     "text": [
      "手动执行\n",
      "time:  Wed Jul 29 17:24:21 2020\n",
      "手动执行\n",
      "********************\n",
      "time:  Wed Jul 29 17:24:21 2020\n",
      "time:  Wed Jul 29 17:24:21 2020\n",
      "手动执行\n"
     ]
    }
   ],
   "source": [
    "# 装饰器的好处，，，一点定义，则可以装饰任意函数\n",
    "# 一旦被其装饰，则把装饰器的功能直接添加到定义函数的功能上\n",
    "# 上面对函数的装饰使用了系统定义的语法糖\n",
    "# 下面开始动手执行下装饰器\n",
    "# 首先定义函数\n",
    "\n",
    "def hello1():\n",
    "    print(\"手动执行\")\n",
    "    \n",
    "hello1()\n",
    "\n",
    "hello1 = printtime(hello1)\n",
    "hello1()\n",
    "print(\"*\"*20)\n",
    "\n",
    "l = printtime(hello1)\n",
    "l()"
   ]
  },
  {
   "cell_type": "markdown",
   "metadata": {},
   "source": [
    "### 偏函数"
   ]
  },
  {
   "cell_type": "code",
   "execution_count": 70,
   "metadata": {},
   "outputs": [
    {
     "data": {
      "text/plain": [
       "5349"
      ]
     },
     "execution_count": 70,
     "metadata": {},
     "output_type": "execute_result"
    }
   ],
   "source": [
    "# 把字符串转化成十进制数\n",
    "int(\"12345\")\n",
    "# 求八进制的字符串12345，表示成十进制数是多少\n",
    "int(\"12345\", base=8)"
   ]
  },
  {
   "cell_type": "code",
   "execution_count": 72,
   "metadata": {},
   "outputs": [
    {
     "data": {
      "text/plain": [
       "74565"
      ]
     },
     "execution_count": 72,
     "metadata": {},
     "output_type": "execute_result"
    }
   ],
   "source": [
    "# 新建一个函数，此函数是默认输入的字符串是16进制数字\n",
    "# 把此字符串返回十进制的数字\n",
    "\n",
    "def int16(x, base=16):\n",
    "    return int(x, base)\n",
    "int16(\"12345\")"
   ]
  },
  {
   "cell_type": "markdown",
   "metadata": {},
   "source": [
    "### 偏函数\n",
    "- 参数固定的函数， 相当于一个由特定参数的函数体\n",
    "- functools.partial的作用是：一个函数某个函数固定，返回一个新的函数"
   ]
  },
  {
   "cell_type": "code",
   "execution_count": 73,
   "metadata": {},
   "outputs": [
    {
     "data": {
      "text/plain": [
       "74565"
      ]
     },
     "execution_count": 73,
     "metadata": {},
     "output_type": "execute_result"
    }
   ],
   "source": [
    "import functools\n",
    "\n",
    "# 实现上面的int16的功能\n",
    "\n",
    "int16 = functools.partial(int, base=16)\n",
    "int16(\"12345\")"
   ]
  }
 ],
 "metadata": {
  "kernelspec": {
   "display_name": "Python 3",
   "language": "python",
   "name": "python3"
  },
  "language_info": {
   "codemirror_mode": {
    "name": "ipython",
    "version": 3
   },
   "file_extension": ".py",
   "mimetype": "text/x-python",
   "name": "python",
   "nbconvert_exporter": "python",
   "pygments_lexer": "ipython3",
   "version": "3.6.5"
  }
 },
 "nbformat": 4,
 "nbformat_minor": 2
}
