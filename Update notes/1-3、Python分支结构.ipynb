{
 "cells": [
  {
   "cell_type": "markdown",
   "metadata": {},
   "source": [
    "# 程序结构\n",
    "- 顺序\n",
    "- 循环\n",
    "- 分支\n",
    "## 分支结构\n",
    "- 分支结构基本语法\n",
    "  - if 条件表达式：\n",
    "       - 语句1\n",
    "       - 语句2\n",
    "       - 语句3\n",
    "       - 。。。。\n",
    "- 条件表达式的计算结果必须是布尔值\n",
    "- 表达式后面的冒号不能少\n",
    "- 注意if后面出现的语句，如果属于if语句块，则必须同一个缩进等级\n",
    "- 条件表达式结果为True执行if后面的缩进的语句块"
   ]
  },
  {
   "cell_type": "code",
   "execution_count": 2,
   "metadata": {},
   "outputs": [],
   "source": [
    "#if语句联系\n",
    "#注意字符串的真假：空字符串为False，其余都为True"
   ]
  },
  {
   "cell_type": "markdown",
   "metadata": {},
   "source": [
    "# 双向分支\n",
    "- if....else....\n",
    "- 二选一"
   ]
  },
  {
   "cell_type": "markdown",
   "metadata": {},
   "source": [
    "## input的作用\n",
    "- 在屏幕上或是键盘上输出括号内的字符串\n",
    "- 接受用户输入的内容并返回到程序（也就是说负责接受用户输入并将内容返回给变量）\n",
    "- input返回的内容一定是字符串类型\n"
   ]
  },
  {
   "cell_type": "code",
   "execution_count": 4,
   "metadata": {},
   "outputs": [
    {
     "name": "stdout",
     "output_type": "stream",
     "text": [
      "请输入性别man\n",
      "man\n",
      "您好\n",
      "请回家\n"
     ]
    }
   ],
   "source": [
    "gender = input(\"请输入性别\")#也就是说负责接受用户输入并将内容返回给变量\n",
    "print(gender)\n",
    "\n",
    "if gender == \"man\":\n",
    "    print(\"您好\")\n",
    "    print(\"请回家\")\n",
    "else:\n",
    "    print(\"美女你好\")\n",
    "    print(\"加个微信\")\n"
   ]
  },
  {
   "cell_type": "code",
   "execution_count": 7,
   "metadata": {},
   "outputs": [
    {
     "name": "stdout",
     "output_type": "stream",
     "text": [
      "请输入成绩：22\n",
      "我没有你这个学生\n"
     ]
    }
   ],
   "source": [
    "#考试成绩判断\n",
    "#成绩由用户输入\n",
    "#90以上为：优秀\n",
    "#80-90：良\n",
    "#70-80：中\n",
    "#60-70：合格\n",
    "#60以下：我没有你这个学生\n",
    "\n",
    "#输入成绩需要用到input函数\n",
    "score = input(\"请输入成绩：\")\n",
    "#由于输入是字符串，需要转换\n",
    "score = int(score)\n",
    "\n",
    "if score >= 90:\n",
    "    print(\"优秀\")\n",
    "if score >= 80 and score < 90:\n",
    "    print(\"良\")\n",
    "if score >= 70 and  score <80:\n",
    "    print(\"中\")\n",
    "if score >= 60 and score <70:\n",
    "    print(\"合格\")\n",
    "if score < 60:\n",
    "    print(\"我没有你这个学生\")\n",
    "\n"
   ]
  },
  {
   "cell_type": "markdown",
   "metadata": {},
   "source": [
    "# 多路分支\n",
    "- 很多个分支，叫多路分支\n",
    "    - if  条件表达式：\n",
    "     - 语句1\n",
    "     - ...\n",
    "    - elif 条件表达式：\n",
    "     - 语句1\n",
    "     - ...\n",
    "    - elif  条件表达式：\n",
    "     - 语句1\n",
    "     - ...\n",
    "    - else:\n",
    "    - 语句1\n",
    "    - ...\n",
    "- elif 可以有好多个\n",
    "- else可选\n",
    "- 多路分支最多只会执行一种情况\n",
    "## if语句补充\n",
    "- if语句可以嵌套，但是不推荐使用。\n",
    "- Python没有switch语句"
   ]
  },
  {
   "cell_type": "code",
   "execution_count": 10,
   "metadata": {},
   "outputs": [
    {
     "name": "stdout",
     "output_type": "stream",
     "text": [
      "请输入成绩：66\n",
      "合格\n"
     ]
    }
   ],
   "source": [
    "#考试成绩判断\n",
    "#成绩由用户输入\n",
    "#90以上为：优秀\n",
    "#80-90：良\n",
    "#70-80：中\n",
    "#60-70：合格\n",
    "#60以下：我没有你这个学生\n",
    "\n",
    "#输入成绩需要用到input函数\n",
    "score = input(\"请输入成绩：\")\n",
    "#由于输入是字符串，需要转换\n",
    "score = int(score)\n",
    "\n",
    "if score >= 90:\n",
    "    print(\"优秀\")\n",
    "elif score >= 80 and score < 90:\n",
    "    print(\"良\")\n",
    "elif score >= 70 and  score <80:\n",
    "    print(\"中\")\n",
    "elif score >= 60 and score <70:\n",
    "    print(\"合格\")\n",
    "else:\n",
    "    print(\"我没有你这个学生\")\n"
   ]
  }
 ],
 "metadata": {
  "kernelspec": {
   "display_name": "Python 3",
   "language": "python",
   "name": "python3"
  },
  "language_info": {
   "codemirror_mode": {
    "name": "ipython",
    "version": 3
   },
   "file_extension": ".py",
   "mimetype": "text/x-python",
   "name": "python",
   "nbconvert_exporter": "python",
   "pygments_lexer": "ipython3",
   "version": "3.6.5"
  }
 },
 "nbformat": 4,
 "nbformat_minor": 2
}
