{
 "cells": [
  {
   "cell_type": "markdown",
   "metadata": {},
   "source": [
    "# 字符串\n",
    "- 转义字符\n",
    "- 格式化\n",
    "- 内建函数（后延）\n",
    "\n",
    "## 转义字符\n",
    "- 用一个特殊的方法表示出一系列不方便写出的内容，比如回车键，换行键，退格键\n",
    "- 将借助反斜杠，一旦字符串中出现反斜杠，则反斜杠后面一个火一个字符表示已经不是原来的意思了，进行了转义。\n",
    "\n",
    "## 格式化\n",
    "- 把字符串按照一定的格式打印或者填充\n",
    "- 格式化有两种方法\n",
    "  - 利用百分号（N)\n",
    "  - 利用format函数\n",
    "### 利用百分号\n",
    "- 在字符串中，利用%表示一个特殊的含义\n",
    "- %d：此处应该放入一个整数\n",
    "- %s：表示此处应该放入一个字符串\n",
    "- 如果出现多个占位符，用括号括起来\n",
    "### format格式化字符串\n",
    "- 直接用format函数进行格式化\n",
    "- 推荐使用这种方法\n",
    "- 在使用上用{}代替%，后面的用format括上参数完成"
   ]
  },
  {
   "cell_type": "markdown",
   "metadata": {},
   "source": [
    "## None\n",
    "- 表示什么都没有\n",
    "- 如果函数没有返回值，可以返回None\n",
    "- 用来占位\n",
    "- 用来接触变量绑定"
   ]
  },
  {
   "cell_type": "markdown",
   "metadata": {},
   "source": [
    "# 表达式\n",
    "- 有一个或者几个数字或者变量和运算符合成的一行代码\n",
    "- 通常会返回一个结果\n"
   ]
  },
  {
   "cell_type": "markdown",
   "metadata": {},
   "source": [
    "# 运算符\n",
    "- 由一个以上的值经过变化得到新值的过程叫做运算\n",
    "- 用用于运算的符号叫运算符\n",
    "- 运算的分类：\n",
    "  - 算数运算符\n",
    "   -  进行算数运算的符号\n",
    "  - 比较或者关系运算符\n",
    "   - 对两个变量或者值进行比较的运算符\n",
    "   - 比较的结果是布尔值，即True、False\n",
    "  - 赋值运算符\n",
    "  - 逻辑运算符\n",
    "  - 位运算符\n",
    "  - 成员运算符\n",
    "  - 身份运算符\n",
    "  \n",
    "  "
   ]
  },
  {
   "cell_type": "markdown",
   "metadata": {},
   "source": [
    "\n"
   ]
  }
 ],
 "metadata": {
  "kernelspec": {
   "display_name": "Python 3",
   "language": "python",
   "name": "python3"
  },
  "language_info": {
   "codemirror_mode": {
    "name": "ipython",
    "version": 3
   },
   "file_extension": ".py",
   "mimetype": "text/x-python",
   "name": "python",
   "nbconvert_exporter": "python",
   "pygments_lexer": "ipython3",
   "version": "3.6.5"
  }
 },
 "nbformat": 4,
 "nbformat_minor": 2
}
