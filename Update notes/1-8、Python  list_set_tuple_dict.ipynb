{
 "cells": [
  {
   "cell_type": "markdown",
   "metadata": {},
   "source": [
    "# 主要内容\n",
    "- tuple （元组）\n",
    "- set(集合）\n",
    "- dict（）"
   ]
  },
  {
   "cell_type": "code",
   "execution_count": null,
   "metadata": {},
   "outputs": [],
   "source": []
  },
  {
   "cell_type": "markdown",
   "metadata": {},
   "source": [
    "# tuple （元组）\n",
    "- 可以理解成一个不允许更改的列表"
   ]
  },
  {
   "cell_type": "code",
   "execution_count": 9,
   "metadata": {},
   "outputs": [
    {
     "name": "stdout",
     "output_type": "stream",
     "text": [
      "<class 'tuple'>\n",
      "<class 'int'>\n",
      "<class 'tuple'>\n",
      "<class 'tuple'>\n",
      "()\n",
      "[1, 2, 3, 'wangxiaojing']\n",
      "(1, 2, 3, 'wangxiaojing')\n"
     ]
    }
   ],
   "source": [
    "# tuple的创建\n",
    "# 1.直接使用小括号\n",
    "ta = ()\n",
    "print(type(ta))\n",
    "\n",
    "#当用一个小括号创建一个元素的tuple的时候\n",
    "tb = (100)\n",
    "print(type(tb))\n",
    "#加上逗号，\n",
    "ts = (100,)\n",
    "print(type(ts))\n",
    "\n",
    "# 2.直接使用逗号，\n",
    "\n",
    "ta = 100,\n",
    "print(type(ta))\n",
    "\n",
    "# 3. 使用tuple的定义\n",
    "\n",
    "ta = tuple()\n",
    "print(ta)\n",
    "\n",
    "\n",
    "\n",
    "li = [1,2,3,\"wangxiaojing\"]\n",
    "tb = tuple(li)  #要求tuple参数可迭代\n",
    "print(li)\n",
    "print(tb)"
   ]
  },
  {
   "cell_type": "markdown",
   "metadata": {},
   "source": [
    "### tuple其余特征跟list基本一致\n",
    "- 有序\n",
    "- 可以访问，不可以被修改\n",
    "- 元素可以是任意类型"
   ]
  },
  {
   "cell_type": "code",
   "execution_count": 14,
   "metadata": {},
   "outputs": [
    {
     "name": "stdout",
     "output_type": "stream",
     "text": [
      "['i', 'love', 'wangxiaojing', 22, 33, 44, 555]\n",
      "wangxiaojing\n"
     ]
    }
   ],
   "source": [
    "# tuple索引操作\n",
    "la = [\"i\",\"love\",\"wangxiaojing\",22,33,44,555]\n",
    "print(la)\n",
    "ta =  tuple(la)\n",
    "print(ta[2])"
   ]
  },
  {
   "cell_type": "code",
   "execution_count": 20,
   "metadata": {},
   "outputs": [
    {
     "name": "stdout",
     "output_type": "stream",
     "text": [
      "('i', 'love', 'wangxiaojing', 22, 33, 44, 555)\n",
      "('i', 'love', 'wangxiaojing')\n",
      "(555, 44, 33, 22)\n",
      "(22, 33, 44, 555)\n"
     ]
    }
   ],
   "source": [
    "#tuple的分片操作\n",
    "print(ta[:])\n",
    "print(ta[:3])\n",
    "print(ta[-1:-5:-1])\n",
    "print(ta[-4::1])"
   ]
  },
  {
   "cell_type": "code",
   "execution_count": 22,
   "metadata": {},
   "outputs": [
    {
     "name": "stdout",
     "output_type": "stream",
     "text": [
      "(100, 200, 300, 'i', 'love', 'wangxiaojing')\n"
     ]
    }
   ],
   "source": [
    "# 元组的相加\n",
    "ta = 100,200,300\n",
    "tb = (\"i\",\"love\",\"wangxiaojing\")\n",
    "tc = ta + tb\n",
    "print(tc)"
   ]
  },
  {
   "cell_type": "code",
   "execution_count": 23,
   "metadata": {},
   "outputs": [
    {
     "name": "stdout",
     "output_type": "stream",
     "text": [
      "(100, 200, 300, 100, 200, 300)\n"
     ]
    }
   ],
   "source": [
    "# 元组的乘法\n",
    "tc = ta * 2\n",
    "print(tc)"
   ]
  },
  {
   "cell_type": "code",
   "execution_count": 26,
   "metadata": {},
   "outputs": [
    {
     "name": "stdout",
     "output_type": "stream",
     "text": [
      "('i', 'love', 'wangxiaojing')\n",
      "对的\n"
     ]
    }
   ],
   "source": [
    "# 元组成员检测\n",
    "\n",
    "print(tb)\n",
    "if \"wangxiaojing\" in tb:\n",
    "    print(\"对的\")\n",
    "    \n",
    "if \"wangxiaojing\"   not in tb:\n",
    "    print(\"错了\")"
   ]
  },
  {
   "cell_type": "code",
   "execution_count": 28,
   "metadata": {},
   "outputs": [
    {
     "name": "stdout",
     "output_type": "stream",
     "text": [
      "i\n",
      "love\n",
      "wangxiaojing\n"
     ]
    }
   ],
   "source": [
    "#元组的遍历\n",
    "\n",
    "\n",
    "for i in tb:\n",
    "    print(i)"
   ]
  },
  {
   "cell_type": "code",
   "execution_count": 31,
   "metadata": {},
   "outputs": [
    {
     "name": "stdout",
     "output_type": "stream",
     "text": [
      "(100, 200, 300)\n",
      "100\n",
      "200\n",
      "300\n",
      "('i', 'love', 'wangxiaojing')\n",
      "i\n",
      "love\n",
      "wangxiaojing\n",
      "(12, 13, 14)\n",
      "12\n",
      "13\n",
      "14\n",
      "100 200 300\n",
      "i love wangxiaojing\n",
      "12 13 14\n"
     ]
    }
   ],
   "source": [
    "# 嵌套元组的访问\n",
    "# 1. 双层循环访问\n",
    "\n",
    "ta = ((100,200,300),(\"i\",\"love\",\"wangxiaojing\"),(12,13,14))\n",
    "for i in ta:\n",
    "    print(i)\n",
    "    for j in i:\n",
    "        print(j)\n",
    "        \n",
    "# 2. 单层循环:特殊规定 i，j，k要跟元组个数对应 \n",
    "for i, j ,k in ta :\n",
    "    print(i,j,k)"
   ]
  },
  {
   "cell_type": "code",
   "execution_count": 35,
   "metadata": {},
   "outputs": [
    {
     "name": "stdout",
     "output_type": "stream",
     "text": [
      "5\n",
      "72254\n"
     ]
    }
   ],
   "source": [
    "#常见元组函数\n",
    "# len：长度\n",
    "ta = (21,34,5235,654,72254)\n",
    "print(len(ta))\n",
    "\n",
    "#max: 最大值\n",
    "\n",
    "print(max(ta))"
   ]
  },
  {
   "cell_type": "code",
   "execution_count": 38,
   "metadata": {},
   "outputs": [
    {
     "name": "stdout",
     "output_type": "stream",
     "text": [
      "4\n"
     ]
    }
   ],
   "source": [
    "# count:对某一元素进行计数\n",
    "\n",
    "ta = (1,1,1,1,23,31,32,421,2)\n",
    "print(ta.count(1))"
   ]
  },
  {
   "cell_type": "code",
   "execution_count": 40,
   "metadata": {},
   "outputs": [
    {
     "name": "stdout",
     "output_type": "stream",
     "text": [
      "dakdadn\n",
      "100\n"
     ]
    }
   ],
   "source": [
    "#元组的特殊用法\n",
    "a = 100\n",
    "b = \"dakdadn\"\n",
    "\n",
    "#现在要求对a，b进行互换\n",
    "#此法是Python的独门笔记\n",
    "a , b = b , a\n",
    "print(a)\n",
    "print(b)"
   ]
  },
  {
   "cell_type": "markdown",
   "metadata": {},
   "source": [
    "# 集合（set）\n",
    "- 跟数学集合概念一致\n",
    "- 内容无序 + 内容不重复\n",
    "- "
   ]
  },
  {
   "cell_type": "code",
   "execution_count": 46,
   "metadata": {},
   "outputs": [
    {
     "name": "stdout",
     "output_type": "stream",
     "text": [
      "set()\n",
      "{1, 2, 3, 4, 6, 7, 8, 9, 10}\n",
      "{1, 2, 3, 4, 6, 7, 8, 9, 10}\n"
     ]
    }
   ],
   "source": [
    "# 集合的定义\n",
    "\n",
    "# 1. 通过set关键字\n",
    "sa = set()\n",
    "print(sa)\n",
    "\n",
    "sb = [1,2,3,4,3,6,7,8,9,10,1,1,1,1,1,1]\n",
    "li = set(sb)\n",
    "print(li)\n",
    "\n",
    "# 2. 使用大括号\n",
    "sc = {1,2,3,4,3,6,7,8,9,10,1,1,1,1,1,1}\n",
    "print(sc)"
   ]
  },
  {
   "cell_type": "code",
   "execution_count": 51,
   "metadata": {},
   "outputs": [
    {
     "name": "stdout",
     "output_type": "stream",
     "text": [
      "duid \n",
      "1\n",
      "2\n",
      "3\n",
      "4\n",
      "6\n",
      "7\n",
      "8\n",
      "9\n",
      "10\n"
     ]
    }
   ],
   "source": [
    "# in 操作\n",
    "\n",
    "if 2 in sc :\n",
    "    print(\"duid \")\n",
    "    \n",
    "for j in sc:\n",
    "    print(j)"
   ]
  },
  {
   "cell_type": "code",
   "execution_count": 55,
   "metadata": {},
   "outputs": [
    {
     "name": "stdout",
     "output_type": "stream",
     "text": [
      "{1, 2, 3, 4, 6, 7, 8, 9, 10}\n",
      "{2, 4, 6, 8, 10}\n",
      "{64, 1, 4, 36, 100, 9, 16, 49, 81}\n",
      "{1, 2, 3, 4, 6, 7, 8, 9, 10, 12, 14, 16, 18, 20, 21, 24, 27, 28, 30, 32, 36, 40, 42, 48, 49, 54, 56, 60, 63, 64, 70, 72, 80, 81, 90, 100}\n"
     ]
    }
   ],
   "source": [
    "# 集合的生成式\n",
    "sa = {1,2,3,4,3,6,7,8,9,10}\n",
    "# 利用sa 生成一个 sb\n",
    "\n",
    "sb = {i for i in sa}\n",
    "print(sb)\n",
    "\n",
    "sc = { i for i in sa  if i % 2 == 0}\n",
    "print(sc)\n",
    "\n",
    "# 双重for 循环\n",
    "# 1.用一个for\n",
    "# 把集合里的数平方生成一个新的集合\n",
    "sd = {i **2 for i in sa }\n",
    "print(sd)\n",
    "\n",
    "# 2. 使用两个for\n",
    "\n",
    "se = {m*n for m in sa  for n in sa}\n",
    "print(se)"
   ]
  },
  {
   "cell_type": "code",
   "execution_count": 61,
   "metadata": {},
   "outputs": [
    {
     "name": "stdout",
     "output_type": "stream",
     "text": [
      "36\n",
      "{1, 2, 3, 4, 6, 7, 8, 9, 10}\n",
      "{1, 2, 3, 4, 6, 7, 8, 9, 10, 11}\n"
     ]
    }
   ],
   "source": [
    "# 集合的内置函数\n",
    "# len：长度\n",
    "print(len(se))\n",
    "\n",
    "# max /min :最值\n",
    "# add：向集合里添加元素\n",
    "\n",
    "sa = {1,2,3,4,3,6,7,8,9,10}\n",
    "print(sa)\n",
    "sa.add(11)\n",
    "print(sa)\n"
   ]
  },
  {
   "cell_type": "code",
   "execution_count": 66,
   "metadata": {},
   "outputs": [
    {
     "name": "stdout",
     "output_type": "stream",
     "text": [
      "{1, 2, 3, 4, 6, 7, 8, 10, 11}\n",
      "{1, 2, 3, 4, 6, 7, 8, 10, 11}\n"
     ]
    }
   ],
   "source": [
    "# clear:清除\n",
    "# remove和 discard的区别\n",
    "print(sa)\n",
    "sa.discard(9)\n",
    "print(sa)\n",
    "#remove 删除的值如果不在集合中，报错"
   ]
  },
  {
   "cell_type": "code",
   "execution_count": 94,
   "metadata": {},
   "outputs": [
    {
     "name": "stdout",
     "output_type": "stream",
     "text": [
      "{1, 2, 3, 4, 5, 6, 7, 8, 9}\n",
      "{2, 3, 4, 5, 6, 7, 8, 9}\n"
     ]
    }
   ],
   "source": [
    "# pop弹出集合的一个内容\n",
    "# 删除的内容是随机的\n",
    "# 删除内容没啥规律，随机的\n",
    "sa = {1,2,3,4,5,6,7,8,9}\n",
    "print(sa)\n",
    "sa.pop()\n",
    "print(sa)\n"
   ]
  },
  {
   "cell_type": "code",
   "execution_count": 102,
   "metadata": {},
   "outputs": [
    {
     "name": "stdout",
     "output_type": "stream",
     "text": [
      "{3, 4, 5, 6, 7, 8, 9}\n",
      "{90, 12}\n",
      "{90, 12}\n",
      "{1, 2, 3, 4, 5, 6, 7, 8, 9, 12, 90}\n"
     ]
    }
   ],
   "source": [
    "# 集合的数学操作\n",
    "\n",
    "# intersection：交集\n",
    "sa = {12,3,4,5,6,7,8,90,9}\n",
    "sb = {1,2,3,4,5,6,7,8,9}\n",
    "print(sa.intersection(sb))\n",
    "\n",
    "# difference:差集\n",
    "print(sa.difference(sb))\n",
    "#差集的另一种表达方式\n",
    "print(sa-sb)\n",
    "\n",
    "#union:并集  \n",
    "print(sa.union(sb))\n",
    "#用加号+计算\n",
    "#print(sa + sb)   报错\n"
   ]
  },
  {
   "cell_type": "code",
   "execution_count": 104,
   "metadata": {},
   "outputs": [
    {
     "name": "stdout",
     "output_type": "stream",
     "text": [
      "Help on class set in module builtins:\n",
      "\n",
      "class set(object)\n",
      " |  set() -> new empty set object\n",
      " |  set(iterable) -> new set object\n",
      " |  \n",
      " |  Build an unordered collection of unique elements.\n",
      " |  \n",
      " |  Methods defined here:\n",
      " |  \n",
      " |  __and__(self, value, /)\n",
      " |      Return self&value.\n",
      " |  \n",
      " |  __contains__(...)\n",
      " |      x.__contains__(y) <==> y in x.\n",
      " |  \n",
      " |  __eq__(self, value, /)\n",
      " |      Return self==value.\n",
      " |  \n",
      " |  __ge__(self, value, /)\n",
      " |      Return self>=value.\n",
      " |  \n",
      " |  __getattribute__(self, name, /)\n",
      " |      Return getattr(self, name).\n",
      " |  \n",
      " |  __gt__(self, value, /)\n",
      " |      Return self>value.\n",
      " |  \n",
      " |  __iand__(self, value, /)\n",
      " |      Return self&=value.\n",
      " |  \n",
      " |  __init__(self, /, *args, **kwargs)\n",
      " |      Initialize self.  See help(type(self)) for accurate signature.\n",
      " |  \n",
      " |  __ior__(self, value, /)\n",
      " |      Return self|=value.\n",
      " |  \n",
      " |  __isub__(self, value, /)\n",
      " |      Return self-=value.\n",
      " |  \n",
      " |  __iter__(self, /)\n",
      " |      Implement iter(self).\n",
      " |  \n",
      " |  __ixor__(self, value, /)\n",
      " |      Return self^=value.\n",
      " |  \n",
      " |  __le__(self, value, /)\n",
      " |      Return self<=value.\n",
      " |  \n",
      " |  __len__(self, /)\n",
      " |      Return len(self).\n",
      " |  \n",
      " |  __lt__(self, value, /)\n",
      " |      Return self<value.\n",
      " |  \n",
      " |  __ne__(self, value, /)\n",
      " |      Return self!=value.\n",
      " |  \n",
      " |  __new__(*args, **kwargs) from builtins.type\n",
      " |      Create and return a new object.  See help(type) for accurate signature.\n",
      " |  \n",
      " |  __or__(self, value, /)\n",
      " |      Return self|value.\n",
      " |  \n",
      " |  __rand__(self, value, /)\n",
      " |      Return value&self.\n",
      " |  \n",
      " |  __reduce__(...)\n",
      " |      Return state information for pickling.\n",
      " |  \n",
      " |  __repr__(self, /)\n",
      " |      Return repr(self).\n",
      " |  \n",
      " |  __ror__(self, value, /)\n",
      " |      Return value|self.\n",
      " |  \n",
      " |  __rsub__(self, value, /)\n",
      " |      Return value-self.\n",
      " |  \n",
      " |  __rxor__(self, value, /)\n",
      " |      Return value^self.\n",
      " |  \n",
      " |  __sizeof__(...)\n",
      " |      S.__sizeof__() -> size of S in memory, in bytes\n",
      " |  \n",
      " |  __sub__(self, value, /)\n",
      " |      Return self-value.\n",
      " |  \n",
      " |  __xor__(self, value, /)\n",
      " |      Return self^value.\n",
      " |  \n",
      " |  add(...)\n",
      " |      Add an element to a set.\n",
      " |      \n",
      " |      This has no effect if the element is already present.\n",
      " |  \n",
      " |  clear(...)\n",
      " |      Remove all elements from this set.\n",
      " |  \n",
      " |  copy(...)\n",
      " |      Return a shallow copy of a set.\n",
      " |  \n",
      " |  difference(...)\n",
      " |      Return the difference of two or more sets as a new set.\n",
      " |      \n",
      " |      (i.e. all elements that are in this set but not the others.)\n",
      " |  \n",
      " |  difference_update(...)\n",
      " |      Remove all elements of another set from this set.\n",
      " |  \n",
      " |  discard(...)\n",
      " |      Remove an element from a set if it is a member.\n",
      " |      \n",
      " |      If the element is not a member, do nothing.\n",
      " |  \n",
      " |  intersection(...)\n",
      " |      Return the intersection of two sets as a new set.\n",
      " |      \n",
      " |      (i.e. all elements that are in both sets.)\n",
      " |  \n",
      " |  intersection_update(...)\n",
      " |      Update a set with the intersection of itself and another.\n",
      " |  \n",
      " |  isdisjoint(...)\n",
      " |      Return True if two sets have a null intersection.\n",
      " |  \n",
      " |  issubset(...)\n",
      " |      Report whether another set contains this set.\n",
      " |  \n",
      " |  issuperset(...)\n",
      " |      Report whether this set contains another set.\n",
      " |  \n",
      " |  pop(...)\n",
      " |      Remove and return an arbitrary set element.\n",
      " |      Raises KeyError if the set is empty.\n",
      " |  \n",
      " |  remove(...)\n",
      " |      Remove an element from a set; it must be a member.\n",
      " |      \n",
      " |      If the element is not a member, raise a KeyError.\n",
      " |  \n",
      " |  symmetric_difference(...)\n",
      " |      Return the symmetric difference of two sets as a new set.\n",
      " |      \n",
      " |      (i.e. all elements that are in exactly one of the sets.)\n",
      " |  \n",
      " |  symmetric_difference_update(...)\n",
      " |      Update a set with the symmetric difference of itself and another.\n",
      " |  \n",
      " |  union(...)\n",
      " |      Return the union of sets as a new set.\n",
      " |      \n",
      " |      (i.e. all elements that are in either set.)\n",
      " |  \n",
      " |  update(...)\n",
      " |      Update a set with the union of itself and others.\n",
      " |  \n",
      " |  ----------------------------------------------------------------------\n",
      " |  Data and other attributes defined here:\n",
      " |  \n",
      " |  __hash__ = None\n",
      "\n"
     ]
    }
   ],
   "source": [
    "help(set)"
   ]
  },
  {
   "cell_type": "markdown",
   "metadata": {},
   "source": [
    "# frozenset  冰冻集合\n",
    "- 不允许修改的集合\n"
   ]
  },
  {
   "cell_type": "code",
   "execution_count": 2,
   "metadata": {},
   "outputs": [
    {
     "name": "stdout",
     "output_type": "stream",
     "text": [
      "{3, 4, 5, 6, 7, 8, 9, 12, 90}\n",
      "frozenset({3, 4, 5, 6, 7, 8, 9, 12, 90})\n"
     ]
    }
   ],
   "source": [
    "#  案列\n",
    "sa = {12,3,4,5,6,7,8,90,9}\n",
    "print(sa)\n",
    "sb = frozenset(sa)\n",
    "print(sb)"
   ]
  },
  {
   "cell_type": "markdown",
   "metadata": {},
   "source": [
    "# dict 字典\n",
    "- 字典是一种组合数据，没有顺序的组合数据，数据以键值形式出现"
   ]
  },
  {
   "cell_type": "code",
   "execution_count": 1,
   "metadata": {},
   "outputs": [
    {
     "name": "stdout",
     "output_type": "stream",
     "text": [
      "{}\n",
      "{}\n",
      "{'one': 1, 'two': 2, 'three': 3}\n",
      "{'one': 1, 'two': 2, 'three': 3}\n",
      "{'two': 2, 'one': 1, 'three': 3}\n"
     ]
    }
   ],
   "source": [
    "# dict 字典的创建\n",
    "#创建空字典\n",
    "d = {}\n",
    "print(d)\n",
    "\n",
    "d =dict()\n",
    "print(d)\n",
    "\n",
    "\n",
    "#创建有值的字典，每一组之间用逗号隔开\n",
    "d = {\"one\":1,\"two\":2,\"three\":3}\n",
    "print(d)\n",
    "#还可以这样创建\n",
    "#利用关键字参数创建\n",
    "d = dict({\"one\":1,\"two\":2,\"three\":3})\n",
    "print(d)\n",
    "\n",
    "d = dict({(\"one\",1),(\"two\",2),(\"three\",3)})\n",
    "print(d)"
   ]
  },
  {
   "cell_type": "markdown",
   "metadata": {},
   "source": [
    "# 字典的特性\n",
    "- 字典是序的类型，但是是无序序列，所以没有分片和索引\n",
    "- 字典中的数据每一个都由键值对组成，即kv对\n",
    "   - key：必须是可哈希的值，比如int，string，float，tuple。但是list，set，dict不行\n",
    "   - value：任何值"
   ]
  },
  {
   "cell_type": "markdown",
   "metadata": {},
   "source": [
    "# 字典常见操作"
   ]
  },
  {
   "cell_type": "code",
   "execution_count": 6,
   "metadata": {},
   "outputs": [
    {
     "name": "stdout",
     "output_type": "stream",
     "text": [
      "1\n",
      "{'one': 'eins', 'two': 2, 'three': 3}\n",
      "{'two': 2, 'three': 3}\n"
     ]
    }
   ],
   "source": [
    "#访问数据\n",
    "d = {\"one\":1,\"two\":2,\"three\":3}\n",
    "#注意访问格式\n",
    "#中括号内是键值\n",
    "print(d[\"one\"])\n",
    "\n",
    "d[\"one\"] = \"eins\"\n",
    "print(d)\n",
    "\n",
    "\n",
    "#删除某个操作\n",
    "#使用del操作\n",
    "\n",
    "del d[\"one\"]\n",
    "print(d)"
   ]
  },
  {
   "cell_type": "code",
   "execution_count": 8,
   "metadata": {},
   "outputs": [
    {
     "name": "stdout",
     "output_type": "stream",
     "text": [
      "key\n"
     ]
    }
   ],
   "source": [
    "# 成员检测： in，not in\n",
    "d = {\"one\":1,\"two\":2,\"three\":3}\n",
    "\n",
    "if 2 in d:\n",
    "    print(\"value\")\n",
    "    \n",
    "if \"two\" in d:\n",
    "    print(\"key\")\n",
    "    \n",
    "if (\"two\",2) in d:\n",
    "    print(\"kv\")"
   ]
  },
  {
   "cell_type": "code",
   "execution_count": 14,
   "metadata": {},
   "outputs": [
    {
     "name": "stdout",
     "output_type": "stream",
     "text": [
      "one 1\n",
      "two 2\n",
      "three 3\n",
      "one 1\n",
      "two 2\n",
      "three 3\n",
      "1\n",
      "2\n",
      "3\n",
      "one ----- 1\n",
      "two ----- 2\n",
      "three ----- 3\n"
     ]
    }
   ],
   "source": [
    "# 遍历\n",
    "# 按key来使用for循环\n",
    "d = {\"one\":1,\"two\":2,\"three\":3}\n",
    "# 使用for循环，直接按key值访问\n",
    "\n",
    "for k in d:\n",
    "    print(k, d[k])\n",
    "\n",
    "#可以改成这样\n",
    "\n",
    "for k in d.keys():\n",
    "    print(k, d[k])\n",
    "    \n",
    "#只访问字典的值    \n",
    "for v in d.values():\n",
    "    print(v)\n",
    "    \n",
    "for k,v in d.items():\n",
    "    print(k,'-----',v)"
   ]
  },
  {
   "cell_type": "markdown",
   "metadata": {},
   "source": [
    "# 字典生成式"
   ]
  },
  {
   "cell_type": "code",
   "execution_count": 19,
   "metadata": {},
   "outputs": [
    {
     "name": "stdout",
     "output_type": "stream",
     "text": [
      "{'one': 1, 'two': 2, 'three': 3}\n",
      "{'two': 2}\n"
     ]
    }
   ],
   "source": [
    "d = {\"one\":1,\"two\":2,\"three\":3}\n",
    "\n",
    "#常规的\n",
    "dd = {k:v for k,v in d.items()}\n",
    "print(dd)\n",
    "\n",
    "#加条件的\n",
    "dd = {k:v for k,v in d.items() if v % 2 == 0}\n",
    "print(dd)"
   ]
  },
  {
   "cell_type": "markdown",
   "metadata": {},
   "source": [
    "# 字典相关函数"
   ]
  },
  {
   "cell_type": "code",
   "execution_count": 21,
   "metadata": {},
   "outputs": [
    {
     "name": "stdout",
     "output_type": "stream",
     "text": [
      "{'one': 1, 'two': 2, 'three': 3}\n"
     ]
    }
   ],
   "source": [
    "# 通常函数：len，max，min，dict\n",
    "#str（字典）： 返回字典的字符串格式\n",
    "d = {\"one\":1,\"two\":2,\"three\":3}\n",
    "print(str(d))"
   ]
  },
  {
   "cell_type": "code",
   "execution_count": 23,
   "metadata": {},
   "outputs": [
    {
     "name": "stdout",
     "output_type": "stream",
     "text": [
      "<class 'dict_items'>\n",
      "dict_items([('one', 1), ('two', 2), ('three', 3)])\n"
     ]
    }
   ],
   "source": [
    "# clear:清空字典\n",
    "# items：返回字典的键值对组成的元组格式\n",
    "d = {\"one\":1,\"two\":2,\"three\":3}\n",
    "i = d.items()\n",
    "print(type(i))\n",
    "print(i)"
   ]
  },
  {
   "cell_type": "code",
   "execution_count": 25,
   "metadata": {},
   "outputs": [
    {
     "name": "stdout",
     "output_type": "stream",
     "text": [
      "<class 'dict_keys'>\n",
      "dict_keys(['one', 'two', 'three'])\n"
     ]
    }
   ],
   "source": [
    "# keys :返回字典的键组成的一个结构\n",
    "k = d.keys()\n",
    "print(type(k))\n",
    "print(k)"
   ]
  },
  {
   "cell_type": "code",
   "execution_count": 32,
   "metadata": {},
   "outputs": [
    {
     "name": "stdout",
     "output_type": "stream",
     "text": [
      "None\n",
      "1\n",
      "122\n"
     ]
    },
    {
     "ename": "KeyError",
     "evalue": "'on333'",
     "output_type": "error",
     "traceback": [
      "\u001b[1;31m---------------------------------------------------------------------------\u001b[0m",
      "\u001b[1;31mKeyError\u001b[0m                                  Traceback (most recent call last)",
      "\u001b[1;32m<ipython-input-32-3899541ff9bf>\u001b[0m in \u001b[0;36m<module>\u001b[1;34m()\u001b[0m\n\u001b[0;32m      8\u001b[0m \u001b[1;31m#体会以下代码和以下代码的区别\u001b[0m\u001b[1;33m\u001b[0m\u001b[1;33m\u001b[0m\u001b[0m\n\u001b[0;32m      9\u001b[0m \u001b[1;33m\u001b[0m\u001b[0m\n\u001b[1;32m---> 10\u001b[1;33m \u001b[0mprint\u001b[0m\u001b[1;33m(\u001b[0m\u001b[0md\u001b[0m\u001b[1;33m[\u001b[0m\u001b[1;34m\"on333\"\u001b[0m\u001b[1;33m]\u001b[0m\u001b[1;33m)\u001b[0m\u001b[1;33m\u001b[0m\u001b[0m\n\u001b[0m",
      "\u001b[1;31mKeyError\u001b[0m: 'on333'"
     ]
    }
   ],
   "source": [
    "# get : 根据制定值返回相应的值，好处是可以设置默认值\n",
    "d = {\"one\":1,\"two\":2,\"three\":3}\n",
    "print(d.get(\"on333\"))\n",
    "\n",
    "#get默认值是None，可以设置\n",
    "print(d.get(\"one\",122))\n",
    "print(d.get(\"oneww\",122))\n",
    "#体会以下代码和以下代码的区别\n",
    "\n",
    "print(d[\"on333\"])"
   ]
  },
  {
   "cell_type": "code",
   "execution_count": 37,
   "metadata": {},
   "outputs": [
    {
     "name": "stdout",
     "output_type": "stream",
     "text": [
      "{'zuhd': 'hahaha', 'dav': 'hahaha', 'eins': 'hahaha'}\n"
     ]
    }
   ],
   "source": [
    "#fromkeys:使用指定的序列作为键，使用一个值作为字典的所有键的值\n",
    "l = {\"eins\",\"zuhd\",\"dav\"}\n",
    "#注意fromkeys两个参数的类型\n",
    "#注意fromkeys的调用主体\n",
    "\n",
    "d = dict.fromkeys(l, \"hahaha\")\n",
    "print(d)"
   ]
  }
 ],
 "metadata": {
  "kernelspec": {
   "display_name": "Python 3",
   "language": "python",
   "name": "python3"
  },
  "language_info": {
   "codemirror_mode": {
    "name": "ipython",
    "version": 3
   },
   "file_extension": ".py",
   "mimetype": "text/x-python",
   "name": "python",
   "nbconvert_exporter": "python",
   "pygments_lexer": "ipython3",
   "version": "3.6.5"
  }
 },
 "nbformat": 4,
 "nbformat_minor": 2
}
