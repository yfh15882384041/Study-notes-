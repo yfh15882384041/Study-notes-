{
 "cells": [
  {
   "cell_type": "markdown",
   "metadata": {},
   "source": [
    "# log日志\n",
    "- https://www.cnblogs.com/yyds/p/6901864.html\n",
    "- logging模块:提供模块级别的函数记录日志\n",
    "- 包括四大组件\n",
    "\n",
    "## 1.日志相关概念\n",
    "- 日志\n",
    "- 日志的级别（level）\n",
    "  - 不同的用户关注不同的程序信息\n",
    "  - debug\n",
    "  - info\n",
    "  - notice\n",
    "  - warning\n",
    "  - error\n",
    "  - aritical\n",
    "  - alert\n",
    "  - emergency\n",
    "- IO操作=》不要频繁操作\n",
    "- log的操作\n",
    "  - 调试\n",
    "  - 了解软件的运行情况\n",
    "  - 分析定位问题\n",
    "- 日志信息\n",
    "  - time\n",
    "  - 地点\n",
    "  - level\n",
    "  - 内容\n",
    "- 成熟的第三方日志\n",
    "  - log4j\n",
    "  - log4php\n",
    "  - logging\n",
    "  \n",
    " ## 2.logging模块\n",
    " - 日志的级别\n",
    "   - 级别可自定义\n",
    "   - debug\n",
    "   - info\n",
    "   - warning\n",
    "   - error\n",
    "   - critical\n",
    "- 初始化/写日志实例需要指定级别，只有级别等于或高于指定级别才被记录\n",
    "- 使用方式\n",
    "  - 直接使用logging（封装了其他组件）\n",
    "  - logging四大组件直接定制\n",
    "###\n",
    "- logging模块级别的日志\n",
    "- 使用以下几个函数：\n",
    "  - logging.debug(msg, *args, **kwargs)   创建一条严重级别为debug的日志记录\n",
    "  - logging.info(msg, *args, **kwargs)   创建一条严重级别为info的日志记录\n",
    "  - logging.warning(msg, *args, **kwargs)   创建一条严重级别为warning的日志记录\n",
    "  - logging.error(msg, *args, **kwargs)   创建一条严重级别为error的日志记录\n",
    "  - logging.critical(msg, *args, **kwargs)   创建一条严重级别为critical的日志记录\n",
    "  - logging.log(level, *args, **kwargs)   创建一条严重级别为clevel的日志记录\n",
    "  - logging.basicConfig(**kwargs)    对于root logger进行一次性配置\n",
    "\n",
    "- logging.basicConfig(**kwargs)    对于root logger进行一次性配置\n",
    "  - 只在第一次调用的时候起作用\n",
    "  - 不配置logger则使用默认值\n",
    "    - 输出： sys.stderr\n",
    "    - 级别： warning\n",
    "    - 格式： level：log_name:content\n",
    "    "
   ]
  },
  {
   "cell_type": "code",
   "execution_count": 5,
   "metadata": {},
   "outputs": [
    {
     "name": "stderr",
     "output_type": "stream",
     "text": [
      "ERROR:root:This is error log\n",
      "CRITICAL:root:This is critical log\n"
     ]
    }
   ],
   "source": [
    "import logging\n",
    "LOG_FORMAT = \"%(asctime)s=====\\(levelname)s++++++(message)s\"\n",
    "logging.basicConfig(file=\"tuling.log\", level=logging.DEBUG)\n",
    "\n",
    "logging.debug(\"This is s debug log\")\n",
    "logging.info(\"This is s info log\")\n",
    "logging.error(\"This is error log\")\n",
    "logging.critical(\"This is critical log\")"
   ]
  },
  {
   "cell_type": "markdown",
   "metadata": {},
   "source": [
    "# logging 模块的处理流程\n",
    "- 四大组件：\n",
    "  - 日志器（logger）： 产生日志的一个借口\n",
    "  - 处理器（Hander）： 把产生的日志发送到相应的目的地\n",
    "  - 过滤器（filter）： 更精细的控制那些日志输出\n",
    "  - 格式（Formatter）： 对输出信息进行格式化\n",
    "  \n",
    "- logger\n",
    "  - 产生一个日志\n",
    "  - 操作：\n",
    "    \n",
    "         logger.setlevel()       设置日志将会处理的日志消息的最低严重级别\n",
    "         logger.addHandter()和logger.removehandter()    为该logger对象添加和移除\n",
    "         logger.debug: 产生一条debug级别的日志，同理，info，error等\n",
    "         logger.exception(): 创建类似于logger.error的日志消息\n",
    "         logger.log（）：  获取一个明确的日志level参数类创建一个日志记录\n",
    "- 如何得到一个logger对象\n",
    "  - 实例化\n",
    "  - logging.getLogger()\n",
    "  \n",
    "  \n",
    "- Handter\n",
    "  - 把log发送到指定位置\n",
    "  - 方法：\n",
    "    - setLevel\n",
    "    - setFormat\n",
    "    - addFilter，removeFilter\n",
    "  - 不需要直接使用， handter是基类"
   ]
  }
 ],
 "metadata": {
  "kernelspec": {
   "display_name": "Python 3",
   "language": "python",
   "name": "python3"
  },
  "language_info": {
   "codemirror_mode": {
    "name": "ipython",
    "version": 3
   },
   "file_extension": ".py",
   "mimetype": "text/x-python",
   "name": "python",
   "nbconvert_exporter": "python",
   "pygments_lexer": "ipython3",
   "version": "3.6.5"
  }
 },
 "nbformat": 4,
 "nbformat_minor": 2
}
