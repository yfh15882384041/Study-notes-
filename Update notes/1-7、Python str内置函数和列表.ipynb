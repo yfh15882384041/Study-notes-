{
 "cells": [
  {
   "cell_type": "markdown",
   "metadata": {},
   "source": [
    "# 主要内容\n",
    "- str内置函数\n",
    "- 列表"
   ]
  },
  {
   "cell_type": "markdown",
   "metadata": {},
   "source": [
    "## str内置函数\n",
    "- 字符串查找类：find，index\n",
    "- find：查找字符串中是否包含一个子串\n",
    "- index:跟find的唯一区别是index如果找不到会引发异常\n",
    "- rfind：从右查找，lfind：从左边查找"
   ]
  },
  {
   "cell_type": "code",
   "execution_count": 2,
   "metadata": {},
   "outputs": [
    {
     "name": "stdout",
     "output_type": "stream",
     "text": [
      "Help on method_descriptor:\n",
      "\n",
      "find(...)\n",
      "    S.find(sub[, start[, end]]) -> int\n",
      "    \n",
      "    Return the lowest index in S where substring sub is found,\n",
      "    such that sub is contained within S[start:end].  Optional\n",
      "    arguments start and end are interpreted as in slice notation.\n",
      "    \n",
      "    Return -1 on failure.\n",
      "\n"
     ]
    }
   ],
   "source": [
    "help(str.find)"
   ]
  },
  {
   "cell_type": "code",
   "execution_count": 13,
   "metadata": {},
   "outputs": [
    {
     "data": {
      "text/plain": [
       "29"
      ]
     },
     "execution_count": 13,
     "metadata": {},
     "output_type": "execute_result"
    }
   ],
   "source": [
    " s = \"wo ai wangxiaojing and  zhangxiaojing\"\n",
    "s1 = \"xiaojing\"\n",
    "s2 = \"sda\"\n",
    "#返回第一次发现这个字符串的位置\n",
    "s.find(s1,11)\n",
    "\n",
    "#index 会报错\n",
    "#s.index(s1)"
   ]
  },
  {
   "cell_type": "code",
   "execution_count": 14,
   "metadata": {},
   "outputs": [
    {
     "name": "stdout",
     "output_type": "stream",
     "text": [
      "Help on method_descriptor:\n",
      "\n",
      "index(...)\n",
      "    S.index(sub[, start[, end]]) -> int\n",
      "    \n",
      "    Return the lowest index in S where substring sub is found, \n",
      "    such that sub is contained within S[start:end].  Optional\n",
      "    arguments start and end are interpreted as in slice notation.\n",
      "    \n",
      "    Raises ValueError when the substring is not found.\n",
      "\n"
     ]
    }
   ],
   "source": [
    "help(str.index)"
   ]
  },
  {
   "cell_type": "markdown",
   "metadata": {},
   "source": [
    "### 判断类函数\n",
    "- 此类函数的特点是一般都用is开头，比如islower\n",
    "- isalpha：判断是否是字母，需要注意的两点：\n",
    "  - 前提是字符串至少包含一个字符，如果没有，同样返回False\n",
    "  - 汉字被认为是alpha，所以，函数不能作为区分英语字母还是汉字，所以区分要加上Unicode码\n",
    "  - 使用时注意区分，\n",
    "- isdigit, is numeric, isdecimal 三个判断数字的函数（尽量不用，后期爬虫中，判断数字建议使用正则表达的方式）\n",
    "- islower：判断字符串是否为小写\n"
   ]
  },
  {
   "cell_type": "code",
   "execution_count": 17,
   "metadata": {},
   "outputs": [
    {
     "name": "stdout",
     "output_type": "stream",
     "text": [
      "False\n",
      "False\n",
      "False\n"
     ]
    }
   ],
   "source": [
    "# 以下三个都不是因为除了字母还有空格\n",
    "s1 = \"大哭大闹，  但看到那肯定\"\n",
    "s2 = \"dadkn adndk dadnak \"\n",
    "s3 = \" andda   amsdkak  dadka.sadp\"\n",
    "\n",
    "print(s1.isalpha())\n",
    "print(s2.isalpha())\n",
    "print(s3.isalpha())\n"
   ]
  },
  {
   "cell_type": "markdown",
   "metadata": {},
   "source": [
    "### 内容判断类\n",
    "- startswitch、endswitch：是否以cc开头或者结尾\n",
    "  - 检查某个字符串是否以某个子开头，常用三个参数\n",
    "  - suffix：被检查的字符串，必须有\n",
    "  - start：\n",
    "  - end：\n",
    "- islower/issupper:判断字符串是否小/大写(汉字字符串无大小写概念）"
   ]
  },
  {
   "cell_type": "code",
   "execution_count": 22,
   "metadata": {},
   "outputs": [
    {
     "name": "stdout",
     "output_type": "stream",
     "text": [
      "True\n",
      "False\n"
     ]
    }
   ],
   "source": [
    "dana = \"liu dana\"\n",
    "xiaojing = \"Xiao jing\"\n",
    "s = \"liu dana love xiaojing\"\n",
    "\n",
    "print(s.startswith(dana))\n",
    "print(s.endswith(xiaojing))\n"
   ]
  },
  {
   "cell_type": "code",
   "execution_count": 25,
   "metadata": {},
   "outputs": [
    {
     "name": "stdout",
     "output_type": "stream",
     "text": [
      "False\n",
      "True\n"
     ]
    }
   ],
   "source": [
    "s1 = \"KDnkdakd\"\n",
    "s2 = \"dladlandadna\"\n",
    "print(s1.islower())\n",
    "print(s2.islower())"
   ]
  },
  {
   "cell_type": "markdown",
   "metadata": {},
   "source": [
    "### 操作类函数\n",
    "- format：格式化用的\n",
    "- strip：这个函数的主要作用是删除字符串两边的空格，其实这个函数允许你定义删除字符串两边的哪个字符，只是如果不指定的话默认hi空格。同样lstrip和rstrip从左边和右边删除，默认为空格，需要注意的是，此处的删除不是删除一个，而是删除从头开始符合条件的连续字符。"
   ]
  },
  {
   "cell_type": "code",
   "execution_count": 38,
   "metadata": {},
   "outputs": [
    {
     "name": "stdout",
     "output_type": "stream",
     "text": [
      " DDDDDda dad dada\n",
      "DDDDDda dad dada\n",
      "\n",
      "DDDDDda dad dada----\n",
      " DDDDDda dad dad---"
     ]
    }
   ],
   "source": [
    "c = \" DDDDDda dad dada\"\n",
    "#是否成功删除两边空格不能观察出来\n",
    "print(c)\n",
    "print(c.strip())\n",
    "print()\n",
    "print(c.strip(),end=\"----\")\n",
    "print()\n",
    "print(c.strip(\"a\"),end=\"---\")"
   ]
  },
  {
   "cell_type": "markdown",
   "metadata": {},
   "source": [
    "# list列表\n",
    "- 一组有序数据做成的序列\n",
    "  - 数据有先后顺序\n",
    "  - 数据可以不是一类数据\n",
    "- list的创建：\n",
    "  - 直接创建：比如：[1,5dda,2,大户]\n",
    "  - 列表包含一个字符串的时候就是一个特例"
   ]
  },
  {
   "cell_type": "code",
   "execution_count": 45,
   "metadata": {},
   "outputs": [
    {
     "name": "stdout",
     "output_type": "stream",
     "text": [
      "<class 'list'>\n",
      "['d', 'a', 'd', 'a']\n"
     ]
    }
   ],
   "source": [
    "#list创建的特例演示\n",
    "\n",
    "s = \"dada\"\n",
    "#打印只包含s的一个字符串列表\n",
    "l = list(s)\n",
    "\n",
    "print(type(l))\n",
    "print(l)"
   ]
  },
  {
   "cell_type": "markdown",
   "metadata": {},
   "source": [
    "# 内置函数\n",
    "- help：帮助函数\n",
    "- type：显示变量的类型\n",
    "- id;显示变量的id\n",
    "- print"
   ]
  },
  {
   "cell_type": "markdown",
   "metadata": {},
   "source": [
    "# 列表的常见操作\n",
    "- 访问\n",
    "  - 使用下标操作，也叫作索引 \n",
    "  - 列表的元素索引是从0开始的\n",
    "- 切片操作\n",
    "  - 对列表进行任意一段的截取[数字：数字],[ : ]:全列表,[ : 数字]： 从头开始到数字。\n",
    "  - 截取之后，创建一个新的列表"
   ]
  },
  {
   "cell_type": "code",
   "execution_count": 50,
   "metadata": {},
   "outputs": [
    {
     "name": "stdout",
     "output_type": "stream",
     "text": [
      "31\n"
     ]
    }
   ],
   "source": [
    "L1 = [31,312,443,52,41]\n",
    "#使用下标访问\n",
    "print(L1[0])"
   ]
  },
  {
   "cell_type": "code",
   "execution_count": 55,
   "metadata": {},
   "outputs": [
    {
     "name": "stdout",
     "output_type": "stream",
     "text": [
      "[4, 5, 6]\n",
      "[1, 2, 3, 4, 5, 6]\n",
      "[1, 2, 3, 4, 5, 6, 7, 8, 9, 10]\n"
     ]
    }
   ],
   "source": [
    "#切片操作需要注意取值范围，左包括右边不包括\n",
    "\n",
    "L1 = [1,2,3,4,5,6,7,8,9,10]\n",
    "#对比打印结果\n",
    "\n",
    "print(L1[3:6])\n",
    "print(L1[ :6])\n",
    "print(L1[ : ])\n"
   ]
  },
  {
   "cell_type": "code",
   "execution_count": 59,
   "metadata": {},
   "outputs": [
    {
     "name": "stdout",
     "output_type": "stream",
     "text": [
      "[1, 2, 3, 4, 5, 6, 7, 8, 9, 10]\n",
      "[1, 4, 7, 10]\n"
     ]
    }
   ],
   "source": [
    "# 分片可以控制增长幅度，默认增长幅度为1\n",
    "print(L1[ ::1])#等价于print(L1[ : ])\n",
    "print(L1[ ::3])"
   ]
  },
  {
   "cell_type": "code",
   "execution_count": 61,
   "metadata": {},
   "outputs": [
    {
     "name": "stdout",
     "output_type": "stream",
     "text": [
      "[1, 2, 3, 4, 5, 6, 7, 8, 9, 10]\n"
     ]
    }
   ],
   "source": [
    "#下标可以超出范围，超出后不再考虑多余下标内容\n",
    "print(L1[ :100])"
   ]
  },
  {
   "cell_type": "code",
   "execution_count": 71,
   "metadata": {},
   "outputs": [
    {
     "name": "stdout",
     "output_type": "stream",
     "text": [
      "[]\n",
      "[9, 8, 7]\n",
      "[7, 8, 9]\n"
     ]
    }
   ],
   "source": [
    "#下标值，增长幅度可以为负值\n",
    "#下标为负值，表明顺序是从右往左\n",
    "#规定：数组最后一个数字的下标是-1\n",
    "\n",
    "\n",
    "#下面例子为空，因为默认是从左向右移动\n",
    "print(L1[-2:-5])\n",
    "\n",
    "#打印9,8,7\n",
    "print(L1[-2:-5:-1])\n",
    "\n",
    "\n",
    "#打印7,8,9\n",
    "print(L1[-4:-1:1])"
   ]
  },
  {
   "cell_type": "markdown",
   "metadata": {},
   "source": [
    "# 关于列表的函数"
   ]
  },
  {
   "cell_type": "code",
   "execution_count": 8,
   "metadata": {},
   "outputs": [
    {
     "name": "stdout",
     "output_type": "stream",
     "text": [
      "['a', 'i love   wangxiaoli', 22, 33, (4+3j)]\n",
      "********************\n",
      "[1, 2, 3, 4]\n",
      "[1, 2, 3, 4, 100]\n"
     ]
    }
   ],
   "source": [
    "#append 插入一个内容 注意是在末尾\n",
    "\n",
    "l = ['a',\"i love   wangxiaoli\",22,33,4+3j]\n",
    "\n",
    "print(l)\n",
    "print(\"*\"  * 20)\n",
    "a =[i for i in range(1,5)]\n",
    "print(a)\n",
    "a.append(100)\n",
    "print(a)"
   ]
  },
  {
   "cell_type": "code",
   "execution_count": 17,
   "metadata": {},
   "outputs": [
    {
     "name": "stdout",
     "output_type": "stream",
     "text": [
      "[1, 2333, 2333, 2333, 2333, 2333, 2333, 2333, 2333, 2, 3, 4]\n"
     ]
    }
   ],
   "source": [
    "#  insert  制定位置插入\n",
    "# insert（index，data） 插入位置是index前面\n",
    "\n",
    "\n",
    "a.insert(1,2333)\n",
    "print(a)"
   ]
  },
  {
   "cell_type": "code",
   "execution_count": 22,
   "metadata": {},
   "outputs": [
    {
     "name": "stdout",
     "output_type": "stream",
     "text": [
      "[1, 2, 3, 4, 5, 6, 7, 8, 9]\n",
      "9\n",
      "[1, 2, 3, 4, 5, 6, 7, 8]\n"
     ]
    }
   ],
   "source": [
    "#删除\n",
    "#del\n",
    "#pop，从对位拿出一个元素，即把最后一个元素取出来\n",
    "b =[i for i in range(1,10)]\n",
    "print(b)\n",
    "tsg = b.pop()\n",
    "print(tsg)\n",
    "print(b)"
   ]
  },
  {
   "cell_type": "code",
   "execution_count": 27,
   "metadata": {},
   "outputs": [
    {
     "name": "stdout",
     "output_type": "stream",
     "text": [
      "[1, 2, 3, 4, 5, 7, 8]\n",
      "[1, 2, 3, 4, 5, 8]\n"
     ]
    }
   ],
   "source": [
    "# remove   删除制定的元素\n",
    "#如果list上没有指定元素，就会报错，\n",
    "# 所以应该先进行try。。。expect语句，或者现行判断\n",
    "# if x in list：\n",
    "#########      list.remove(x)\n",
    "print(b)\n",
    "b.remove(7)\n",
    "print(b)"
   ]
  },
  {
   "cell_type": "code",
   "execution_count": 29,
   "metadata": {},
   "outputs": [
    {
     "name": "stdout",
     "output_type": "stream",
     "text": [
      "[1, 2, 3, 4, 5, 8]\n",
      "2091569312712\n",
      "[]\n",
      "2091569312712\n"
     ]
    }
   ],
   "source": [
    "#clear:清除\n",
    "print(b)\n",
    "print(id(b))\n",
    "b.clear()\n",
    "print(b)\n",
    "print(id(b))\n",
    "\n",
    "# 如果 不需要list地址不变，只是清空list可以使用以下方式\n",
    "# a = list()\n",
    "# a =[]"
   ]
  },
  {
   "cell_type": "code",
   "execution_count": 31,
   "metadata": {},
   "outputs": [
    {
     "name": "stdout",
     "output_type": "stream",
     "text": [
      "[1, 2, 3, 4, 5, 6, 7, 8, 9]\n",
      "[9, 8, 7, 6, 5, 4, 3, 2, 1]\n"
     ]
    }
   ],
   "source": [
    "# reverse:  原地翻转，地址不变\n",
    "\n",
    "a = [1,2,3,4,5,6,7,8,9]\n",
    "print(a)\n",
    "a.reverse()\n",
    "print(a)"
   ]
  },
  {
   "cell_type": "code",
   "execution_count": 33,
   "metadata": {},
   "outputs": [
    {
     "name": "stdout",
     "output_type": "stream",
     "text": [
      "[1, 2, 3, 4, 5, 6, 7, 8, 9]\n"
     ]
    }
   ],
   "source": [
    "#extend：延长列表\n",
    "\n",
    "a =[1,2,3,4,5]\n",
    "b =[6,7,8,9]\n",
    "a.extend(b)\n",
    "print(a)"
   ]
  },
  {
   "cell_type": "code",
   "execution_count": 35,
   "metadata": {},
   "outputs": [
    {
     "name": "stdout",
     "output_type": "stream",
     "text": [
      "[1, 2, 3, 4, 5, 6, 5, 7, 8, 9, 5]\n",
      "[1, 2, 3, 4, 5, 6, 5, 7, 8, 9, 5, 5]\n",
      "[1, 2, 3, 4, 5, 6, 5, 5, 7, 8, 9, 5, 5]\n",
      "5\n"
     ]
    }
   ],
   "source": [
    "# count:  查找列表中指定值或者元素的个数\n",
    "print(a)\n",
    "a.append(5)\n",
    "print(a)\n",
    "a.insert(6,5)\n",
    "print(a)\n",
    "\n",
    "hh = a.count(5)\n",
    "print(hh)"
   ]
  },
  {
   "cell_type": "code",
   "execution_count": 39,
   "metadata": {},
   "outputs": [
    {
     "name": "stdout",
     "output_type": "stream",
     "text": [
      "[1, 3, 4, 989779, 6, 7, 8, 9, 10]\n",
      "[1, 3, 4, 989779, 6, 7, 8, 9, 10]\n",
      "******************************\n",
      "[1, 3, 4, 989779, 6, 7, 8, 9, 10]\n",
      "2091569464072\n",
      "[1, 3, 4, 989779, 6, 7, 8, 9, 10]\n",
      "2091569421704\n",
      "******************************\n",
      "[1, 3, 4, 989779, 6, 7, 8, 9, 10]\n",
      "[1, 3, 4, 989779, 100000, 7, 8, 9, 10]\n"
     ]
    }
   ],
   "source": [
    "\n",
    "a = [1,3,4,5,6,7,8,9,10]\n",
    "b = a\n",
    "\n",
    "b[3] = 989779\n",
    "print(b)\n",
    "print(a)\n",
    "#list 变量赋值操作，是传地址操作\n",
    "print(\"*\"*30)\n",
    "#为了让a 的值不变，，，采用copy :拷贝，浅拷贝\n",
    "b =a.copy()\n",
    "print(a)\n",
    "print(id(a))\n",
    "print(b)\n",
    "print(id(b))\n",
    "print(\"*\"*30)\n",
    "\n",
    "b[4] =100000\n",
    "print(a)\n",
    "print(b)"
   ]
  },
  {
   "cell_type": "code",
   "execution_count": 43,
   "metadata": {},
   "outputs": [
    {
     "name": "stdout",
     "output_type": "stream",
     "text": [
      "2091569207368\n",
      "2091569962952\n",
      "********************\n",
      "2091559742728\n",
      "2091559742728\n",
      "********************\n",
      "[1, 2, 3, [44, 55, 7777, 33]]\n",
      "[1, 2, 3, [44, 55, 7777, 33]]\n"
     ]
    }
   ],
   "source": [
    "# 深拷贝与浅拷贝的区别\n",
    "\n",
    "a =[1,2,3,[44,55,66,33]]\n",
    "c =a.copy()\n",
    "print(id(a))\n",
    "print(id(c))\n",
    "print(\"*\"*20)\n",
    "print(id(a[3]))\n",
    "print(id(c[3]))\n",
    "print(\"*\"*20)\n",
    "a[3][2] =7777\n",
    "print(a)\n",
    "print(c)\n",
    "#以上就是浅拷贝"
   ]
  },
  {
   "cell_type": "markdown",
   "metadata": {},
   "source": [
    "\n",
    "\n"
   ]
  },
  {
   "cell_type": "code",
   "execution_count": 44,
   "metadata": {},
   "outputs": [
    {
     "name": "stdout",
     "output_type": "stream",
     "text": [
      "{}\n",
      "{}\n"
     ]
    }
   ],
   "source": []
  }
 ],
 "metadata": {
  "kernelspec": {
   "display_name": "Python 3",
   "language": "python",
   "name": "python3"
  },
  "language_info": {
   "codemirror_mode": {
    "name": "ipython",
    "version": 3
   },
   "file_extension": ".py",
   "mimetype": "text/x-python",
   "name": "python",
   "nbconvert_exporter": "python",
   "pygments_lexer": "ipython3",
   "version": "3.6.5"
  }
 },
 "nbformat": 4,
 "nbformat_minor": 2
}
