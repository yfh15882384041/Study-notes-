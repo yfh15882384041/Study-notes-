{
 "cells": [
  {
   "cell_type": "markdown",
   "metadata": {},
   "source": [
    "# 正则表达式（RegularExpression，re）\n",
    "- 是一个计算机科学概念\n",
    "- 用于使用单个字符串来描述，匹配符合某个规则的字符串\n",
    "- 常常用来检索，替换某些模式的文本\n",
    "\n",
    "## 正则的写法\n",
    "- .(点号）：表示任意一个字符，除了\\n，比如查找所有的一个字符\\.\n",
    "- []: 匹配中括号中举例的任意字符，比如[L,Y,0],lly,da,vea\n",
    "- \\d: 任意一个数字\n",
    "- \\D: 除了数字都可以\n",
    "- \\s: 表示空格\n",
    "- \\S: 除了空白符号\n",
    "- \\w: 单词字符\n",
    "- 还有 很多  自行百度\n"
   ]
  },
  {
   "cell_type": "markdown",
   "metadata": {},
   "source": [
    "# RE使用大致步骤\n",
    "- 使用compile将表示正则的字符串翻译为一个pattern对象\n",
    "- 通过pattern对象提供一系列方法对文本进行查找匹配，获得匹配结果，一个Match对象\n",
    "- 最后使用Match对象提供的属性和方法获得信息，根据需要进行操作\n",
    "\n",
    "## RE常用函数\n",
    "- group（）： 获得一个或者多个分组匹配的字符串，当要获得整个字符串时，直接使用group或者group（（））\n",
    "- start： 获取分组匹配的字符串在整个字符串中的实际位置、参数默认为0\n",
    "- end： 获取分组匹配的子串在整个字符串中的结束位置，默认为0\n",
    "- span：返回的结构技术（start（group），end（group））"
   ]
  },
  {
   "cell_type": "code",
   "execution_count": 8,
   "metadata": {},
   "outputs": [
    {
     "name": "stdout",
     "output_type": "stream",
     "text": [
      "None\n"
     ]
    }
   ],
   "source": [
    "# 关于正则的包  re\n",
    "import re\n",
    "\n",
    "# 查找数字\n",
    "p = re.compile(r'\\d+')\n",
    "#在字符串onecibi28cak7582中进行查找，按照规则p制定的正则进行查找\n",
    "k = p.match(\"mmm5m8i2\")\n",
    "print(k)\n",
    "# 返回结果为None表示没有找到\n",
    "# 第一个必须是数字"
   ]
  },
  {
   "cell_type": "code",
   "execution_count": 14,
   "metadata": {},
   "outputs": [
    {
     "name": "stdout",
     "output_type": "stream",
     "text": [
      "<_sre.SRE_Match object; span=(3, 7), match='5844'>\n"
     ]
    }
   ],
   "source": [
    "# 关于正则的包  re\n",
    "import re\n",
    "\n",
    "# 查找数字\n",
    "p = re.compile(r'\\d+')\n",
    "#在字符串onecibi28cak7582中进行查找，按照规则p制定的正则进行查找\n",
    "k = p.match(\"mmm5844daad446\",3,7)#可以指定范围\n",
    "print(k)\n",
    "# 返回结果为None表示没有找到\n",
    "# 第一个必须是数字"
   ]
  },
  {
   "cell_type": "code",
   "execution_count": 17,
   "metadata": {},
   "outputs": [
    {
     "name": "stdout",
     "output_type": "stream",
     "text": [
      "5844\n",
      "3\n",
      "7\n"
     ]
    }
   ],
   "source": [
    "print(k[0])\n",
    "print(k.start(0))\n",
    "print(k.end(0))"
   ]
  },
  {
   "cell_type": "code",
   "execution_count": 18,
   "metadata": {},
   "outputs": [
    {
     "name": "stdout",
     "output_type": "stream",
     "text": [
      "<_sre.SRE_Match object; span=(0, 4), match='i am'>\n"
     ]
    }
   ],
   "source": [
    "import re\n",
    "#I 表示忽略大小写\n",
    "\n",
    "p = re.compile(r'([a-z])+ ([a-z]+)',re.I)\n",
    "\n",
    "m =p.match(\"i am  really  love wangxiaojing\")\n",
    "print(m)\n",
    "    \n",
    "    "
   ]
  },
  {
   "cell_type": "code",
   "execution_count": 29,
   "metadata": {},
   "outputs": [
    {
     "name": "stdout",
     "output_type": "stream",
     "text": [
      "am\n",
      "i\n",
      "i am\n",
      "i am\n",
      "****************************************\n",
      "2\n",
      "4\n",
      "****************************************\n",
      "i\n",
      "0\n",
      "1\n",
      "****************************************\n",
      "i am\n",
      "0\n",
      "4\n",
      "****************************************\n"
     ]
    }
   ],
   "source": [
    "print(m.group(2))\n",
    "print(m.group(1))\n",
    "print(m.group(0))\n",
    "print(m.group())\n",
    "print(\"*\"*40)\n",
    "print(m.start(2))\n",
    "print(m.end(2))\n",
    "print(\"*\"*40)\n",
    "print(m.group(1))\n",
    "print(m.start(1))\n",
    "print(m.end(1))\n",
    "print(\"*\"*40)\n",
    "print(m.group(0))\n",
    "print(m.start(0))\n",
    "print(m.end(0))\n",
    "print(\"*\"*40)"
   ]
  },
  {
   "cell_type": "markdown",
   "metadata": {},
   "source": [
    "# 查找\n",
    "- search（str，[, pos[, endpos]]: 在字符串中查找匹配，pos和denpos表示起始位置\n",
    "- findall： 查找所有\n",
    "- finditer： 查找，返回一个iteration结果"
   ]
  },
  {
   "cell_type": "code",
   "execution_count": 32,
   "metadata": {},
   "outputs": [
    {
     "name": "stdout",
     "output_type": "stream",
     "text": [
      "121\n",
      "****************************************\n",
      "['121', '161', '1231']\n"
     ]
    }
   ],
   "source": [
    "import re \n",
    "p = re.compile(r'\\d+')\n",
    "\n",
    "m = p.search(\"one121ad161eac1231eac\")\n",
    "\n",
    "print(m.group())\n",
    "print(\"*\"*40)\n",
    "\n",
    "rst = p.findall(\"one121ad161eac1231eac\")\n",
    "print(rst)"
   ]
  },
  {
   "cell_type": "markdown",
   "metadata": {},
   "source": [
    "# sub替换\n",
    "- sub(rep1, str[, count])"
   ]
  },
  {
   "cell_type": "code",
   "execution_count": 35,
   "metadata": {},
   "outputs": [
    {
     "name": "stdout",
     "output_type": "stream",
     "text": [
      "Hello word Hello word Hello word jng\n"
     ]
    }
   ],
   "source": [
    "import re\n",
    "p = re.compile(r'(\\w+) (\\w+)')\n",
    "\n",
    "s =\"hello i love 8813 wang xia jng\"\n",
    "rst = p.sub(r'Hello word', s)\n",
    "print(rst)"
   ]
  },
  {
   "cell_type": "markdown",
   "metadata": {},
   "source": [
    "# 匹配中文\n",
    "- 大部分中文内容表示范围是[u4e00-u9fa5],不包括全角标点\n"
   ]
  },
  {
   "cell_type": "code",
   "execution_count": 38,
   "metadata": {},
   "outputs": [
    {
     "name": "stdout",
     "output_type": "stream",
     "text": [
      "['世界', '你好']\n"
     ]
    }
   ],
   "source": [
    "import re\n",
    "\n",
    "title = u'世界 你好  hello World'\n",
    "\n",
    "p = re.compile(r'[\\u4e00-\\u9fa5]+')   # 匹配中文\n",
    "rst = p.findall(title)\n",
    "print(rst)"
   ]
  },
  {
   "cell_type": "markdown",
   "metadata": {},
   "source": [
    "# 贪婪和非贪婪\n",
    "- 贪婪： 尽可能多的匹配   ，  （*）表示贪婪匹配\n",
    "- 非贪婪： 找到符合条件的最小内容即可， （?）表示非贪婪\n",
    "- 正则默认使用贪婪匹配"
   ]
  },
  {
   "cell_type": "code",
   "execution_count": 39,
   "metadata": {},
   "outputs": [
    {
     "name": "stdout",
     "output_type": "stream",
     "text": [
      "<div>name</div> <div>age</div>\n",
      "<div>name</div>\n"
     ]
    }
   ],
   "source": [
    "import re\n",
    "title = u'<div>name</div> <div>age</div>'\n",
    "p1 = re.compile(r\"<div>.*</div>\")\n",
    "p2 = re.compile(r\"<div>.*?</div>\")\n",
    "\n",
    "m1 = p1.search(title)\n",
    "print(m1.group())\n",
    "\n",
    "\n",
    "m2 = p2.search(title)\n",
    "print(m2.group())"
   ]
  },
  {
   "cell_type": "markdown",
   "metadata": {},
   "source": [
    "# XPath\n",
    "- 在XML文件中查找信息的一套规则/语言， 根据XML的元素或者属性进行遍历\n",
    "- http://www.w3school.com.cn/xpath/index.asp\n",
    "\n",
    "# XPath 开发\n",
    "- 开源xpath表达式编辑器工具，XMLQuire\n",
    "- Chrome插件： XPath Helper\n",
    "- Firefox：   XPath Checker\n",
    "\n",
    "# 选取节点（以下有案列XML文件）\n",
    "- nodename： 选取此节点的所有子节点\n",
    "- /:   从根节点开始选\n",
    "\n",
    "\n",
    "          /Student： 没有选取结果\n",
    "          /School: 选取School节点\n",
    "        \n",
    "- //: 选取节点， 不考虑位置\n",
    "\n",
    "          //age: 选取出三个节点，一般组成列表返回\n",
    "          \n",
    "          \n",
    "- .  :   选取当前节点\n",
    "- .. :   选取当前节点的父节点\n",
    "- &  ：   选取属性\n",
    "- XPath中查找一般按照路径方法查找， 一下是路径表示方法\n",
    "\n",
    "         School/Teacher： 返回Teacher节点\n",
    "         School/Student： 返回两个Student节点\n",
    "         //Student： 选取所有Student的节点，不考虑位置\n",
    "         School//Age： 选取School后代中所有Age节点\n",
    "         //@other： 选取other属性\n",
    "         //Age[@Detail]: 选取带有属性Detail的Age元素\n",
    "         \n",
    "# 谓语---Predicate\n",
    "- /School/Student[1]:  选取School下面的第一个Student节点\n",
    "- /School/Student[last（）]:  选取School下面的最后一个Student节点\n",
    "- /School/Student[last（）-1]:  选取School下面的倒数第二个Student节点\n",
    "- /School/Student[last（）< 3]:  选取School下面的前两个Student节点\n",
    "- //Student[@score]:   选取带有属性score的Student节点\n",
    "- //Student[@score=\"99\"]:  选取带有属性score并且属性值是99的Student节点\n",
    "- //Student[@score]/Age:   选取带有属性score的Student节点的子节点Age\n",
    "\n",
    "\n",
    "# XPath的一些操作\n",
    "- |：或者\n",
    "- 还有些其他操作"
   ]
  },
  {
   "cell_type": "code",
   "execution_count": null,
   "metadata": {},
   "outputs": [],
   "source": []
  }
 ],
 "metadata": {
  "kernelspec": {
   "display_name": "Python 3",
   "language": "python",
   "name": "python3"
  },
  "language_info": {
   "codemirror_mode": {
    "name": "ipython",
    "version": 3
   },
   "file_extension": ".py",
   "mimetype": "text/x-python",
   "name": "python",
   "nbconvert_exporter": "python",
   "pygments_lexer": "ipython3",
   "version": "3.6.5"
  }
 },
 "nbformat": 4,
 "nbformat_minor": 2
}
