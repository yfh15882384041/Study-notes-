{
 "cells": [
  {
   "cell_type": "markdown",
   "metadata": {},
   "source": [
    "# 面向对象 OOP\n",
    "- 思想：\n",
    "  - 以模块化的思想解决工程问题\n",
    "  - 面向过程 vs 面向对象 \n",
    "  - 由面向过程转向面向对象\n",
    "  - 列子：我要开一个学校，叫轻易学院，主要讲少儿编程：\n",
    "    - 讲师\n",
    "    - 学生\n",
    "    - 班主任\n",
    "    - 教师\n",
    "    - 学校\n",
    "- 常用名词：\n",
    "  - oo: 面向对象\n",
    "  - ooa： 分析\n",
    "  - ood：设计\n",
    "  - oop ：编程\n",
    "  - ool：实现\n",
    "  - ooa -> ood -> ool\n",
    "  \n",
    "- 类 vs 对象\n",
    "  - 类：抽象，描述的是一个集合，测重于共性\n",
    "  - 对象：具体的，描述的是一个个体\n",
    "  \n",
    "- 类的内容：\n",
    "  - 动作：函数\n",
    "  - 属性：变量\n",
    "  \n",
    "- is-a\n",
    "\n",
    "- 定义类：class关键字\n",
    "- 类命名：\n",
    "  - 遵循大驼峰\n",
    "  - 第一个字母大写\n",
    "  "
   ]
  },
  {
   "cell_type": "code",
   "execution_count": 2,
   "metadata": {},
   "outputs": [],
   "source": [
    "# 定义学生类，和几个学生\n",
    "\n",
    "class Student():\n",
    "    ## 此处定义一个空类\n",
    "    ## pass是关键词，表示占位用的无意义。\n",
    "    pass\n"
   ]
  },
  {
   "cell_type": "code",
   "execution_count": 3,
   "metadata": {},
   "outputs": [],
   "source": [
    "class StudentNoPass():\n",
    "    pass\n"
   ]
  },
  {
   "cell_type": "code",
   "execution_count": 4,
   "metadata": {},
   "outputs": [],
   "source": [
    "# 定义一个对象\n",
    "\n",
    "xiaomig = Student()"
   ]
  },
  {
   "cell_type": "markdown",
   "metadata": {},
   "source": [
    "# 类的属性\n",
    "- 类的例子\n",
    "- 注意类的定义"
   ]
  },
  {
   "cell_type": "code",
   "execution_count": 3,
   "metadata": {},
   "outputs": [
    {
     "name": "stdout",
     "output_type": "stream",
     "text": [
      "22\n",
      "yfh\n",
      "python\n"
     ]
    }
   ],
   "source": [
    "class PythonStudent():\n",
    "    name = \"yfh\"\n",
    "    age = 22\n",
    "    course = \"python\"\n",
    "\n",
    "    #定义类中的函数\n",
    "    #一般需要self关键字\n",
    "    #其余跟普通函数基本相同\n",
    "\n",
    "    \n",
    "    def giveMeMoney(self):\n",
    "        print(\"haahahahha\")\n",
    "        return None\n",
    "\n",
    "# self可以更换名称\n",
    "    def sayhi(nana):\n",
    "        print(\"哈喽\")\n",
    "        return None\n",
    "    \n",
    "xiaobai =  PythonStudent()\n",
    "print(xiaobai.age)\n",
    "print(xiaobai.name)\n",
    "print(xiaobai.course)"
   ]
  },
  {
   "cell_type": "markdown",
   "metadata": {},
   "source": [
    "\n",
    "\n"
   ]
  },
  {
   "cell_type": "code",
   "execution_count": 14,
   "metadata": {},
   "outputs": [
    {
     "name": "stdout",
     "output_type": "stream",
     "text": [
      "<__main__.Student object at 0x000001DDAAF50550>\n"
     ]
    }
   ],
   "source": [
    "# 实例化\n",
    "#中文能否当做变量名称  ：   可以但是不建议使用\n",
    "二娃 = Student()\n",
    "print(二娃)"
   ]
  },
  {
   "cell_type": "markdown",
   "metadata": {},
   "source": [
    "#  self \n",
    "- self可以用别的名称代替\n",
    "- self不是关键字\n",
    "- 作用是指代本身"
   ]
  },
  {
   "cell_type": "code",
   "execution_count": 17,
   "metadata": {},
   "outputs": [
    {
     "name": "stdout",
     "output_type": "stream",
     "text": [
      "haahahahha\n",
      "哈喽\n"
     ]
    }
   ],
   "source": [
    "# self实例\n",
    "# 实例调用\n",
    "\n",
    "yaoyao = PythonStudent()\n",
    "\n",
    "# 调用的时候居然没有输入参数\n",
    "#因为默认实例（这里就是yaoyao）作为第一个参数\n",
    "yaoyao.giveMeMoney()\n",
    "yaoyao.sayhi()\n",
    "\n"
   ]
  },
  {
   "cell_type": "markdown",
   "metadata": {},
   "source": [
    "# 类的变量作用域的问题\n",
    "- 类变量：属于类自己的变量\n",
    "- 实例变量：属于实例的变量\n",
    "- 访问实例的属性，如果实例没有定义，则自动访问类的属性；如果类也没有定义就报错。"
   ]
  },
  {
   "cell_type": "code",
   "execution_count": 23,
   "metadata": {},
   "outputs": [
    {
     "name": "stdout",
     "output_type": "stream",
     "text": [
      "我的名字是马德拉,今年18,在学习python课程\n"
     ]
    }
   ],
   "source": [
    "class Student():\n",
    "    \n",
    "    #name、age、course是类（这里是self）的变量\n",
    "    #注意类的变量的定义位置和方法\n",
    "    #不需要前缀\n",
    "    name = \"马德拉\"\n",
    "    age = 18\n",
    "    course = \"python\"\n",
    "\n",
    "    #定义类中的函数\n",
    "    #一般需要self关键字\n",
    "    #其余跟普通函数基本相同\n",
    "\n",
    "\n",
    "\n",
    "\n",
    "    def sayhi(self):\n",
    "        print(\"我的名字是{},今年{},在学习{}课程\".format(self.name ,self.age ,self.course))\n",
    "        \n",
    "        return None\n",
    "    \n",
    "#以下案例说明，实例变量可以借用类的变量\n",
    "\n",
    "erjing = Student()\n",
    "erjing.sayhi()\n",
    "       \n",
    "    "
   ]
  },
  {
   "cell_type": "code",
   "execution_count": 6,
   "metadata": {},
   "outputs": [
    {
     "name": "stdout",
     "output_type": "stream",
     "text": [
      "我的名字是erjing,今年17,在学习shuxue课程\n",
      "我的名字是马德拉,今年18,在学习python课程\n",
      "我的名字是erjing,今年17,在学习shuxue课程\n"
     ]
    }
   ],
   "source": [
    "class Student1():\n",
    "    \n",
    "    #name、age、course是类（这里是self）的变量\n",
    "    #注意类的变量的定义位置和方法\n",
    "    #不需要前缀\n",
    "    name = \"马德拉\"\n",
    "    age = 18\n",
    "    course = \"python\"\n",
    "\n",
    "    #定义类中的函数\n",
    "    #一般需要self关键字\n",
    "    #其余跟普通函数基本相同\n",
    "\n",
    "\n",
    "\n",
    "\n",
    "    def sayhi(self,n,a,b):\n",
    "        self.name = n\n",
    "        self.age = a\n",
    "        self.course = b\n",
    "        print(\"我的名字是{},今年{},在学习{}课程\".format(self.name ,self.age ,self.course))\n",
    "        \n",
    "        return None\n",
    "    \n",
    "#以下案例说明，实例变量可以借用类的变量\n",
    "\n",
    "erjing = Student1()\n",
    "erjing.sayhi(\"erjing\",17,\"shuxue\")\n",
    "print(\"我的名字是{},今年{},在学习{}课程\".format(Student1.name ,Student1.age ,Student1.course))\n",
    "print(\"我的名字是{},今年{},在学习{}课程\".format(erjing.name ,erjing.age ,erjing.course))\n",
    "# 如果访问实例的属性没有定义，则自动访问类的属性\n",
    "# e如果类也没定义就报错\n",
    "\n"
   ]
  },
  {
   "cell_type": "markdown",
   "metadata": {},
   "source": [
    "# 访问类的属性\n",
    "- 在类里面如果强制访问类的属性，则需要使用用(__class__)(注意是两个下划线）\n",
    "- 类方法：\n",
    "  - 定义类的方法的时候，没有self参数\n",
    "  - 类的方法中只允许使用类的内容\n",
    "  - 两种用法：\n",
    "    - ClassName\n",
    "    - (__class__)\n"
   ]
  },
  {
   "cell_type": "code",
   "execution_count": 16,
   "metadata": {},
   "outputs": [
    {
     "name": "stdout",
     "output_type": "stream",
     "text": [
      "我的名字是马德拉,今年18,在学习python课程\n",
      "我的名字是马德拉,今年18,在学习python课程\n"
     ]
    }
   ],
   "source": [
    "class Student3():\n",
    "    \n",
    "    #name、age、course是类（这里是self）的变量\n",
    "    #注意类的变量的定义位置和方法\n",
    "    #不需要前缀\n",
    "    name = \"马德拉\"\n",
    "    age = 18\n",
    "    course = \"python\"\n",
    "\n",
    "    #定义类中的函数\n",
    "    #一般需要self关键字\n",
    "    #其余跟普通函数基本相同\n",
    "\n",
    "\n",
    "\n",
    "\n",
    "    def sayhi(self):\n",
    "\n",
    "        print(\"我的名字是{},今年{},在学习{}课程\".format(self.name ,self.age ,self.course))\n",
    "        \n",
    "        return None\n",
    "    \n",
    "    # sos:是类的方法\n",
    "    # 如何访问类的变量\n",
    "    #但是调用需要用到特殊的方法\n",
    "    def sos():\n",
    "        #类的方法中不允许实例的任何内容\n",
    "        # 如果要访问类的内容，注意两种用法: 直接用类的名称；用__class__.\n",
    "        print(\"我的名字是{},今年{},在学习{}课程\".format(Student3.name ,__class__.age ,Student3.course))\n",
    "        return None\n",
    "    \n",
    "# 体验类的方法\n",
    "s = Student3()\n",
    "s.sayhi()\n",
    "# 调用绑定类方法的例子\n",
    "Student3.sos()"
   ]
  },
  {
   "cell_type": "markdown",
   "metadata": {},
   "source": [
    "# 构造函数\n",
    "- 实例化的时候，执行一些基础性的初始化的工作\n",
    "- 使用特殊的名称和写法\n",
    "- 在实例化的时候自动执行\n",
    "- 是实例化的时候第一个默认被执行的函数\n",
    "- 要求：第一个参数必须有，一般推荐self\n",
    "- 一般不手动调用，实例化的时候自动调用，参数需写类名称后面的括号中\n"
   ]
  },
  {
   "cell_type": "code",
   "execution_count": 21,
   "metadata": {},
   "outputs": [
    {
     "name": "stdout",
     "output_type": "stream",
     "text": [
      "我是构造函数\n",
      "___________---\n",
      "yfh\n",
      "23\n"
     ]
    }
   ],
   "source": [
    "# 注意类的定义\n",
    " \n",
    "class Student4():\n",
    "    name = \"yfh\"\n",
    "    age = 23\n",
    "    \n",
    "    # 构造函数名称固定，写法相对简单\n",
    "    def __init__(self):\n",
    "        print(\"我是构造函数\")\n",
    "    \n",
    "\n",
    "ni = Student4()#此时已经调用构造函数了\n",
    "print(\"___________---\")\n",
    "print(ni.name)\n",
    "print(ni.age)"
   ]
  },
  {
   "cell_type": "code",
   "execution_count": 42,
   "metadata": {},
   "outputs": [
    {
     "name": "stdout",
     "output_type": "stream",
     "text": [
      "张三 22\n"
     ]
    }
   ],
   "source": [
    "#实例\n",
    "\n",
    "class Person():\n",
    "    def __init__(self,name,age):\n",
    "        print(name,age)\n",
    "        \n",
    "p = Person(\"张三\",22)\n"
   ]
  },
  {
   "cell_type": "code",
   "execution_count": 11,
   "metadata": {},
   "outputs": [
    {
     "name": "stdout",
     "output_type": "stream",
     "text": [
      "我是构造函数\n",
      "********************\n",
      "aaaaa\n",
      "220\n",
      "aaaaa\n",
      "220\n",
      "yfh\n",
      "22\n",
      "********************\n",
      "bbbbb\n",
      "30\n"
     ]
    }
   ],
   "source": [
    "class A():\n",
    "    name = \"yfh\"\n",
    "    age = 22\n",
    "    \n",
    "    def __init__(self):\n",
    "        print(\"我是构造函数\")\n",
    "        self.name = \"aaaaa\"\n",
    "        self.age = 220\n",
    "        \n",
    "    def hh(self):\n",
    "        print(self.name)\n",
    "        print(self.age)\n",
    "        \n",
    "        \n",
    "class B():\n",
    "    name = \"bbbbb\"\n",
    "    age = 30\n",
    "    \n",
    "a = A()\n",
    "print(\"*\" * 20)\n",
    "#系统会默认把a作为第一个参数传入函数\n",
    "a.hh()\n",
    "print(a.name)\n",
    "print(a.age)\n",
    "print(A.name)\n",
    "print(A.age)\n",
    "print(\"*\" * 20)\n",
    "#此时self被a替换\n",
    "A.hh(B)"
   ]
  },
  {
   "cell_type": "markdown",
   "metadata": {},
   "source": [
    "# 面向对象的三大特征\n",
    "- 继承\n",
    "- 封装\n",
    "- 多态\n"
   ]
  },
  {
   "cell_type": "markdown",
   "metadata": {},
   "source": [
    "# 继承\n",
    "- 子类可以使用父类定义的内容或者行为等\n",
    "- 继承的实现；\n",
    "  - 父类：基类，超类，被继承的类  Baste class  super class\n",
    "  - 子类：有继承行为的类\n",
    "  \n",
    "  - 所有类必须有一个父类\n",
    "   - 如果没有 ，则默认是object的子类\n",
    "   - 子类可以有多个父类\n",
    "  \n",
    "- 继承的特征\n",
    "  - 所有的类都能继承自object类，即所有的类都是object类的子类\n",
    "  - 子类一旦能继承父类，即可以使用父类中除私有成员外的所有内容\n",
    "  - 子类能继承父类后并没有将父类成员完全赋值到子类中，而是通过引用关系访问调用\n",
    "  - 子类中可以定义独有的成员属性和方法\n",
    "  - 子类中定义的成员和父类成员如果相同，则优先使用子类成员\n",
    "  - 子类如果想扩充父类的方法，可以在定义新方法的同时，访问父类成员来进行代码重用，可以使用  父类名.父类成员 的格式来调用父类成员，也可以使用 super（）.父类成员 的格式来调用\n",
    "- 继承变量函数的查找顺序问题\n",
    "  - 优先查找自己的变量\n",
    "  - 没有则查找父类\n",
    "  - 构造函数如果在本类中没有定义，则自动查找调用父类构造函数\n",
    "  - 如果本类有定义，则不再向上查找\n",
    "- super\n",
    "  - super不是关键字，而是一个类\n",
    "  - super的作用是获取MRO列表中的第一个类\n",
    "  - super于父类没有直接的实质性关系，但是通过super可以调用到父类。\n",
    "- 单继承与多继承\n",
    "  - 单继承：每个类只能继承一个类\n",
    "  - 多继承:每个类允许继承多个类\n",
    "  - 优缺点：\n",
    "    - 单继承：\n",
    "      - 优点：传承有序逻辑清晰语法简单隐患少\n",
    "      - 缺点：功能不能无限扩展，只能在当前唯一的继承链中扩展\n",
    "    - 多继承：\n",
    "      - 优点：类的功能扩展方便\n",
    "      - 缺点：继承关系混乱\n",
    "- 菱形继承/钻石继承问题\n",
    "  - 多个子类继承同一个父类，这些子类由被同一个类继承，于是继承关系图形成一个菱形图谱\n",
    "  - MRO(http://www.cnblogs.com/whatisfantasy/p/6946991.html)\n",
    "  - 关于多继承的MRO\n",
    "    - MRO就是多继承，用于保存继承顺序的一个列表\n",
    "    - Python本身采用C3算法来多继承的菱形继承进行计算的结果\n",
    "    - MRO列表的计算原则：\n",
    "      - 子类永远在父类前面\n",
    "      - 如果多个父类，则根据多继承语法中括号中类的书写顺序存放\n",
    "      - 如果多个类继承同一个父类，则孙子类中只会选取继承语法括号中第一个父类的父类\n",
    "    "
   ]
  },
  {
   "cell_type": "code",
   "execution_count": 22,
   "metadata": {},
   "outputs": [],
   "source": [
    "# 所有类必须有一个父类\n",
    "# 默认是object的子类\n",
    "class Person1():\n",
    "    pass\n",
    "\n",
    "class Person2(object):\n",
    "    pass"
   ]
  },
  {
   "cell_type": "code",
   "execution_count": 24,
   "metadata": {},
   "outputs": [
    {
     "name": "stdout",
     "output_type": "stream",
     "text": [
      "22\n"
     ]
    }
   ],
   "source": [
    "class Person3():\n",
    "    name = \"nana\"\n",
    "    age = 22\n",
    "    \n",
    "    \n",
    "    #父类写在类定义的时候的括号里\n",
    "class Teacher(Person3):\n",
    "    pass\n",
    "  \n",
    "a = Teacher()\n",
    "print(a.age)"
   ]
  },
  {
   "cell_type": "code",
   "execution_count": 28,
   "metadata": {},
   "outputs": [
    {
     "name": "stdout",
     "output_type": "stream",
     "text": [
      "okokokok\n",
      "nana\n",
      "22\n"
     ]
    }
   ],
   "source": [
    "class Bird():\n",
    "    fly = \"YES.WE CAN\"\n",
    "    def fiying(self):\n",
    "        print(\"okokokok\")\n",
    "        \n",
    "        \n",
    "class BirdMan(Person3,Bird):\n",
    "    pass\n",
    "\n",
    "\n",
    "fm = BirdMan()\n",
    "fm.fiying()\n",
    "print(fm.name)\n",
    "print(fm.age)"
   ]
  },
  {
   "cell_type": "code",
   "execution_count": 33,
   "metadata": {},
   "outputs": [
    {
     "name": "stdout",
     "output_type": "stream",
     "text": [
      "Help on class super in module builtins:\n",
      "\n",
      "class super(object)\n",
      " |  super() -> same as super(__class__, <first argument>)\n",
      " |  super(type) -> unbound super object\n",
      " |  super(type, obj) -> bound super object; requires isinstance(obj, type)\n",
      " |  super(type, type2) -> bound super object; requires issubclass(type2, type)\n",
      " |  Typical use to call a cooperative superclass method:\n",
      " |  class C(B):\n",
      " |      def meth(self, arg):\n",
      " |          super().meth(arg)\n",
      " |  This works for class methods too:\n",
      " |  class C(B):\n",
      " |      @classmethod\n",
      " |      def cmeth(cls, arg):\n",
      " |          super().cmeth(arg)\n",
      " |  \n",
      " |  Methods defined here:\n",
      " |  \n",
      " |  __get__(self, instance, owner, /)\n",
      " |      Return an attribute of instance, which is of type owner.\n",
      " |  \n",
      " |  __getattribute__(self, name, /)\n",
      " |      Return getattr(self, name).\n",
      " |  \n",
      " |  __init__(self, /, *args, **kwargs)\n",
      " |      Initialize self.  See help(type(self)) for accurate signature.\n",
      " |  \n",
      " |  __new__(*args, **kwargs) from builtins.type\n",
      " |      Create and return a new object.  See help(type) for accurate signature.\n",
      " |  \n",
      " |  __repr__(self, /)\n",
      " |      Return repr(self).\n",
      " |  \n",
      " |  ----------------------------------------------------------------------\n",
      " |  Data descriptors defined here:\n",
      " |  \n",
      " |  __self__\n",
      " |      the instance invoking super(); may be None\n",
      " |  \n",
      " |  __self_class__\n",
      " |      the type of the instance invoking super(); may be None\n",
      " |  \n",
      " |  __thisclass__\n",
      " |      the class invoking super()\n",
      "\n"
     ]
    }
   ],
   "source": [
    "# 说明super\n",
    "help(super)"
   ]
  },
  {
   "cell_type": "code",
   "execution_count": 36,
   "metadata": {},
   "outputs": [
    {
     "name": "stdout",
     "output_type": "stream",
     "text": [
      "在工作中\n",
      "i am swimming\n",
      "i am fiying\n"
     ]
    }
   ],
   "source": [
    "#多继承案列\n",
    "#子类可以直接拥有父类的属性，私有属性和方法除外\n",
    "class Fish():\n",
    "    def __init__(self,name):\n",
    "        self.name = name\n",
    "    def swim(self):\n",
    "        print(\"i am swimming\")\n",
    "        \n",
    "class Bird():\n",
    "    def __init__(self,name):\n",
    "        self.name = name\n",
    "    def fly(self):\n",
    "        print(\"i am fiying\")\n",
    "        \n",
    "class Person():\n",
    "    def __init__(self,name):\n",
    "        self.name = name\n",
    "    def work(self):\n",
    "        print(\"在工作中\")\n",
    "        \n",
    "class Superman(Person,Bird,Fish):\n",
    "    def __init__(self,name):\n",
    "        self.name = name\n",
    "\n",
    "s = Superman(\"yueyue\")\n",
    "s.work()\n",
    "s.swim()\n",
    "s.fly()"
   ]
  },
  {
   "cell_type": "code",
   "execution_count": 2,
   "metadata": {},
   "outputs": [
    {
     "name": "stdout",
     "output_type": "stream",
     "text": [
      "(<class '__main__.D'>, <class '__main__.B'>, <class '__main__.C'>, <class '__main__.A'>, <class 'object'>)\n",
      "(<class '__main__.C'>, <class '__main__.A'>, <class 'object'>)\n"
     ]
    }
   ],
   "source": [
    "# 菱形继承问题\n",
    "class A():\n",
    "    pass \n",
    "class B(A):\n",
    "    pass\n",
    "class C(A):\n",
    "    pass\n",
    "class D(B,C):\n",
    "    pass\n",
    "print(D.__mro__)\n",
    "print(C.__mro__)"
   ]
  },
  {
   "cell_type": "markdown",
   "metadata": {},
   "source": [
    "##  issubclass 检测是否是子类\n",
    "- 可以用来检测两个类的父子关系"
   ]
  },
  {
   "cell_type": "code",
   "execution_count": 35,
   "metadata": {},
   "outputs": [
    {
     "name": "stdout",
     "output_type": "stream",
     "text": [
      "True\n",
      "True\n",
      "False\n",
      "True\n"
     ]
    }
   ],
   "source": [
    "# 利用刚才定义的Bird，BirdMan，Person3，Teacher，检测父子关系\n",
    "\n",
    "# 从第二个和第三个可以看出，正确写法为  子在前 ，父在后\n",
    "print(issubclass(BirdMan,Bird))\n",
    "print(issubclass(BirdMan,Person3))\n",
    "print(issubclass(Person3,BirdMan))\n",
    "print(issubclass(Teacher,Person3))"
   ]
  },
  {
   "cell_type": "markdown",
   "metadata": {},
   "source": [
    "# 构造函数的继承\n",
    "- 构造函数默认继承\n",
    "- 一旦子类定义了构造函数，则不能自动调用父类构造函数\n",
    "- 如果没有定义，则自动查找父类构造函数\n",
    "- 如果子类没有定义，父类的构造函数带参数，则构造对象时的参数应该按父类参数构造\n",
    "\n"
   ]
  },
  {
   "cell_type": "code",
   "execution_count": 13,
   "metadata": {},
   "outputs": [
    {
     "name": "stdout",
     "output_type": "stream",
     "text": [
      "person是刘大拿,22\n"
     ]
    }
   ],
   "source": [
    "# 构造函数默认继承\n",
    "class Person11():\n",
    "    def __init__(self,name,age):\n",
    "        print(\"person是{},{}\".format(name,age))\n",
    "class Teacher11(Person11):\n",
    "    pass\n",
    "\n",
    "t =  Teacher11(\"刘大拿\",22)\n"
   ]
  },
  {
   "cell_type": "code",
   "execution_count": 32,
   "metadata": {},
   "outputs": [
    {
     "name": "stdout",
     "output_type": "stream",
     "text": [
      "(<class '__main__.A'>, <class 'object'>)\n",
      "(<class '__main__.B'>, <class '__main__.A'>, <class 'object'>)\n"
     ]
    }
   ],
   "source": [
    "#super的使用案例\n",
    "class A():\n",
    "    pass\n",
    "class B(A):\n",
    "    pass\n",
    "\n",
    "print(A.__mro__)\n",
    "print(B.__mro__)"
   ]
  },
  {
   "cell_type": "markdown",
   "metadata": {},
   "source": [
    "# 封装\n",
    "- 封装就是对对象的成员进行访问限制\n",
    "- 封装的三个级别\n",
    "  - 公开 public\n",
    "  - 受保护的 protected\n",
    "  - 私有的 private\n",
    "  - public，protected，private不是关键字\n",
    "- 判别对象的位置\n",
    "  - 对象内部\n",
    "  - 对象外部\n",
    "  - 子类中\n",
    "  \n",
    "- 私有 private（Python的私有不是真的私有，是一种成为name  mangling 的改名策略，可以使用对象_classname_attributename访问）\n",
    "  - 私有成员是最高级别的封装，只能在当前类或对象中访问\n",
    "  - 在成员呢前面添加两个下划线即可\n",
    "  \n",
    "- 受保护的封装  protected\n",
    "  - 受保护的封装是将对象成员进行一定级别的封装，然后，在类中或者子类中都可以访问，但是在外部不可以\n",
    "  - 封装方法： 在成员名称前加一个下划线即可\n",
    "  \n",
    "- 公开的 public\n",
    "  - 公共的封装实际对成员没有任何操作，任何地方都可以访问"
   ]
  },
  {
   "cell_type": "code",
   "execution_count": 11,
   "metadata": {},
   "outputs": [
    {
     "name": "stdout",
     "output_type": "stream",
     "text": [
      "sda\n",
      "{'__module__': '__main__', 'name': 'sda', '_Person__age': 55, '__dict__': <attribute '__dict__' of 'Person' objects>, '__weakref__': <attribute '__weakref__' of 'Person' objects>, '__doc__': None}\n",
      "******************************\n",
      "55\n"
     ]
    }
   ],
   "source": [
    "#  私有变量案列\n",
    "\n",
    "class Person():\n",
    "    #  name是共有的成员\n",
    "    name = \"sda\"\n",
    "    # __age就是私有成员\n",
    "    __age = 55\n",
    "    \n",
    "p = Person()\n",
    "#name是公有变量\n",
    "print(p.name)\n",
    "#age是私有变量\n",
    "#注意报错信息\n",
    "#print(p.__age)\n",
    "# name mangling技术\n",
    "\n",
    "print(Person.__dict__)\n",
    "\n",
    "print(\"*\"*30)\n",
    "print(p._Person__age)"
   ]
  },
  {
   "cell_type": "code",
   "execution_count": 2,
   "metadata": {},
   "outputs": [
    {
     "ename": "NameError",
     "evalue": "name 'Person' is not defined",
     "output_type": "error",
     "traceback": [
      "\u001b[1;31m---------------------------------------------------------------------------\u001b[0m",
      "\u001b[1;31mNameError\u001b[0m                                 Traceback (most recent call last)",
      "\u001b[1;32m<ipython-input-2-5585149af158>\u001b[0m in \u001b[0;36m<module>\u001b[1;34m()\u001b[0m\n\u001b[0;32m      1\u001b[0m \u001b[1;31m# name mangling技术\u001b[0m\u001b[1;33m\u001b[0m\u001b[1;33m\u001b[0m\u001b[0m\n\u001b[0;32m      2\u001b[0m \u001b[1;33m\u001b[0m\u001b[0m\n\u001b[1;32m----> 3\u001b[1;33m \u001b[0mprint\u001b[0m\u001b[1;33m(\u001b[0m\u001b[0mPerson\u001b[0m\u001b[1;33m.\u001b[0m\u001b[0m__dict__\u001b[0m\u001b[1;33m)\u001b[0m\u001b[1;33m\u001b[0m\u001b[0m\n\u001b[0m\u001b[0;32m      4\u001b[0m \u001b[0mprint\u001b[0m\u001b[1;33m(\u001b[0m\u001b[0mp\u001b[0m\u001b[1;33m.\u001b[0m\u001b[0m_Person__age\u001b[0m\u001b[1;33m)\u001b[0m\u001b[1;33m\u001b[0m\u001b[0m\n",
      "\u001b[1;31mNameError\u001b[0m: name 'Person' is not defined"
     ]
    }
   ],
   "source": []
  },
  {
   "cell_type": "code",
   "execution_count": 18,
   "metadata": {},
   "outputs": [
    {
     "name": "stdout",
     "output_type": "stream",
     "text": [
      "noname\n",
      "******************************\n",
      "22\n",
      "{'__module__': '__main__', 'name': 'noname', 'age': 22, '_Person33__score': 0, '_Person33__petname': 'sec', 'asd': <function Person33.asd at 0x0000019DA9842D08>, '__dict__': <attribute '__dict__' of 'Person33' objects>, '__weakref__': <attribute '__weakref__' of 'Person33' objects>, '__doc__': None}\n",
      "0\n",
      "sec\n"
     ]
    }
   ],
   "source": [
    "class Person33():\n",
    "    name = \"noname\"\n",
    "    age = 22\n",
    "    __score = 0\n",
    "    __petname = \"sec\"  #小明是受保护的，子类可以用，但是不能公用\n",
    "    \n",
    "    def asd(self):\n",
    "        print(\"我在休息中。。。。\")\n",
    "        \n",
    "class Teacher(Person33):\n",
    "    name = \"asdsa\"\n",
    "    def zxc(self):\n",
    "        pass\n",
    "    \n",
    "h = Person33()\n",
    "print(h.name)\n",
    "print(\"*\" * 30)\n",
    "print(Teacher.age)\n",
    "### 如何访问私有变量\n",
    "print(Person33.__dict__)\n",
    "print(h._Person33__score)\n",
    "print(h._Person33__petname)"
   ]
  },
  {
   "cell_type": "code",
   "execution_count": 28,
   "metadata": {},
   "outputs": [
    {
     "name": "stdout",
     "output_type": "stream",
     "text": [
      "上班中。。。。\n",
      "我在挣钱\n",
      "我在挣钱\n"
     ]
    }
   ],
   "source": [
    "# 子类扩充父类功能案列\n",
    "# 人由工作的函数，老师也由工作的函数，但是老师的工作需要讲课\n",
    "class Person33():\n",
    "    name = \"noname\"\n",
    "    age = 22\n",
    "    __score = 0\n",
    "    __petname = \"sec\"  #小明是受保护的，子类可以用，但是不能公用\n",
    "    \n",
    "    def work(self):\n",
    "        print(\"上班中。。。。\")\n",
    "        \n",
    "class Teacher(Person33):\n",
    "    teacher_id = \"51244\"\n",
    "    name = \"王大\"\n",
    "    def make_test(self):\n",
    "        print(\"我在挣钱\")\n",
    "    def work(self):\n",
    "        #扩充父类的功能只需要调用父类相应的函数\n",
    "        #Person33.work(self)\n",
    "        #扩充的另一种方法\n",
    "        #super代表得到父类\n",
    "        super().work()\n",
    "        self.make_test()\n",
    "t = Teacher()\n",
    "t.work()\n",
    "t.make_test()"
   ]
  },
  {
   "cell_type": "markdown",
   "metadata": {},
   "source": [
    "# 多态\n",
    "- 多态就是同一个对象在不用情况下有不同的状态出现\n",
    "- 多态不是语法，是一种设计思路\n",
    "- 多态性：一种调用方式，不同执行的效果\n",
    "- 多态：同一事物的多种形态，动物分为人类，狗类等\n",
    "- 文章：(http://www.cnblogs.com/luchuangao/p/6739557.html)\n",
    "- Mixin设计模式\n",
    "  - 主要采用多继承方式对类的功能进行扩张\n",
    "  - Mixin的概念\n",
    "  - MRO与mixin\n",
    "  - Mixin模式\n",
    "  - Mixin MRO\n",
    "  - MRO\n",
    "- 我们使用多继承语法来实现Mixin\n",
    "- 使用ixin实现多继承的时候要多加小心\n",
    "  - 首先他必须表示某一单一功能，而不是某个物品\n",
    "  - 职责必须单一，如果由多个功能，则写多个Mixin\n",
    "  - Mixin不能依赖于子类的实现\n",
    "  - 子类及时没有继承这个Mixin类，也能照样工作，只是缺少了某个功能。\n",
    "- 优点：\n",
    "  - 使用Mixin可以在不对类进行任何修改的情况下，扩充功能。\n",
    "  - 可以方便的组织和维护不同功能类的组合。\n",
    "  - 可以根据需要任意调整功能类的组合。\n",
    "  - 可以避免创建很多新的类，导致类的继承混乱。\n",
    "  \n",
    "  \n",
    "- 类相关函数\n",
    "  - issubclass：检测一个类是否是另一个类的子类。\n",
    "  - isinstance：检测一个对象是否是一个类的实例。。\n",
    "  - hasattr：检测一个对象是否由xxx\n",
    "  - getattr：get attribute\n",
    "  - setattr：set attribute\n",
    "  - delattr：delete attribute\n",
    "  - dir：获取对象的成员列表\n",
    " \n",
    " ###\n",
    "- 类的成员描述符(属性）\n",
    "  - 类的成员描述符是为了在类中对类的成员属性进行相关操作而创建的一种方式\n",
    "    - get:获取属性的操作\n",
    "    - set：修改或者添加属性操作\n",
    "    - delete：删除属性的操作\n",
    "    \n",
    "- 如果想使用类的成员描述符，大概有三种方法\n",
    "  - 使用类实现描述器\n",
    "  - 使用属性修改符\n",
    "  - 使用property函数：\n",
    "    - property函数很简单\n",
    "    - property（fget，fset，fdel，doc）\n",
    "\n",
    "- 无论哪种修饰符都是为了对成员属性进行相应的控制\n",
    "  - 类的方式： 适合多个类中的多个属性共用一个描述符\n",
    "  - property: 使用当前类中使用，可以控制一个类中多个属性\n",
    "  - 属性修饰符：使用与当前类中使用，控制一个类中的一个属性\n",
    " \n",
    "###  \n",
    "- 类的内置属性\n",
    "  - __dict__:以字典的方式显示类的成员组成\n",
    "  - __doc__:获取类的文档信息\n",
    "  - __name__:获取类的名称，如果模式中使用，获取模块的名称\n",
    "  - __bases__: 获取某个类的所有父类，以元组的方式显示\n",
    "  \n",
    "###\n",
    "- 类的常用魔法方法\n",
    "  - 魔法方法就是不需要人为调用，基本是在特定的时刻自动触发\n",
    "    - 魔术方法的同意特征，方法名被前后两个下滑线包裹\n",
    "    - 构造函数：__init__   直接触发\n",
    "    - __new__: 此函数特殊，一般不需要使用\n",
    "    - __call__: 对象当函数使用的时候触发\n",
    "    - __str__: 当对象被当做字符串使用的时候\n",
    "    - __repr__: 返回字符串，跟‘__str__'具体区别可以百度\n",
    "  - 描述符相关：\n",
    "    - __set__\n",
    "    - __get__\n",
    "    - __delete__\n",
    "  - 属性操作相关\n",
    "    - __getattr__: 访问一个不存在的属性时触发\n",
    "    - __setsttr__: 对成员属性进行设置的时候触发\n",
    "      - 参数：\n",
    "        - self用来获取当前对象\n",
    "        - 被设置的属性名称，以字符串形式出现\n",
    "        - 需要对属性名称设置的值\n",
    "      - 作用： 进行属性设置的时候进行验证或者修改\n",
    "      - 注意：在该方法中不能对属性直接赋值操作，否则死循环\n",
    "    \n",
    "  - 运算分类相关魔法函数方法\n",
    "    - __gt__ ：进行大于判断的时候触发的函数\n",
    "    - 参数：\n",
    "      - self\n",
    "      - 第二个参数是第二个对象\n",
    "      - 返回值可以任意值，推荐返回布尔值\n",
    "      \n",
    "###\n",
    "- 类和对象的三种方法\n",
    "  - 实例方法\n",
    "    - 需要实例化对象才能使用的方法，使用过程中可能需要截止对象的其他对象的方法完成\n",
    "  - 静态方法\n",
    "    - 不需要实例化，通过类直接访问\n",
    "  - 类方法\n",
    "    - 不需要实例化\n",
    "    - 具体区别百度\n",
    "    \n",
    "    \n",
    "### \n",
    "- 抽象类\n",
    "  - 抽象方法： 没有具体实现内容的方法成为抽象方法\n",
    "  - 抽象方法的主要意义是规范子类的行为和接口\n",
    "  - 抽象类的使用需要借助abc模块\n",
    "  -     import abc\n",
    "  - 抽象类：包括抽象方法的类叫抽象类，通常成为ABC类\n",
    "- 抽象类的使用：\n",
    "  - 抽象类可以包括抽象方法，也可以包括具体方法\n",
    "  - 抽象类中可以有方法也可以有属性\n",
    "  - 抽象类中不允许直接实例化\n",
    "  - 必须继承才可以使用，且继承的子类必须实现所有继承来的抽象方法\n",
    "  - 假定子类没有是现实所有继承的抽象方法，则子类也不能实例化\n",
    "  - 抽象类的主要作用是设定类的标准，以便开发的时候具有统一的规范\n",
    "  \n",
    "###\n",
    "- 自定义类\n",
    "  - 类其实是一个类定义和各种方法的自由组合\n",
    "  - 可以定义类和函数，然后自己通过类直接赋值\n",
    "  - 可以借助于MethodType实现\n",
    "  - 借助于type实现\n",
    "  - 利用元类实现 Metaclass\n",
    "    - 元类是类\n",
    "    - 备用来创造别的类"
   ]
  },
  {
   "cell_type": "code",
   "execution_count": 26,
   "metadata": {},
   "outputs": [
    {
     "name": "stdout",
     "output_type": "stream",
     "text": [
      "hai,my name is YFH\n",
      "hai,my name is XX\n"
     ]
    }
   ],
   "source": [
    "# 属性案列\n",
    "# 创建Student类，描述学生类\n",
    "# 学生具有Student.name 属性\n",
    "# 但是name格式并不同意\n",
    "class Student():\n",
    "    def __init__(self,name,age):\n",
    "        self.name = name\n",
    "        self.age = age\n",
    "        self.setName(name)\n",
    "    def intro(self):\n",
    "        print(\"hai,my name is {0}\".format(self.name))\n",
    "    \n",
    "    def setName(self, name):\n",
    "        self.name = name.upper()\n",
    "        \n",
    "s1 = Student(\"YFH\",22)\n",
    "s2 = Student(\"xx\",21)\n",
    "\n",
    "s1.intro()\n",
    "s2.intro()"
   ]
  },
  {
   "cell_type": "code",
   "execution_count": 3,
   "metadata": {},
   "outputs": [
    {
     "name": "stdout",
     "output_type": "stream",
     "text": [
      "TNDNAKUINNKNKNATNDNAKUINNKNKNATNDNAKUINNKNKNA\n"
     ]
    }
   ],
   "source": [
    "#property案列\n",
    "#对于任意输入的姓名，我们希望都用大写保存\n",
    "# 年龄用整数保存\n",
    "#  x = property（fget，fset，fdel，doc）\n",
    "\n",
    "class Person():\n",
    "    #函数名可以任意\n",
    "    def fget(self):   #功能是：对变量进行读取操作的时候应该执行的函数功能\n",
    "        return self._name * 3\n",
    "    \n",
    "    def fset(self,name):   #模拟对变量进行写操作的时候进行的功能\n",
    "        self._name = name.upper()\n",
    "        \n",
    "    def fdel(self):     # fdel模拟的是删除变量的时候进行的操作\n",
    "        self._name = \"noname\"\n",
    "        \n",
    "        \n",
    "    name = property(fget,fset,fdel)\n",
    "        \n",
    "p1 = Person()\n",
    "p1.name = \"TndnakUInnknkna\"\n",
    "print(p1.name)"
   ]
  },
  {
   "cell_type": "code",
   "execution_count": 19,
   "metadata": {},
   "outputs": [
    {
     "name": "stdout",
     "output_type": "stream",
     "text": [
      "21\n"
     ]
    }
   ],
   "source": [
    "#将输入的浮点数  输出整数\n",
    "\n",
    "class Person11():\n",
    "    \n",
    "    '''\n",
    "    但是肯定把可大大大健康查看大师课打开擦擦可参考ckak\n",
    "    '''\n",
    "    #函数名可以任意\n",
    "    def fget(self):\n",
    "        return self._age \n",
    "    \n",
    "    def fset(self,age):\n",
    "        self._age = int(age)\n",
    "        \n",
    "    def fdel(self):\n",
    "        self._age = \"no age\"\n",
    "        \n",
    "        \n",
    "    age = property(fget,fset,fdel)\n",
    "        \n",
    "p2 = Person11()\n",
    "p2.age = 21.23545\n",
    "print(p2.age)"
   ]
  },
  {
   "cell_type": "code",
   "execution_count": 14,
   "metadata": {},
   "outputs": [
    {
     "data": {
      "text/plain": [
       "2"
      ]
     },
     "execution_count": 14,
     "metadata": {},
     "output_type": "execute_result"
    }
   ],
   "source": [
    "int(2.3355)\n"
   ]
  },
  {
   "cell_type": "code",
   "execution_count": 23,
   "metadata": {},
   "outputs": [
    {
     "name": "stdout",
     "output_type": "stream",
     "text": [
      "{'__module__': '__main__', '__doc__': '\\n    但是肯定把可大大大健康查看大师课打开擦擦可参考ckak\\n    ', 'fget': <function Person11.fget at 0x000001E9726D70D0>, 'fset': <function Person11.fset at 0x000001E9726D7158>, 'fdel': <function Person11.fdel at 0x000001E9726D71E0>, 'age': <property object at 0x000001E9726CDA48>, '__dict__': <attribute '__dict__' of 'Person11' objects>, '__weakref__': <attribute '__weakref__' of 'Person11' objects>}\n",
      "\n",
      "    但是肯定把可大大大健康查看大师课打开擦擦可参考ckak\n",
      "    \n",
      "Person11\n",
      "(<class 'object'>,)\n"
     ]
    }
   ],
   "source": [
    "# 类的内置属性\n",
    "print(Person11.__dict__)\n",
    "print(Person11.__doc__)\n",
    "print(Person11.__name__)\n",
    "print(Person11.__bases__)"
   ]
  },
  {
   "cell_type": "code",
   "execution_count": 28,
   "metadata": {},
   "outputs": [
    {
     "name": "stdout",
     "output_type": "stream",
     "text": [
      "我是构造函数\n",
      "我被调用了\n",
      "哈哈哈\n"
     ]
    }
   ],
   "source": [
    "#魔法函数 实例化方法\n",
    "class A():\n",
    "    def __init__(self):\n",
    "        print(\"我是构造函数\")\n",
    "        \n",
    "    def __call__(self):\n",
    "        print(\"我被调用了\")\n",
    "    \n",
    "    def __str__(self):\n",
    "        return \"哈哈哈\"\n",
    "        \n",
    "        \n",
    "a = A()  # 构造函数__init__  直接触发\n",
    "a()  #  __call__: 对象当函数使用的时候触发\n",
    "print(a)#  __str__: 当对象被当做字符串使用的时候"
   ]
  },
  {
   "cell_type": "code",
   "execution_count": 35,
   "metadata": {},
   "outputs": [
    {
     "name": "stdout",
     "output_type": "stream",
     "text": [
      "noname\n",
      "******************************\n",
      "haadadka \n",
      "addr\n",
      "None\n"
     ]
    }
   ],
   "source": [
    "#__getattr__ 案列\n",
    "\n",
    "class A():\n",
    "    name = \"noname\"\n",
    "    age = 22\n",
    "    \n",
    "    def __getattr__(self,hhhh):\n",
    "        print(\"haadadka \")\n",
    "        print(hhhh)\n",
    "        \n",
    "b = A()\n",
    "print(b.name)\n",
    "print(\"*\"*30)\n",
    "print(b.addr)   #访问一个不存在的属性时触发"
   ]
  },
  {
   "cell_type": "code",
   "execution_count": 13,
   "metadata": {},
   "outputs": [
    {
     "name": "stdout",
     "output_type": "stream",
     "text": [
      "{}\n",
      "设置属性：age\n"
     ]
    }
   ],
   "source": [
    "#   __setsttr__: 对成员属性进行设置的时候触发\n",
    "\n",
    "class Person():\n",
    "    def __init__(self):\n",
    "        pass\n",
    "    \n",
    "    def __setattr__(self,name,value): \n",
    "        print(\"设置属性：{0}\".format(name))\n",
    "        #下面会导致死循环\n",
    "        #self.name = value\n",
    "        # 此种情况，为了避免死循环，规定统一调用父类魔法函数\n",
    "        super().__setattr__(name,value)\n",
    "p = Person()\n",
    "print(p.__dict__)\n",
    "p.age = 21"
   ]
  },
  {
   "cell_type": "code",
   "execution_count": 18,
   "metadata": {},
   "outputs": [
    {
     "name": "stdout",
     "output_type": "stream",
     "text": [
      "哈哈哈，<__main__.Student object at 0x00000266287B9400>会比<__main__.Student object at 0x00000266287B9048>大吗？？\n",
      "False\n"
     ]
    }
   ],
   "source": [
    "# __gt__案列  进行大于判断的时候触发的函数\n",
    "\n",
    "class Student():\n",
    "    def __init__(self,name):\n",
    "        self._name = name\n",
    "        \n",
    "    def __gt__(self,kk):\n",
    "        print(\"哈哈哈，{0}会比{1}大吗？？\".format(self,kk))\n",
    "        return self._name > kk._name\n",
    "    \n",
    "stu1 = Student(\"one\")\n",
    "stu2 = Student(\"two\")\n",
    "print(stu1 > stu2)"
   ]
  },
  {
   "cell_type": "code",
   "execution_count": 30,
   "metadata": {},
   "outputs": [
    {
     "name": "stdout",
     "output_type": "stream",
     "text": [
      "<__main__.Person object at 0x00000266287B9860>\n",
      "Eating....\n",
      "<class '__main__.Person'>\n",
      "palying...\n",
      "<class '__main__.Person'>\n",
      "palying...\n",
      "saying...\n",
      "saying...\n"
     ]
    }
   ],
   "source": [
    "#  类和对象的三种方法\n",
    "\n",
    "class Person():\n",
    "    #实例方法\n",
    "    def eat(self):\n",
    "        print(self)\n",
    "        print(\"Eating....\")\n",
    "        \n",
    "    # 类方法\n",
    "    #类方法的第一个参数，一般命名为cls，区别于self\n",
    "    @classmethod    # 类似一个声明\n",
    "    def paly(cls):\n",
    "        print(cls)\n",
    "        print(\"palying...\")\n",
    "        \n",
    "    #静态方法\n",
    "    #不需要用第一个参数表示自身或者类\n",
    "    @staticmethod\n",
    "    def say():\n",
    "        print(\"saying...\")\n",
    "        \n",
    "yueyue = Person()\n",
    "yueyue.eat()   #实例方法\n",
    "\n",
    "Person.paly()   #类方法\n",
    "yueyue.paly()\n",
    "\n",
    "Person.say()    #静态方法\n",
    "yueyue.say()"
   ]
  },
  {
   "cell_type": "code",
   "execution_count": 36,
   "metadata": {},
   "outputs": [
    {
     "name": "stdout",
     "output_type": "stream",
     "text": [
      "haha\n",
      "刘大拿\n"
     ]
    }
   ],
   "source": [
    "# 变量的三种方法\n",
    "\n",
    "class A():\n",
    "    def __init__(self):\n",
    "        self.name = \"haha\"\n",
    "        self.age = 33\n",
    "        \n",
    "a = A()\n",
    "print(a.name)\n",
    "a.name\n",
    "# 属性的三种方法\n",
    "# 1、赋值\n",
    "# 2、读取\n",
    "# 3、删除\n",
    "a.name = \"刘大拿\"\n",
    "print(a.name)\n",
    "del a.name\n"
   ]
  },
  {
   "cell_type": "code",
   "execution_count": 1,
   "metadata": {},
   "outputs": [
    {
     "name": "stdout",
     "output_type": "stream",
     "text": [
      "我被写入了\n",
      "我被读取了\n",
      "xxx学院刘大拿\n"
     ]
    }
   ],
   "source": [
    "# 类属性 property\n",
    "#应用场景\n",
    "# 对变量除了普通的三种操作，还想增加一些附加的操作，那么可以通过property完成\n",
    "class A():\n",
    "    def __init__(self):\n",
    "        self.name = \"haha\"\n",
    "        self.age = 22\n",
    "        \n",
    "    def fget(self):    #功能是：对变量进行读取操作的时候应该执行的函数功能\n",
    "        print(\"我被读取了\")\n",
    "        return self.name\n",
    "    \n",
    "    def fset(self, name):   #模拟对变量进行写操作的时候进行的功能\n",
    "        print(\"我被写入了\")\n",
    "        self.name = \"xxx学院\"  + name \n",
    "        \n",
    "    def fdel(self):   # fdel模拟的是删除变量的时候进行的操作\n",
    "        pass\n",
    "    \n",
    "    name2 = property(fget, fset, fdel, \"这是一个property的例子\")\n",
    "        \n",
    "pp = A()\n",
    "pp.name2 = \"刘大拿\"\n",
    "print(pp.name2)"
   ]
  },
  {
   "cell_type": "code",
   "execution_count": 5,
   "metadata": {},
   "outputs": [
    {
     "name": "stdout",
     "output_type": "stream",
     "text": [
      "闻了闻对方的味道\n",
      "******************************\n",
      "kiss you\n"
     ]
    }
   ],
   "source": [
    "# 抽象   \n",
    "class Aanmel():\n",
    "    def sayhai(self):\n",
    "        pass\n",
    "    \n",
    "class Dog(Aanmel):\n",
    "    def sayhai(self):\n",
    "        print(\"闻了闻对方的味道\")\n",
    "    \n",
    "class Person(Aanmel):\n",
    "    def sayhai(self):\n",
    "        print(\"kiss you\")\n",
    "        \n",
    "d = Dog()\n",
    "d.sayhai()\n",
    "print(\"*\" * 30)\n",
    "p = Person()\n",
    "p.sayhai()\n"
   ]
  },
  {
   "cell_type": "code",
   "execution_count": 13,
   "metadata": {},
   "outputs": [],
   "source": [
    "#  抽象类的实现\n",
    "\n",
    "import abc\n",
    "\n",
    "# 声明一个类并且指定当前类的元类\n",
    "class Human(metaclass=abc.ABCMeta):\n",
    "    \n",
    "    #定义一个抽象的方法\n",
    "    @abc.abstractmethod\n",
    "    def smoking(self):\n",
    "        pass\n",
    "    \n",
    "    #定义类的抽象方法\n",
    "    @abc.abstractclassmethod\n",
    "    def drink(self):\n",
    "        pass\n",
    "    \n",
    "    \n",
    "    #定义静态抽象方法\n",
    "    @abc.abstractstaticmethod\n",
    "    def paly(self):\n",
    "        pass\n"
   ]
  },
  {
   "cell_type": "code",
   "execution_count": 17,
   "metadata": {},
   "outputs": [
    {
     "name": "stdout",
     "output_type": "stream",
     "text": [
      "你好yueyue,晚上有空吗\n",
      "$$$$$$$$$$$$$$$$$$$$$$$$$$$$$$$$$$$$$$$$\n",
      "你好月月,晚上有空吗\n"
     ]
    }
   ],
   "source": [
    "# 函数名可以当变量使用\n",
    "def sayhello(name):\n",
    "    print(\"你好{},晚上有空吗\".format(name))\n",
    "    \n",
    "sayhello(\"yueyue\")\n",
    "print(\"$$\"*20)\n",
    "kkkk = sayhello\n",
    "kkkk(\"月月\")"
   ]
  },
  {
   "cell_type": "code",
   "execution_count": 19,
   "metadata": {},
   "outputs": [
    {
     "name": "stdout",
     "output_type": "stream",
     "text": [
      "saying....\n",
      "$$$$$$$$$$$$$$$$$$$$$$$$$$$$$$$$$$$$$$$$\n",
      "saying....\n",
      "$$$$$$$$$$$$$$$$$$$$$$$$$$$$$$$$$$$$$$$$\n",
      "saying....\n"
     ]
    }
   ],
   "source": [
    "#自己组装一个类\n",
    "\n",
    "class A():\n",
    "    pass\n",
    "def say(self):\n",
    "    print(\"saying....\")\n",
    "    \n",
    "class B():\n",
    "    def say(self):\n",
    "        print(\"saying....\")  \n",
    "    \n",
    "say(8)\n",
    "print(\"$$\"*20)\n",
    "A.say = say\n",
    "a = A()\n",
    "a.say()\n",
    "print(\"$$\"*20)\n",
    "b = B()\n",
    "b.say()"
   ]
  },
  {
   "cell_type": "code",
   "execution_count": 21,
   "metadata": {},
   "outputs": [
    {
     "name": "stdout",
     "output_type": "stream",
     "text": [
      "saying....\n"
     ]
    }
   ],
   "source": [
    "#  自己组装类的例子\n",
    "from types import MethodType\n",
    "\n",
    "class A():\n",
    "    pass\n",
    "def say(self):\n",
    "    print(\"saying....\")\n",
    "    \n",
    "a = A()\n",
    "a.say = MethodType(say , A)\n",
    "a.say()"
   ]
  },
  {
   "cell_type": "code",
   "execution_count": 24,
   "metadata": {},
   "outputs": [
    {
     "name": "stdout",
     "output_type": "stream",
     "text": [
      "Help on class method in module builtins:\n",
      "\n",
      "class method(object)\n",
      " |  method(function, instance)\n",
      " |  \n",
      " |  Create a bound instance method object.\n",
      " |  \n",
      " |  Methods defined here:\n",
      " |  \n",
      " |  __call__(self, /, *args, **kwargs)\n",
      " |      Call self as a function.\n",
      " |  \n",
      " |  __delattr__(self, name, /)\n",
      " |      Implement delattr(self, name).\n",
      " |  \n",
      " |  __eq__(self, value, /)\n",
      " |      Return self==value.\n",
      " |  \n",
      " |  __ge__(self, value, /)\n",
      " |      Return self>=value.\n",
      " |  \n",
      " |  __get__(self, instance, owner, /)\n",
      " |      Return an attribute of instance, which is of type owner.\n",
      " |  \n",
      " |  __getattribute__(self, name, /)\n",
      " |      Return getattr(self, name).\n",
      " |  \n",
      " |  __gt__(self, value, /)\n",
      " |      Return self>value.\n",
      " |  \n",
      " |  __hash__(self, /)\n",
      " |      Return hash(self).\n",
      " |  \n",
      " |  __le__(self, value, /)\n",
      " |      Return self<=value.\n",
      " |  \n",
      " |  __lt__(self, value, /)\n",
      " |      Return self<value.\n",
      " |  \n",
      " |  __ne__(self, value, /)\n",
      " |      Return self!=value.\n",
      " |  \n",
      " |  __new__(*args, **kwargs) from builtins.type\n",
      " |      Create and return a new object.  See help(type) for accurate signature.\n",
      " |  \n",
      " |  __reduce__(...)\n",
      " |      helper for pickle\n",
      " |  \n",
      " |  __repr__(self, /)\n",
      " |      Return repr(self).\n",
      " |  \n",
      " |  __setattr__(self, name, value, /)\n",
      " |      Implement setattr(self, name, value).\n",
      " |  \n",
      " |  ----------------------------------------------------------------------\n",
      " |  Data descriptors defined here:\n",
      " |  \n",
      " |  __func__\n",
      " |      the function (or other callable) implementing a method\n",
      " |  \n",
      " |  __self__\n",
      " |      the instance to which a method is bound\n",
      "\n"
     ]
    }
   ],
   "source": [
    "help(MethodType)\n"
   ]
  },
  {
   "cell_type": "code",
   "execution_count": 60,
   "metadata": {},
   "outputs": [
    {
     "name": "stdout",
     "output_type": "stream",
     "text": [
      "saying...\n"
     ]
    },
    {
     "ename": "AttributeError",
     "evalue": "'AName' object has no attribute 'class_hi'",
     "output_type": "error",
     "traceback": [
      "\u001b[1;31m---------------------------------------------------------------------------\u001b[0m",
      "\u001b[1;31mAttributeError\u001b[0m                            Traceback (most recent call last)",
      "\u001b[1;32m<ipython-input-60-345482386001>\u001b[0m in \u001b[0;36m<module>\u001b[1;34m()\u001b[0m\n\u001b[0;32m     15\u001b[0m \u001b[0ma\u001b[0m \u001b[1;33m=\u001b[0m \u001b[0mA\u001b[0m\u001b[1;33m(\u001b[0m\u001b[1;33m)\u001b[0m\u001b[1;33m\u001b[0m\u001b[0m\n\u001b[0;32m     16\u001b[0m \u001b[0ma\u001b[0m\u001b[1;33m.\u001b[0m\u001b[0mclass_say\u001b[0m\u001b[1;33m(\u001b[0m\u001b[1;33m)\u001b[0m\u001b[1;33m\u001b[0m\u001b[0m\n\u001b[1;32m---> 17\u001b[1;33m \u001b[0ma\u001b[0m\u001b[1;33m.\u001b[0m\u001b[0mclass_hi\u001b[0m\u001b[1;33m(\u001b[0m\u001b[1;34m\"AName\"\u001b[0m\u001b[1;33m)\u001b[0m\u001b[1;33m\u001b[0m\u001b[0m\n\u001b[0m",
      "\u001b[1;31mAttributeError\u001b[0m: 'AName' object has no attribute 'class_hi'"
     ]
    }
   ],
   "source": [
    "#利用type造一个函数\n",
    "# 先定义类应该具有的成员函数\n",
    "\n",
    "def say(self):\n",
    "    print(\"saying...\")\n",
    "    \n",
    "def hi(self):\n",
    "    print(\"talking...\")\n",
    "    \n",
    "#利用type来创建一个类\n",
    "\n",
    "A = type(\"AName\",(object,  ),{\"class_say\":say, \"calss_hi\":hi})\n",
    "\n",
    "#然后就可以像正常一样使用类\n",
    "a = A()\n",
    "a.class_say()\n"
   ]
  },
  {
   "cell_type": "code",
   "execution_count": 66,
   "metadata": {},
   "outputs": [
    {
     "name": "stdout",
     "output_type": "stream",
     "text": [
      "哈哈，我是一个元类\n",
      "0001\n",
      "北京海淀区\n"
     ]
    }
   ],
   "source": [
    "# 元类演示\n",
    "\n",
    "# 元类写法是固定的 ，塔必须是继承type\n",
    "#元类一般命名以MetaClass结尾\n",
    "class TulingMetaClss(type):\n",
    "    #注意一下写法\n",
    "    def __new__(cls,name,bases,attrs):\n",
    "        #自己的业务处理\n",
    "        print(\"哈哈，我是一个元类\")\n",
    "        attrs['id'] = '0001'\n",
    "        attrs['addr'] = \"北京海淀区\"\n",
    "        return type.__new__(cls,name,bases,attrs)\n",
    "    \n",
    "#元类定义完就可以使用，使用注意写法\n",
    "\n",
    "class Taecher(object,metaclass=TulingMetaClss):\n",
    "    pass\n",
    "\n",
    "t = Taecher()\n",
    "print(t.id)\n",
    "print(t.addr)"
   ]
  },
  {
   "cell_type": "code",
   "execution_count": 68,
   "metadata": {},
   "outputs": [
    {
     "ename": "NameError",
     "evalue": "name 'attr' is not defined",
     "output_type": "error",
     "traceback": [
      "\u001b[1;31m---------------------------------------------------------------------------\u001b[0m",
      "\u001b[1;31mNameError\u001b[0m                                 Traceback (most recent call last)",
      "\u001b[1;32m<ipython-input-68-f0e1cba579c0>\u001b[0m in \u001b[0;36m<module>\u001b[1;34m()\u001b[0m\n\u001b[1;32m----> 1\u001b[1;33m \u001b[0mhelp\u001b[0m\u001b[1;33m(\u001b[0m\u001b[0mattr\u001b[0m\u001b[1;33m)\u001b[0m\u001b[1;33m\u001b[0m\u001b[0m\n\u001b[0m",
      "\u001b[1;31mNameError\u001b[0m: name 'attr' is not defined"
     ]
    }
   ],
   "source": []
  }
 ],
 "metadata": {
  "kernelspec": {
   "display_name": "Python 3",
   "language": "python",
   "name": "python3"
  },
  "language_info": {
   "codemirror_mode": {
    "name": "ipython",
    "version": 3
   },
   "file_extension": ".py",
   "mimetype": "text/x-python",
   "name": "python",
   "nbconvert_exporter": "python",
   "pygments_lexer": "ipython3",
   "version": "3.6.5"
  }
 },
 "nbformat": 4,
 "nbformat_minor": 2
}
