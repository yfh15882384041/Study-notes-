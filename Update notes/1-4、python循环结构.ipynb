{
 "cells": [
  {
   "cell_type": "markdown",
   "metadata": {},
   "source": [
    "# 循环语句\n",
    "- 重复执行某一个固定的动作或任务\n",
    "- 分类：\n",
    "  - for循环\n",
    "  - while 循环\n",
    "# for循环\n",
    "- 语句\n",
    "      for  变量 in  序列:\n",
    "       语句1\n",
    "       语句2\n",
    "       ..."
   ]
  },
  {
   "cell_type": "code",
   "execution_count": 3,
   "metadata": {},
   "outputs": [
    {
     "name": "stdout",
     "output_type": "stream",
     "text": [
      "1\n",
      "71\n",
      "2\n",
      "72\n",
      "3\n",
      "73\n",
      "4\n",
      "74\n",
      "5\n",
      "75\n",
      "6\n",
      "76\n",
      "7\n",
      "77\n",
      "8\n",
      "78\n",
      "9\n",
      "79\n"
     ]
    }
   ],
   "source": [
    "#列表知识\n",
    "#比如[1,2,3,4,5,6,7,8,9]\n",
    "list_one = [1,2,3,4,5,6,7,8,9,]\n",
    "\n",
    "for 数字 in list_one:\n",
    "    print(数字)\n",
    "    print(数字+90-20)"
   ]
  },
  {
   "cell_type": "code",
   "execution_count": 5,
   "metadata": {},
   "outputs": [
    {
     "name": "stdout",
     "output_type": "stream",
     "text": [
      "你是错的\n",
      "你是对的\n",
      "你是错的\n"
     ]
    }
   ],
   "source": [
    "#打印学生列表姓名\n",
    "\n",
    "stu_list = [\"AAAA\",\"BBBBB\",\"CCCCC\"]\n",
    "\n",
    "for stu in stu_list:\n",
    "    if stu == \"BBBBB\":\n",
    "        print(\"你是对的\")\n",
    "    else:\n",
    "        print(\"你是错的\")"
   ]
  },
  {
   "cell_type": "markdown",
   "metadata": {},
   "source": [
    "## for-else语句\n",
    "- for循环结束的时候，有时候需要执行一些收尾工作，此时需要else语句\n",
    "- else语句是可选的"
   ]
  },
  {
   "cell_type": "code",
   "execution_count": 3,
   "metadata": {},
   "outputs": [
    {
     "name": "stdout",
     "output_type": "stream",
     "text": [
      "你是错的\n",
      "你是对的\n",
      "你是错的\n",
      "都不在\n"
     ]
    }
   ],
   "source": [
    "# for-else语句\n",
    "#打印列表\n",
    "#如果没有在列表中，或者列表结束了，我们需要打印提示语句\n",
    "stu_list = [\"李二\",\"张三\",\"王五\"]\n",
    "\n",
    "for stu in stu_list:\n",
    "    if stu == \"张三\":\n",
    "        print(\"你是对的\")\n",
    "    else:\n",
    "        print(\"你是错的\")\n",
    "else:\n",
    "    print(\"都不在\")"
   ]
  },
  {
   "cell_type": "markdown",
   "metadata": {},
   "source": [
    "## break，continue，pass\n",
    "- break :无条件结束整个循环，简称循环猝死。\n",
    "- continue:继续\n",
    "- pass：只是占位符，代表这句啥也不干，没有跳过功能。"
   ]
  },
  {
   "cell_type": "code",
   "execution_count": 7,
   "metadata": {},
   "outputs": [
    {
     "name": "stdout",
     "output_type": "stream",
     "text": [
      "1\n",
      "2\n",
      "3\n",
      "4\n",
      "5\n",
      "找到了\n"
     ]
    }
   ],
   "source": [
    "#确定一个数字队列中是否包含数字7，找到一个就行了\n",
    "list_one = [1,2,3,4,5,6,7,8,7,]\n",
    "\n",
    "for 数字 in list_one:\n",
    "    if 数字 == 6:\n",
    "        print(\"找到了\")\n",
    "        break\n",
    "    else:\n",
    "        print(数字)\n",
    "    "
   ]
  },
  {
   "cell_type": "code",
   "execution_count": 12,
   "metadata": {},
   "outputs": [
    {
     "name": "stdout",
     "output_type": "stream",
     "text": [
      "找到偶数了\n",
      "2\n",
      "找到偶数了\n",
      "4\n",
      "找到偶数了\n",
      "6\n",
      "找到偶数了\n",
      "8\n"
     ]
    }
   ],
   "source": [
    "#continue语句练习\n",
    "#在数字1-10中，找所有偶数，找到偶数后并打印出来\n",
    "\n",
    "dig_one = [1,2,3,4,5,6,7,8,7,]\n",
    "for dig in dig_one:\n",
    "    if dig % 2 ==1:\n",
    "        continue\n",
    "    print(\"找到偶数了\")\n",
    "    print(dig)\n"
   ]
  },
  {
   "cell_type": "code",
   "execution_count": 15,
   "metadata": {},
   "outputs": [
    {
     "name": "stdout",
     "output_type": "stream",
     "text": [
      "找到偶数了\n",
      "2\n",
      "找到偶数了\n",
      "4\n",
      "找到偶数了\n",
      "6\n",
      "找到偶数了\n",
      "8\n"
     ]
    }
   ],
   "source": [
    "dig_one = [1,2,3,4,5,6,7,8,7,]\n",
    "for dig in dig_one:\n",
    "    if dig % 2 ==0:\n",
    "        print(\"找到偶数了\")\n",
    "        print(dig)\n",
    "#与上段程序相同\n",
    "        \n",
    "        \n",
    "       "
   ]
  },
  {
   "cell_type": "code",
   "execution_count": 18,
   "metadata": {},
   "outputs": [
    {
     "name": "stdout",
     "output_type": "stream",
     "text": [
      "太小\n"
     ]
    }
   ],
   "source": [
    "#pass案列1\n",
    "age = 19\n",
    "if age > 19:\n",
    "    pass    \n",
    "else:\n",
    "    print(\"太小\")"
   ]
  },
  {
   "cell_type": "code",
   "execution_count": 22,
   "metadata": {},
   "outputs": [
    {
     "name": "stdout",
     "output_type": "stream",
     "text": [
      "[2, 444, 523, 5242, 242]\n",
      "2\n",
      "[2, 444, 523, 5242, 242]\n",
      "444\n",
      "[2, 444, 523, 5242, 242]\n",
      "523\n",
      "[2, 444, 523, 5242, 242]\n",
      "5242\n",
      "[2, 444, 523, 5242, 242]\n",
      "242\n"
     ]
    }
   ],
   "source": [
    "#pass案列2\n",
    "ages = [2,444,523,5242,242]\n",
    "for age in ages:\n",
    "    pass\n",
    "    print(ages)\n",
    "    print(age)"
   ]
  },
  {
   "cell_type": "markdown",
   "metadata": {},
   "source": [
    "# range 函数\n",
    "- 生成有序数列\n",
    "- 生成数字队列可以定制"
   ]
  },
  {
   "cell_type": "code",
   "execution_count": 25,
   "metadata": {},
   "outputs": [
    {
     "name": "stdout",
     "output_type": "stream",
     "text": [
      "1\n",
      "2\n",
      "3\n",
      "4\n",
      "5\n",
      "6\n",
      "7\n",
      "8\n",
      "9\n",
      "10\n",
      "11\n",
      "12\n",
      "13\n",
      "14\n",
      "15\n",
      "16\n",
      "17\n",
      "18\n",
      "19\n"
     ]
    }
   ],
   "source": [
    "#range案列1\n",
    "#生成一个1-100的数字序列\n",
    "#range的生成序列的两个数（左包括，右不包括）\n",
    "#一般Python中，连个表示范围的数字都是左包括，右不包括\n",
    "dig_list = range(1,20)\n",
    "for dig in dig_list:\n",
    "    print(dig)"
   ]
  },
  {
   "cell_type": "code",
   "execution_count": 27,
   "metadata": {},
   "outputs": [
    {
     "name": "stdout",
     "output_type": "stream",
     "text": [
      "1\n",
      "2\n",
      "3\n",
      "4\n",
      "5\n",
      "6\n",
      "7\n",
      "8\n",
      "9\n"
     ]
    }
   ],
   "source": [
    "#range案列2\n",
    "#打印从1-9的数字\n",
    "for i in range(1,10):\n",
    "    print(i)\n"
   ]
  },
  {
   "cell_type": "markdown",
   "metadata": {},
   "source": [
    "# while循环\n",
    "- 一个循环语句\n",
    "- 表示当条件成立的时候，就循环，适应于不知道具体循环次数\n",
    "      \n",
    "      while 条件表达式：\n",
    "       语句块\n",
    "       \n",
    "       #另一种表达方式\n",
    "       \n",
    "       while 条件表达式：\n",
    "        语句块1\n",
    "       else：\n",
    "        语句块2"
   ]
  },
  {
   "cell_type": "code",
   "execution_count": 30,
   "metadata": {},
   "outputs": [
    {
     "name": "stdout",
     "output_type": "stream",
     "text": [
      "11\n"
     ]
    }
   ],
   "source": [
    "#while案列1\n",
    "#钱存银行,多少年可以从一万到两万块钱——11年\n",
    "benjin = 10000\n",
    "year = 0\n",
    "\n",
    "while benjin < 20000:\n",
    "    benjin = benjin*(1+0.067)\n",
    "    year += 1\n",
    "    \n",
    "print(year)"
   ]
  },
  {
   "cell_type": "code",
   "execution_count": 31,
   "metadata": {},
   "outputs": [
    {
     "name": "stdout",
     "output_type": "stream",
     "text": [
      "11\n"
     ]
    }
   ],
   "source": [
    "#while案列2\n",
    "#年利率\n",
    "benjin = 10000\n",
    "year = 0\n",
    "\n",
    "while benjin < 20000:\n",
    "    benjin = benjin*(1+0.067)\n",
    "    year += 1\n",
    "    \n",
    "else:\n",
    "    print(year)"
   ]
  }
 ],
 "metadata": {
  "kernelspec": {
   "display_name": "Python 3",
   "language": "python",
   "name": "python3"
  },
  "language_info": {
   "codemirror_mode": {
    "name": "ipython",
    "version": 3
   },
   "file_extension": ".py",
   "mimetype": "text/x-python",
   "name": "python",
   "nbconvert_exporter": "python",
   "pygments_lexer": "ipython3",
   "version": "3.6.5"
  }
 },
 "nbformat": 4,
 "nbformat_minor": 2
}
