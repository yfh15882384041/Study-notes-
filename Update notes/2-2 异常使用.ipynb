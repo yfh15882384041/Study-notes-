{
 "cells": [
  {
   "cell_type": "markdown",
   "metadata": {},
   "source": [
    "# 异常\n",
    "- 广义上的错误分为错误和异常\n",
    "- 错误指的是可以人为避免\n",
    "- 异常是指在语法逻辑正确的前提下，出现的问题\n",
    "- 在python里 ，异常时一个类，可以处理和使用"
   ]
  },
  {
   "cell_type": "markdown",
   "metadata": {},
   "source": [
    "# 异常的分类\n",
    "- 语法错误，类型错误等\n",
    "- 百度有点多\n",
    "\n",
    "\n"
   ]
  },
  {
   "cell_type": "markdown",
   "metadata": {},
   "source": [
    "# 异常处理\n",
    "- 不能保证程序永远正确运行\n",
    "- 但是，必须保证程序在最坏的情况下得到问题的妥善处理\n",
    "- Python的异常处理模块全部语法为：\n",
    "\n",
    "           try:\n",
    "               尝试实现某个操作\n",
    "               如果没有出现异常，任务就可完成\n",
    "               如果出现异常，将异常从当前代码扔出去尝试解决异常\n",
    "           except  异常类型1 ：\n",
    "             解决方案1：用于尝试在此处理异常解决问题\n",
    "             \n",
    "           except  异常类型2 ：\n",
    "             解决方案2：用于尝试在此处理异常解决问题\n",
    "           \n",
    "           except (异常类型1,异常类型2)\n",
    "             解决方案：针对多个异常使用相同的处理方式\n",
    "             \n",
    "           except：\n",
    "             解决方案：所有异常的解决方案\n",
    "             \n",
    "           else：\n",
    "             如果没有出现任何异常，将会执行此处的代码\n",
    "             \n",
    "           finally：\n",
    "             管你有没有异常都要执行的代码\n",
    "             \n",
    "- 流程：\n",
    "    \n",
    "      1.执行try下面的语句\n",
    "      2.如果出现异常，则在except语句里查找对应异常进行处理\n",
    "      3.如果没有出现异常，则执行else语句的内容\n",
    "      4.最后，不管是否出现异常，都要执行finally语句\n",
    "  - 除except（最少一个）以外，else和finally可选"
   ]
  },
  {
   "cell_type": "code",
   "execution_count": 1,
   "metadata": {},
   "outputs": [
    {
     "name": "stdout",
     "output_type": "stream",
     "text": [
      "Plz input your number: 0\n",
      "你输入的是什么？？，，输入不能为0\n"
     ]
    }
   ],
   "source": [
    "#简单的异常处理1\n",
    "\n",
    "try: \n",
    "    num = int(input(\"Plz input your number: \"))\n",
    "    rst = 100/num\n",
    "    print(\"计算结果是: {0}\".format(rst))\n",
    "except:\n",
    "    print(\"你输入的是什么？？，，输入不能为0\")\n",
    "    \n",
    "    #exit是推出程序的意思\n",
    "    exit()"
   ]
  },
  {
   "cell_type": "code",
   "execution_count": 1,
   "metadata": {},
   "outputs": [
    {
     "name": "stdout",
     "output_type": "stream",
     "text": [
      "Plz input your number: 0\n",
      "你输入的是什么？？，，输入不能为0\n",
      "division by zero\n"
     ]
    }
   ],
   "source": [
    "# 简单异常处理案列2\n",
    "# 给出提示消息\n",
    "try: \n",
    "    num = int(input(\"Plz input your number: \"))\n",
    "    rst = 100/num\n",
    "    print(\"计算结果是: {0}\".format(rst))\n",
    "# 异常捕获后，把异常实例化，出错信息在实例里\n",
    "# 注意一下写法：\n",
    "# 一下语句是捕获ZeroDivisionError异常并实例化案列e\n",
    "except ZeroDivisionError  as e:\n",
    "    print(\"你输入的是什么？？，，输入不能为0\")\n",
    "    print(e)\n",
    "    #exit是推出程序的意思\n",
    "    exit()"
   ]
  },
  {
   "cell_type": "code",
   "execution_count": 2,
   "metadata": {},
   "outputs": [
    {
     "name": "stdout",
     "output_type": "stream",
     "text": [
      "Plz input your number: ddd\n",
      "我也不知道问题出在哪了\n",
      "invalid literal for int() with base 10: 'ddd'\n",
      "******************************\n",
      "我是照常运行的\n"
     ]
    }
   ],
   "source": [
    "# 简单异常处理案列2\n",
    "# 给出提示消息\n",
    "try: \n",
    "    num = int(input(\"Plz input your number: \"))\n",
    "    rst = 100/num\n",
    "    prnit(\"计算结果是: {0}\".format(rst))#这里故意将print打错\n",
    "# 异常捕获后，把异常实例化，出错信息在实例里\n",
    "# 注意一下写法：\n",
    "# 出现多种error的情况\n",
    "# 在异常类继承关系中，越是子类的异常，越要往前放\n",
    "# 越是父亲类的异常，越要往后放\n",
    "#在处理异常的时候，一旦拦截到某一异常，则不在继续往下查，直接进行下一个\n",
    "# 代码，即有finally则执行finally语句块，否则就执行下一个大的语句\n",
    "except ZeroDivisionError  as e:\n",
    "    print(\"你输入的是什么？？，，输入不能为0\")\n",
    "    print(e)\n",
    "    #exit是推出程序的意思\n",
    "    exit()\n",
    "    \n",
    "except NameError  as e:\n",
    "    print(\"名字错误\")\n",
    "    print(e)\n",
    "    exit()\n",
    "    \n",
    "except AttributeError  as e:\n",
    "    print(\"属性错误\")\n",
    "    print(e)\n",
    "    exit()\n",
    "# 所有异常都是继承来自Exception\n",
    "# 如果写在上下面这句话，任何异常都会拦截住\n",
    "# 而且，下面这句话一定是最后一个Exception\n",
    "except Exception  as e:\n",
    "    print(\"我也不知道问题出在哪了\")\n",
    "    print(e)\n",
    "    exit()\n",
    "#下面这句话 就不会执行了   \n",
    "except ValueError  as e:\n",
    "    print(\"No>>>>>>>>>>\")\n",
    "    \n",
    "print(\"*\"*30)    \n",
    "print(\"我是照常运行的\")"
   ]
  },
  {
   "cell_type": "markdown",
   "metadata": {},
   "source": [
    "# 用户手动引发异常\n",
    "- 当某些情况，用户希望自己引发一个异常的时候，可以使用\n",
    "- raise 关键词来引发异常"
   ]
  },
  {
   "cell_type": "code",
   "execution_count": 5,
   "metadata": {},
   "outputs": [
    {
     "name": "stdout",
     "output_type": "stream",
     "text": [
      "我爱python\n",
      "3.1541215\n",
      "ValueError\n",
      "\n",
      "我肯定会被执行\n"
     ]
    }
   ],
   "source": [
    "# raise案列1\n",
    "\n",
    "try:\n",
    "    print(\"我爱python\")\n",
    "    print(3.1541215)\n",
    "    #手动引发一个异常\n",
    "    #注意语法： raise  ErrorClassName\n",
    "    raise ValueError\n",
    "    print(\"还没完哎呀\")\n",
    "    \n",
    "except NameError as e:\n",
    "    print(\"NameError\")\n",
    "    print(e)\n",
    "except ValueError as e: \n",
    "    print(\"ValueError\")\n",
    "    print(e)\n",
    "except Exception as e:\n",
    "    print(\"有异常\")\n",
    "    print(e)\n",
    "    \n",
    "finally :\n",
    "    print(\"我肯定会被执行\")"
   ]
  },
  {
   "cell_type": "code",
   "execution_count": 13,
   "metadata": {},
   "outputs": [
    {
     "name": "stdout",
     "output_type": "stream",
     "text": [
      "我爱python\n",
      "3.1541215\n",
      "DanaError\n",
      "\n",
      "我肯定会被执行\n"
     ]
    }
   ],
   "source": [
    "# raise案列1\n",
    "# 自己定义异常\n",
    "#   需要注意： 自定义异常必须是系统异常的子类\n",
    "class DanaError(ValueError):\n",
    "    pass\n",
    "    \n",
    "try:\n",
    "    print(\"我爱python\")\n",
    "    print(3.1541215)\n",
    "    #手动引发一个异常\n",
    "    #注意语法： raise  ErrorClassName\n",
    "    raise DanaError\n",
    "    print(\"还没完哎呀\")\n",
    "    \n",
    "except NameError as e:\n",
    "    print(\"NameError\")\n",
    "    print(e)\n",
    "except ValueError as e: \n",
    "    print(\"DanaError\")\n",
    "    print(e)\n",
    "except Exception as e:\n",
    "    print(\"有异常\")\n",
    "    print(e)    \n",
    "finally :\n",
    "    print(\"我肯定会被执行\")\n",
    "    \n",
    "\n"
   ]
  },
  {
   "cell_type": "code",
   "execution_count": 18,
   "metadata": {},
   "outputs": [
    {
     "name": "stdout",
     "output_type": "stream",
     "text": [
      "Plz input your number: l\n",
      "Excepttion\n",
      "我肯定会被执行\n"
     ]
    }
   ],
   "source": [
    "# else 语句案列\n",
    "try: \n",
    "    num = int(input(\"Plz input your number: \"))\n",
    "    rst = 100/num\n",
    "    print(\"计算结果是: {0}\".format(rst))\n",
    "    \n",
    "except Exception as e:\n",
    "    print(\"Excepttion\")\n",
    "else:\n",
    "    print(\"No Excepttion\")\n",
    "    \n",
    "finally:\n",
    "    print(\"我肯定会被执行\")"
   ]
  },
  {
   "cell_type": "markdown",
   "metadata": {},
   "source": [
    "# 关于自定义异常\n",
    "- 只要raise异常，则推荐自定义异常\n",
    "- 在自定义异常的时候，一般包含以下内容\n",
    "  - 自定义发生异常的异常代码\n",
    "  - 自定义发生异常后的问题提示\n",
    "  - 自定义发生异常的行数\n",
    "- 最终的目的是，一旦发生异常，方便程序员快速定位错误现场"
   ]
  },
  {
   "cell_type": "code",
   "execution_count": null,
   "metadata": {},
   "outputs": [],
   "source": []
  }
 ],
 "metadata": {
  "kernelspec": {
   "display_name": "Python 3",
   "language": "python",
   "name": "python3"
  },
  "language_info": {
   "codemirror_mode": {
    "name": "ipython",
    "version": 3
   },
   "file_extension": ".py",
   "mimetype": "text/x-python",
   "name": "python",
   "nbconvert_exporter": "python",
   "pygments_lexer": "ipython3",
   "version": "3.6.5"
  }
 },
 "nbformat": 4,
 "nbformat_minor": 2
}
