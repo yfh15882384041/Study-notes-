{
 "cells": [
  {
   "cell_type": "markdown",
   "metadata": {},
   "source": [
    "# 主要内容\n",
    "- 变量"
   ]
  },
  {
   "cell_type": "code",
   "execution_count": 1,
   "metadata": {},
   "outputs": [],
   "source": [
    "# 声明三种类型\n",
    "#格式1\n",
    "s1 = \"hahhaha\"\n",
    "\n",
    "#格式2\n",
    "s2 = s1 =\"hahahah\"\n",
    "\n",
    "#格式3\n",
    "s1,s2,s3 = \"aaaaa\",\"bbbbb\",\"ccccc\""
   ]
  },
  {
   "cell_type": "markdown",
   "metadata": {},
   "source": [
    "# 变量类型\n",
    "- 严格的意义上讲，Python只有一种\n",
    "- 标准数据类型6种\n",
    "  - 数字 number\n",
    "  - 字符串 str\n",
    "  - 列表 list\n",
    "  - 元组 tuple\n",
    "  - 字典 dict\n",
    "  - 集合 set"
   ]
  },
  {
   "cell_type": "markdown",
   "metadata": {},
   "source": [
    "# 数字类型 number\n",
    "- Python的数字没有大小限制\n",
    "# 常见数字分类\n",
    "- 整数\n",
    "  - 没有小数部分\n",
    "  - 包括整数、负数、0\n",
    "  - 二进制\n",
    "    - 只有0,1\n",
    "    - 以0b开头的01串\n",
    "  - 八进制\n",
    "    - 以0x开头的0-7的串\n",
    "  - 十六进制\n",
    "    - 以0o开头的0-9，a-f的串\n",
    "- 浮点数\n",
    "- 科学计数法\n",
    "- 复数"
   ]
  },
  {
   "cell_type": "code",
   "execution_count": 2,
   "metadata": {},
   "outputs": [
    {
     "name": "stdout",
     "output_type": "stream",
     "text": [
      "6\n"
     ]
    }
   ],
   "source": [
    "#二进制\n",
    "a = 0b110\n",
    "print(a)"
   ]
  },
  {
   "cell_type": "markdown",
   "metadata": {},
   "source": [
    "## 浮点数\n",
    "- 就是通俗意义上的小数\n",
    "- 常见的案例格式\n",
    "  - 3.1415926\n",
    "  - 3.（其实就是3.0）\n",
    "  - .4（其实就是0.4）\n",
    "- 科学计数法\n",
    "  - 与数学定义相同\n",
    "  - e之后的数字是10的指数"
   ]
  },
  {
   "cell_type": "code",
   "execution_count": 5,
   "metadata": {},
   "outputs": [
    {
     "name": "stdout",
     "output_type": "stream",
     "text": [
      "184\n",
      "184.0\n",
      "2.0\n",
      "0.2\n"
     ]
    }
   ],
   "source": [
    "#科学计数法\n",
    "height = 184\n",
    "print(height)\n",
    "\n",
    "height = 1.84e2\n",
    "print(height)\n",
    "\n",
    "f = 2.\n",
    "g =.2\n",
    "print(f)\n",
    "print(g)"
   ]
  },
  {
   "cell_type": "markdown",
   "metadata": {},
   "source": [
    "# 复数 complex\n",
    "- 与数学定义相同"
   ]
  },
  {
   "cell_type": "code",
   "execution_count": 7,
   "metadata": {},
   "outputs": [
    {
     "name": "stdout",
     "output_type": "stream",
     "text": [
      "(4+5j)\n"
     ]
    }
   ],
   "source": [
    "a = 4+5j\n",
    "print(a)"
   ]
  },
  {
   "cell_type": "markdown",
   "metadata": {},
   "source": [
    "# 布尔值\n",
    "- 布尔值就是来表示真假 \n",
    "- 只有两个值：true/false\n",
    "- 在Python中，布尔值可以当数字使用\n",
    "  - true=1，false=0\n",
    "  - 当数字使用时，0=false，其余数字都为true"
   ]
  },
  {
   "cell_type": "code",
   "execution_count": 9,
   "metadata": {},
   "outputs": [
    {
     "name": "stdout",
     "output_type": "stream",
     "text": [
      "23\n"
     ]
    }
   ],
   "source": [
    "#布尔值当数字使用\n",
    "\n",
    "age = 22 + True\n",
    "print(age)"
   ]
  },
  {
   "cell_type": "markdown",
   "metadata": {},
   "source": [
    "# 字符串\n",
    "- 引号的种类\n",
    "  - 单引号\n",
    "  - 双引号\n",
    "  - 三引号，可以表示多行信息\n",
    "- 单引号与双引号含义一致，是单行。"
   ]
  },
  {
   "cell_type": "markdown",
   "metadata": {},
   "source": [
    "# None类型\n",
    "- 表示没有，通常用来占位\n",
    "- 比如返回，用来表示返回一个空"
   ]
  },
  {
   "cell_type": "markdown",
   "metadata": {},
   "source": [
    "# 表达式\n",
    "- 由一个或者几个数字或者变量运算符合成第一行代码\n",
    "- 通常返回一个结果#\n",
    "# 运算符\n",
    "- 由一个以上的值经过一系列的运算得到新值的过程就叫运算\n",
    "- 用来操作运算的符号叫运算符\n",
    "- 运算符分类\n",
    "  - 算数运算符\n",
    "  - 比较或者关系运算符\n",
    "  - 赋值运算符\n",
    "  - 位运算\n",
    "  - 成员运算符\n",
    "  - 身份运算符"
   ]
  },
  {
   "cell_type": "code",
   "execution_count": 10,
   "metadata": {},
   "outputs": [],
   "source": [
    "#表达式案列\n",
    "a = 1 + 2"
   ]
  },
  {
   "cell_type": "markdown",
   "metadata": {},
   "source": [
    "## 算数运算符\n",
    "- 通常来表示加减乘除（与数学意义相同)\n",
    "- Python中没有自增自假运算符"
   ]
  },
  {
   "cell_type": "code",
   "execution_count": 3,
   "metadata": {},
   "outputs": [
    {
     "name": "stdout",
     "output_type": "stream",
     "text": [
      "4.5\n",
      "4\n",
      "1\n",
      "9\n"
     ]
    }
   ],
   "source": [
    "#python的除法分为普通除法、底板除、取余\n",
    "a = 9 / 2\n",
    "print(a)\n",
    "\n",
    "a = 9 // 2\n",
    "print(a)\n",
    "\n",
    "a = 9 % 2\n",
    "print(a)\n",
    "\n",
    "a = 3 ** 2\n",
    "print(a)"
   ]
  },
  {
   "cell_type": "markdown",
   "metadata": {},
   "source": [
    "# 比较运算符\n",
    "- 对两个内容进行比较的运算符\n",
    "- 结果是一个布尔值，即true或者是false\n",
    "- ==等于、！=不等于\n"
   ]
  },
  {
   "cell_type": "markdown",
   "metadata": {},
   "source": [
    "# 赋值运算符\n",
    "- 把一个值放到变量里边去（=）"
   ]
  },
  {
   "cell_type": "code",
   "execution_count": 16,
   "metadata": {},
   "outputs": [
    {
     "name": "stdout",
     "output_type": "stream",
     "text": [
      "101\n",
      "104\n"
     ]
    }
   ],
   "source": [
    "#赋值符号\n",
    "a = 9\n",
    "\n",
    "#复杂赋值\n",
    "a = b = 9\n",
    "a,b = 1,2\n",
    "\n",
    "#赋值缩写\n",
    "cc = 1\n",
    "cc = cc + 100\n",
    "print(cc)\n",
    "\n",
    "cc += 3\n",
    "print(cc)\n",
    "\n",
    "##所有数学运算符都可以缩写\n",
    "#-=、*=、/=、//=、%=、**=\n",
    "#Python里面没有++、--"
   ]
  },
  {
   "cell_type": "markdown",
   "metadata": {},
   "source": [
    "# 逻辑运算符\n",
    "- 对布尔类型变量或者只进行\n",
    "- and：逻辑与\n",
    "- or：逻辑或\n",
    "- not：逻辑非\n",
    "- Python里面没有异或\n",
    "- 运算规则：\n",
    "  - and看成乘法，or看成加法\n",
    "  - True看成1，False看成0\n",
    "  - 逻辑运算符就能转换成整数数学运算\n",
    "  - 最后结果如果是0则为False，否则是true"
   ]
  },
  {
   "cell_type": "code",
   "execution_count": 18,
   "metadata": {},
   "outputs": [
    {
     "name": "stdout",
     "output_type": "stream",
     "text": [
      "******************************\n"
     ]
    }
   ],
   "source": [
    "#字符串*数字，表示这个字符串重复多少遍\n",
    "print(\"*\"*30)"
   ]
  },
  {
   "cell_type": "markdown",
   "metadata": {},
   "source": [
    "# 成员运算符\n",
    "- 用来检测一个值或者变量是否在某个集合里面\n",
    "- in： 成员运算符\n",
    "- not in： 不在这里面的意思"
   ]
  },
  {
   "cell_type": "code",
   "execution_count": 21,
   "metadata": {},
   "outputs": [
    {
     "name": "stdout",
     "output_type": "stream",
     "text": [
      "False\n",
      "True\n"
     ]
    }
   ],
   "source": [
    "#in案列\n",
    "L = [1,2,3,4,5] \n",
    "a = 6\n",
    "aa = a in L\n",
    "print(aa)\n",
    "\n",
    "#不在\n",
    "aa = a not in L\n",
    "print(aa)"
   ]
  },
  {
   "cell_type": "markdown",
   "metadata": {},
   "source": [
    "# 身份运算符\n",
    "- 用来确定两个变量是否同一个变量\n",
    "- is：变量运算符\n",
    "- is not：不是"
   ]
  },
  {
   "cell_type": "code",
   "execution_count": 25,
   "metadata": {},
   "outputs": [
    {
     "name": "stdout",
     "output_type": "stream",
     "text": [
      "False\n",
      "True\n"
     ]
    }
   ],
   "source": [
    "#is案列\n",
    "a = 1\n",
    "b =900\n",
    "\n",
    "aa = a is b\n",
    "print(aa)\n",
    "\n",
    "#a,b仅是值一样，并不代表a，b是一个变量（在-5到255之间是Python共用一块内存，故可能主线相同的情况\n",
    "a = 9\n",
    "b = 9\n",
    "\n",
    "aa = a is b\n",
    "print(aa)\n"
   ]
  },
  {
   "cell_type": "markdown",
   "metadata": {},
   "source": [
    "# 运算符优先级问题\n",
    "- 小括号具有最高优先级\n",
    "- 具体可查\n",
    "- 优先级表格\n",
    "         **  指数 (最高优先级)\n",
    "         ~ + -   按位翻转, 一元加号和减号 \n",
    "         * / % //    乘，除，取模和取整除\n",
    "          + - 加法减法\n",
    "          >> <<   右移，左移运算符\n",
    "          &   位 'AND'\n",
    "          ^ | 位运算符\n",
    "          <= < > >=   比较运算符\n",
    "          <> == !=    等于运算符\n",
    "          = %= /= //= -= += *= **=    赋值运算符\n",
    "           is is not   身份运算符\n",
    "           in not in   成员运算符\n",
    "           not or and  逻辑运算符"
   ]
  },
  {
   "cell_type": "markdown",
   "metadata": {},
   "source": [
    "# 程序结构\n",
    "- 顺序\n",
    "- 循环\n",
    "- 分支\n",
    "## 分支结构\n",
    "- 分支结构基本语法\n",
    "  - if 条件表达式：\n",
    "       - 语句1\n",
    "       - 语句2\n",
    "       - 语句3\n",
    "       - 。。。。\n",
    "- 条件表达式的计算结果必须是布尔值\n",
    "- 表达式后面的冒号不能少\n",
    "- 注意if后面出现的语句，如果属于if语句块，则必须同一个缩进等级\n",
    "- 条件表达式结果为True执行if后面的缩进的语句块"
   ]
  },
  {
   "cell_type": "code",
   "execution_count": null,
   "metadata": {},
   "outputs": [],
   "source": [
    " "
   ]
  }
 ],
 "metadata": {
  "kernelspec": {
   "display_name": "Python 3",
   "language": "python",
   "name": "python3"
  },
  "language_info": {
   "codemirror_mode": {
    "name": "ipython",
    "version": 3
   },
   "file_extension": ".py",
   "mimetype": "text/x-python",
   "name": "python",
   "nbconvert_exporter": "python",
   "pygments_lexer": "ipython3",
   "version": "3.6.5"
  }
 },
 "nbformat": 4,
 "nbformat_minor": 2
}
